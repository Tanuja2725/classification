{
  "nbformat": 4,
  "nbformat_minor": 0,
  "metadata": {
    "colab": {
      "provenance": [],
      "include_colab_link": true
    },
    "kernelspec": {
      "name": "python3",
      "display_name": "Python 3"
    },
    "language_info": {
      "name": "python"
    }
  },
  "cells": [
    {
      "cell_type": "markdown",
      "metadata": {
        "id": "view-in-github",
        "colab_type": "text"
      },
      "source": [
        "<a href=\"https://colab.research.google.com/github/Tanuja2725/classification/blob/main/1a_ta_feng_grocery_stores.ipynb\" target=\"_parent\"><img src=\"https://colab.research.google.com/assets/colab-badge.svg\" alt=\"Open In Colab\"/></a>"
      ]
    },
    {
      "cell_type": "code",
      "execution_count": null,
      "metadata": {
        "id": "ucrjym_NsmZc",
        "colab": {
          "base_uri": "https://localhost:8080/",
          "height": 130
        },
        "outputId": "d563a925-9bda-4e1a-ac29-18f80e066d6d"
      },
      "outputs": [
        {
          "output_type": "error",
          "ename": "SyntaxError",
          "evalue": "ignored",
          "traceback": [
            "\u001b[0;36m  File \u001b[0;32m\"<ipython-input-132-a40a0a5a9924>\"\u001b[0;36m, line \u001b[0;32m77\u001b[0m\n\u001b[0;31m    \u001b[0m\n\u001b[0m    ^\u001b[0m\n\u001b[0;31mSyntaxError\u001b[0m\u001b[0;31m:\u001b[0m EOF while scanning triple-quoted string literal\n"
          ]
        }
      ],
      "source": [
        "\"\"\"\n",
        "Last amended: 25th August, 2022\n",
        "My folder: /home/ashok/Documents/ta_feng_grocerystore\n",
        "           C:\\Users\\ashok\\OneDrive\\Documents\\Ta Feng Grocery Datasets\n",
        "\n",
        "Ref:\n",
        "     https://pandas.pydata.org/pandas-docs/stable/cookbook.html#cookbook-grouping\n",
        "     https://pandas.pydata.org/pandas-docs/stable/groupby.html\n",
        "\n",
        "####################################################################3\n",
        "# Ta Feng Grocery dataset\n",
        "# Data Source: http://stackoverflow.com/questions/25014904/download-link-for-ta-feng-grocery-dataset\n",
        "#\tOther grocery datasets:\n",
        "#\t\thttps://sites.google.com/a/dlpage.phi-integration.com/pentaho/mondrian/mysql-foodmart-database/foodmart_mysql.tar.gz?attredirects=0\n",
        "#\t\thttp://recsyswiki.com/wiki/Grocery_shopping_datasets\n",
        "# References on clustering/customer segmentation or on kohonen SOM:\n",
        "# \t\t1. https://cran.r-project.org/web/views/Cluster.html\n",
        "#   \t2. http://www.shanelynn.ie/self-organising-maps-for-customer-segmentation-using-r/\n",
        "#\t\t3. General on kohonen: https://dzone.com/articles/self-organizing-maps\n",
        "#\t\t4. http://www.slideshare.net/jonsedar/customer-clustering-for-marketing\n",
        "#\n",
        "####################################################################\n",
        "\n",
        "# Objectives:\n",
        "            1. Reducing dataframe memory\n",
        "            2. Understand customer behaviour (using pandas groupby)\n",
        "            3. Chi-square Tests and mosaic plot\n",
        "            4. t-test of means\n",
        "            5. Feature Engineering\n",
        "\n",
        " ----Customer Behaviour----\n",
        " For  every customer (unique customerid)\n",
        "\t  Record his first purchase date\n",
        "\t  Record his last purchase date\n",
        "\t  Which customers purchase just one-time\n",
        "\t  Who are repeat purchasers\tor who have visited more than once\n",
        "\t  Record every customers total purchases\n",
        "\t  Record every customers average purchases\n",
        "\t  Record his basket of purchases: Variety of goods he purchases\n",
        "   Per visit/per transaction min. max items purchased and avg money spent\n",
        " For your store:\n",
        "\t  What is the distribution of customers age-wise?\n",
        "\t  What is the distribution of age, res-area-wise\n",
        "\t  Age wise what is the average purchase basket\n",
        "   Is there age preference for a particular product sub-class\n",
        " For a product-subclass\n",
        "\t  Which product-subclass brings most revenue\n",
        "   Which productids are most popular\n",
        "\tWhich productIds are most costly\n",
        "   And which customers purchase them?\n",
        " Tests:\n",
        "   IS there a relationship between age and product_subclass\n",
        "   IS there a relationship between residence_area and product_subclass\n",
        "   IS there a relationship between age and residence_area\n",
        "\n",
        " #  Is there significant difference in avg spending, age-wise\n",
        "   Is there significant difference in avg spending, residence wise\n",
        "\n",
        " Questions not answered\n",
        "   Which days of week show heavy spending\n",
        "   Which days of month show heavy spending\n",
        "   Which days of week show least spending\n",
        "   which days of month show leat spending\n",
        "   What is customer life-time value\n",
        "   What are quarter-wise sales of product (use thicken())\n",
        "# *******************************\n",
        " ----Feature Engineering ----\n",
        "# *******************************\n",
        "  i)  Add a column to d12, that has counts of product_subclass\n",
        "      as many times as it occurs (FE1)\n",
        "  ii) Add a column to d12, that has counts of (age, residence_area)\n",
        "      as many times as the combination occurs (FE2)\n",
        " iii) Add a column that has variance of (age,residence_area) wise spending (FE3)\n",
        " iv)  Create a loop for the purpose (FE4)\n",
        "\n",
        "\n",
        "\n"
      ]
    },
    {
      "cell_type": "code",
      "source": [
        "\n"
      ],
      "metadata": {
        "id": "gw9bOSTeNdow"
      },
      "execution_count": null,
      "outputs": []
    },
    {
      "cell_type": "code",
      "source": [
        "from google.colab import drive\n",
        "drive.mount('/gdrive')"
      ],
      "metadata": {
        "colab": {
          "base_uri": "https://localhost:8080/"
        },
        "id": "0k5LRQDANjJe",
        "outputId": "f8b02837-07ba-468f-ce14-37e64456ad6e"
      },
      "execution_count": null,
      "outputs": [
        {
          "output_type": "stream",
          "name": "stdout",
          "text": [
            "Drive already mounted at /gdrive; to attempt to forcibly remount, call drive.mount(\"/gdrive\", force_remount=True).\n"
          ]
        }
      ]
    },
    {
      "cell_type": "code",
      "source": [
        "with open('/gdrive/My Drive/foo.txt', 'w') as f:\n",
        "  f.write('Hello Google Drive!')\n",
        "!cat '/gdrive/My Drive/foo.txt'"
      ],
      "metadata": {
        "colab": {
          "base_uri": "https://localhost:8080/"
        },
        "id": "437YQChUNjJf",
        "outputId": "852a883a-5858-49c7-85ad-5923d3977de7"
      },
      "execution_count": null,
      "outputs": [
        {
          "output_type": "stream",
          "name": "stdout",
          "text": [
            "Hello Google Drive!"
          ]
        }
      ]
    },
    {
      "cell_type": "code",
      "source": [
        "with open('/gdrive/My Drive/foo.txt', 'w') as f:\n",
        "  f.write('Hello Google Drive!')\n",
        "!cat '/gdrive/My Drive/foo.txt'"
      ],
      "metadata": {
        "colab": {
          "base_uri": "https://localhost:8080/"
        },
        "id": "XMZmdRWLNijQ",
        "outputId": "52384bc4-8fd6-4176-d29a-10c813f70ce8"
      },
      "execution_count": null,
      "outputs": [
        {
          "output_type": "stream",
          "name": "stdout",
          "text": [
            "Hello Google Drive!"
          ]
        }
      ]
    },
    {
      "cell_type": "code",
      "source": [
        "path=\"/gdrive/MyDrive/colab_data_ files/27.08/dall.csv.zip\""
      ],
      "metadata": {
        "id": "6um4emsNNz2k"
      },
      "execution_count": null,
      "outputs": []
    },
    {
      "cell_type": "code",
      "source": [
        "\n",
        "foldarpath=\"/gdrive/MyDrive/colab_data_ files/27.08\""
      ],
      "metadata": {
        "id": "hdrKqRZCOI8y"
      },
      "execution_count": null,
      "outputs": []
    },
    {
      "cell_type": "markdown",
      "source": [
        "## Call libraries"
      ],
      "metadata": {
        "id": "NQuD_ylSyVqx"
      }
    },
    {
      "cell_type": "code",
      "source": [
        "## Call libraries\n",
        "# 1.0 Reset memory\n",
        "#     ipython magic command\n",
        "#%reset -f\n",
        "import pandas as pd\n",
        "import numpy as np\n",
        "import os\n",
        "os.chdir(foldarpath)\n",
        "\n",
        "\n",
        "# 1.1 For chi-square tests\n",
        "from scipy.stats import chi2_contingency\n",
        "\n",
        "# 1.2 For t-test\n",
        "from scipy.stats import ttest_ind\n",
        "# 1.3 Finding out score at a percentile point and\n",
        "#     pearson correlation coeff function\n",
        "from scipy.stats import scoreatpercentile, pearsonr\n",
        "\n",
        "\n",
        "# 1.4\n",
        "import matplotlib.pyplot as plt\n",
        "import seaborn as sns\n",
        "# 1.4.1 Mosaic plots\n",
        "# https://www.statsmodels.org/dev/graphics.html\n",
        "# https://www.statsmodels.org/dev/generated/statsmodels.graphics.mosaicplot.mosaic.html#statsmodels.graphics.mosaicplot.mosaic\n",
        "from statsmodels.graphics.mosaicplot import mosaic\n",
        "\n",
        "\n",
        "# 1.5 Misc facilities\n",
        "from collections import Counter\n",
        "import os, time, sys, gc\n"
      ],
      "metadata": {
        "id": "OOJ2GVsptCtF"
      },
      "execution_count": null,
      "outputs": []
    },
    {
      "cell_type": "code",
      "source": [
        "os.listdir('/gdrive/MyDrive/colab_data_ files/27.08')"
      ],
      "metadata": {
        "colab": {
          "base_uri": "https://localhost:8080/"
        },
        "id": "dVMRvt9yPQl9",
        "outputId": "1e530384-178f-4f27-bd2c-428f8e5e373a"
      },
      "execution_count": null,
      "outputs": [
        {
          "output_type": "execute_result",
          "data": {
            "text/plain": [
              "['dall.csv.zip']"
            ]
          },
          "metadata": {},
          "execution_count": 8
        }
      ]
    },
    {
      "cell_type": "code",
      "source": [
        "\n",
        "\n",
        "# 1.6 Print/display mutiple command outputs from a jupyter cell\n",
        "from IPython.core.interactiveshell import InteractiveShell\n",
        "InteractiveShell.ast_node_interactivity = \"all\""
      ],
      "metadata": {
        "id": "VY8L-8z6s7My"
      },
      "execution_count": null,
      "outputs": []
    },
    {
      "cell_type": "markdown",
      "source": [
        "## Mount gdrive"
      ],
      "metadata": {
        "id": "cX0vJ5vDyZJw"
      }
    },
    {
      "cell_type": "code",
      "source": [
        "# 1.7 Mount gdrive\n",
        "from google.colab import drive\n",
        "drive.mount('/gdrive')"
      ],
      "metadata": {
        "id": "qcRWg0hItyp6",
        "colab": {
          "base_uri": "https://localhost:8080/"
        },
        "outputId": "76564bf6-4ccb-4e82-8ef5-693f7ffbcdb0"
      },
      "execution_count": null,
      "outputs": [
        {
          "output_type": "stream",
          "name": "stdout",
          "text": [
            "Drive already mounted at /gdrive; to attempt to forcibly remount, call drive.mount(\"/gdrive\", force_remount=True).\n"
          ]
        }
      ]
    },
    {
      "cell_type": "code",
      "source": [
        "# 2.0 Set working folder and list files\n",
        "#\n",
        "pathToFolder = \"/gdrive/MyDrive/colab_data_ files/27.08\"\n",
        "os.chdir(pathToFolder)\n",
        "os.listdir()\n"
      ],
      "metadata": {
        "id": "S5jvADQpw4Ci",
        "colab": {
          "base_uri": "https://localhost:8080/"
        },
        "outputId": "3b4b5ad2-f92c-4492-ed82-449c7a783899"
      },
      "execution_count": null,
      "outputs": [
        {
          "output_type": "execute_result",
          "data": {
            "text/plain": [
              "['dall.csv.zip']"
            ]
          },
          "metadata": {},
          "execution_count": 11
        }
      ]
    },
    {
      "cell_type": "markdown",
      "source": [
        "## Define function to reduce mem usage"
      ],
      "metadata": {
        "id": "z9MoDfeyycJQ"
      }
    },
    {
      "cell_type": "code",
      "source": [
        "# 2.1 This function reduces memory usage of a DataFrame\n",
        "# Ref: https://www.kaggle.com/c/champs-scalar-coupling/discussion/96655\n",
        "def reduce_mem_usage(df, verbose=True):\n",
        "    numerics = ['int16', 'int32', 'int64', 'float16', 'float32', 'float64']\n",
        "    start_mem = df.memory_usage().sum() / 1024**2\n",
        "    for col in df.columns:\n",
        "        col_type = df[col].dtypes\n",
        "        if col_type in numerics:\n",
        "            c_min = df[col].min()\n",
        "            c_max = df[col].max()\n",
        "            if str(col_type)[:3] == 'int':\n",
        "                if c_min > np.iinfo(np.int8).min and c_max < np.iinfo(np.int8).max:\n",
        "                    df[col] = df[col].astype(np.int8)\n",
        "                elif c_min > np.iinfo(np.int16).min and c_max < np.iinfo(np.int16).max:\n",
        "                    df[col] = df[col].astype(np.int16)\n",
        "                elif c_min > np.iinfo(np.int32).min and c_max < np.iinfo(np.int32).max:\n",
        "                    df[col] = df[col].astype(np.int32)\n",
        "                elif c_min > np.iinfo(np.int64).min and c_max < np.iinfo(np.int64).max:\n",
        "                    df[col] = df[col].astype(np.int64)\n",
        "            else:\n",
        "                c_prec = df[col].apply(lambda x: np.finfo(x).precision).max()\n",
        "                if c_min > np.finfo(np.float16).min and c_max < np.finfo(np.float16).max and c_prec == np.finfo(np.float16).precision:\n",
        "                    df[col] = df[col].astype(np.float16)\n",
        "                elif c_min > np.finfo(np.float32).min and c_max < np.finfo(np.float32).max and c_prec == np.finfo(np.float32).precision:\n",
        "                    df[col] = df[col].astype(np.float32)\n",
        "                else:\n",
        "                    df[col] = df[col].astype(np.float64)\n",
        "    end_mem = df.memory_usage().sum() / 1024**2\n",
        "    if verbose: print('Mem. usage decreased to {:5.2f} Mb ({:.1f}% reduction)'.format(end_mem, 100 * (start_mem - end_mem) / start_mem))\n",
        "    return df"
      ],
      "metadata": {
        "id": "p8-fPXWOum5R"
      },
      "execution_count": null,
      "outputs": []
    },
    {
      "cell_type": "markdown",
      "source": [
        "## Read data & Reduce memory"
      ],
      "metadata": {
        "id": "X1ShIL5dygEw"
      }
    },
    {
      "cell_type": "code",
      "source": [
        "# 2.1 Read directly from zip file \n",
        "df = pd.read_csv(\"dall.csv.zip\", parse_dates = ['datetime'])"
      ],
      "metadata": {
        "id": "N3QVXFeeunc8"
      },
      "execution_count": null,
      "outputs": []
    },
    {
      "cell_type": "code",
      "source": [
        "df.memory_usage().sum()"
      ],
      "metadata": {
        "colab": {
          "base_uri": "https://localhost:8080/"
        },
        "id": "PW0sikFr1S8T",
        "outputId": "d40a9fbf-8370-4203-b348-743a674d7cb8"
      },
      "execution_count": null,
      "outputs": [
        {
          "output_type": "execute_result",
          "data": {
            "text/plain": [
              "58873736"
            ]
          },
          "metadata": {},
          "execution_count": 14
        }
      ]
    },
    {
      "cell_type": "code",
      "source": [
        "\n",
        "\n",
        "# 2.1.1 Some exploration\n",
        "df.head()\n",
        "df.describe()"
      ],
      "metadata": {
        "id": "HTHEtGL-uRbI",
        "colab": {
          "base_uri": "https://localhost:8080/",
          "height": 640
        },
        "outputId": "5dbdce69-89af-41bf-8f58-d733d8792728"
      },
      "execution_count": null,
      "outputs": [
        {
          "output_type": "execute_result",
          "data": {
            "text/plain": [
              "    datetime  customerid age residence_area  product_subclass      productid  \\\n",
              "0 2000-11-01       46855   D              E            110411  4710085120468   \n",
              "1 2000-11-01      539166   E              E            130315  4714981010038   \n",
              "2 2000-11-01      663373   F              E            110217  4710265847666   \n",
              "3 2000-11-01      340625   A              E            110411  4710085120697   \n",
              "4 2000-11-01      236645   D              H            712901  8999002568972   \n",
              "\n",
              "   quantity  asset  salesprice  \n",
              "0         3     51          57  \n",
              "1         2     56          48  \n",
              "2         1    180         135  \n",
              "3         1     17          24  \n",
              "4         2    128         170  "
            ],
            "text/html": [
              "\n",
              "  <div id=\"df-4e799567-e1ea-4856-8a94-dcd2d5cd29f4\">\n",
              "    <div class=\"colab-df-container\">\n",
              "      <div>\n",
              "<style scoped>\n",
              "    .dataframe tbody tr th:only-of-type {\n",
              "        vertical-align: middle;\n",
              "    }\n",
              "\n",
              "    .dataframe tbody tr th {\n",
              "        vertical-align: top;\n",
              "    }\n",
              "\n",
              "    .dataframe thead th {\n",
              "        text-align: right;\n",
              "    }\n",
              "</style>\n",
              "<table border=\"1\" class=\"dataframe\">\n",
              "  <thead>\n",
              "    <tr style=\"text-align: right;\">\n",
              "      <th></th>\n",
              "      <th>datetime</th>\n",
              "      <th>customerid</th>\n",
              "      <th>age</th>\n",
              "      <th>residence_area</th>\n",
              "      <th>product_subclass</th>\n",
              "      <th>productid</th>\n",
              "      <th>quantity</th>\n",
              "      <th>asset</th>\n",
              "      <th>salesprice</th>\n",
              "    </tr>\n",
              "  </thead>\n",
              "  <tbody>\n",
              "    <tr>\n",
              "      <th>0</th>\n",
              "      <td>2000-11-01</td>\n",
              "      <td>46855</td>\n",
              "      <td>D</td>\n",
              "      <td>E</td>\n",
              "      <td>110411</td>\n",
              "      <td>4710085120468</td>\n",
              "      <td>3</td>\n",
              "      <td>51</td>\n",
              "      <td>57</td>\n",
              "    </tr>\n",
              "    <tr>\n",
              "      <th>1</th>\n",
              "      <td>2000-11-01</td>\n",
              "      <td>539166</td>\n",
              "      <td>E</td>\n",
              "      <td>E</td>\n",
              "      <td>130315</td>\n",
              "      <td>4714981010038</td>\n",
              "      <td>2</td>\n",
              "      <td>56</td>\n",
              "      <td>48</td>\n",
              "    </tr>\n",
              "    <tr>\n",
              "      <th>2</th>\n",
              "      <td>2000-11-01</td>\n",
              "      <td>663373</td>\n",
              "      <td>F</td>\n",
              "      <td>E</td>\n",
              "      <td>110217</td>\n",
              "      <td>4710265847666</td>\n",
              "      <td>1</td>\n",
              "      <td>180</td>\n",
              "      <td>135</td>\n",
              "    </tr>\n",
              "    <tr>\n",
              "      <th>3</th>\n",
              "      <td>2000-11-01</td>\n",
              "      <td>340625</td>\n",
              "      <td>A</td>\n",
              "      <td>E</td>\n",
              "      <td>110411</td>\n",
              "      <td>4710085120697</td>\n",
              "      <td>1</td>\n",
              "      <td>17</td>\n",
              "      <td>24</td>\n",
              "    </tr>\n",
              "    <tr>\n",
              "      <th>4</th>\n",
              "      <td>2000-11-01</td>\n",
              "      <td>236645</td>\n",
              "      <td>D</td>\n",
              "      <td>H</td>\n",
              "      <td>712901</td>\n",
              "      <td>8999002568972</td>\n",
              "      <td>2</td>\n",
              "      <td>128</td>\n",
              "      <td>170</td>\n",
              "    </tr>\n",
              "  </tbody>\n",
              "</table>\n",
              "</div>\n",
              "      <button class=\"colab-df-convert\" onclick=\"convertToInteractive('df-4e799567-e1ea-4856-8a94-dcd2d5cd29f4')\"\n",
              "              title=\"Convert this dataframe to an interactive table.\"\n",
              "              style=\"display:none;\">\n",
              "        \n",
              "  <svg xmlns=\"http://www.w3.org/2000/svg\" height=\"24px\"viewBox=\"0 0 24 24\"\n",
              "       width=\"24px\">\n",
              "    <path d=\"M0 0h24v24H0V0z\" fill=\"none\"/>\n",
              "    <path d=\"M18.56 5.44l.94 2.06.94-2.06 2.06-.94-2.06-.94-.94-2.06-.94 2.06-2.06.94zm-11 1L8.5 8.5l.94-2.06 2.06-.94-2.06-.94L8.5 2.5l-.94 2.06-2.06.94zm10 10l.94 2.06.94-2.06 2.06-.94-2.06-.94-.94-2.06-.94 2.06-2.06.94z\"/><path d=\"M17.41 7.96l-1.37-1.37c-.4-.4-.92-.59-1.43-.59-.52 0-1.04.2-1.43.59L10.3 9.45l-7.72 7.72c-.78.78-.78 2.05 0 2.83L4 21.41c.39.39.9.59 1.41.59.51 0 1.02-.2 1.41-.59l7.78-7.78 2.81-2.81c.8-.78.8-2.07 0-2.86zM5.41 20L4 18.59l7.72-7.72 1.47 1.35L5.41 20z\"/>\n",
              "  </svg>\n",
              "      </button>\n",
              "      \n",
              "  <style>\n",
              "    .colab-df-container {\n",
              "      display:flex;\n",
              "      flex-wrap:wrap;\n",
              "      gap: 12px;\n",
              "    }\n",
              "\n",
              "    .colab-df-convert {\n",
              "      background-color: #E8F0FE;\n",
              "      border: none;\n",
              "      border-radius: 50%;\n",
              "      cursor: pointer;\n",
              "      display: none;\n",
              "      fill: #1967D2;\n",
              "      height: 32px;\n",
              "      padding: 0 0 0 0;\n",
              "      width: 32px;\n",
              "    }\n",
              "\n",
              "    .colab-df-convert:hover {\n",
              "      background-color: #E2EBFA;\n",
              "      box-shadow: 0px 1px 2px rgba(60, 64, 67, 0.3), 0px 1px 3px 1px rgba(60, 64, 67, 0.15);\n",
              "      fill: #174EA6;\n",
              "    }\n",
              "\n",
              "    [theme=dark] .colab-df-convert {\n",
              "      background-color: #3B4455;\n",
              "      fill: #D2E3FC;\n",
              "    }\n",
              "\n",
              "    [theme=dark] .colab-df-convert:hover {\n",
              "      background-color: #434B5C;\n",
              "      box-shadow: 0px 1px 3px 1px rgba(0, 0, 0, 0.15);\n",
              "      filter: drop-shadow(0px 1px 2px rgba(0, 0, 0, 0.3));\n",
              "      fill: #FFFFFF;\n",
              "    }\n",
              "  </style>\n",
              "\n",
              "      <script>\n",
              "        const buttonEl =\n",
              "          document.querySelector('#df-4e799567-e1ea-4856-8a94-dcd2d5cd29f4 button.colab-df-convert');\n",
              "        buttonEl.style.display =\n",
              "          google.colab.kernel.accessAllowed ? 'block' : 'none';\n",
              "\n",
              "        async function convertToInteractive(key) {\n",
              "          const element = document.querySelector('#df-4e799567-e1ea-4856-8a94-dcd2d5cd29f4');\n",
              "          const dataTable =\n",
              "            await google.colab.kernel.invokeFunction('convertToInteractive',\n",
              "                                                     [key], {});\n",
              "          if (!dataTable) return;\n",
              "\n",
              "          const docLinkHtml = 'Like what you see? Visit the ' +\n",
              "            '<a target=\"_blank\" href=https://colab.research.google.com/notebooks/data_table.ipynb>data table notebook</a>'\n",
              "            + ' to learn more about interactive tables.';\n",
              "          element.innerHTML = '';\n",
              "          dataTable['output_type'] = 'display_data';\n",
              "          await google.colab.output.renderOutput(dataTable, element);\n",
              "          const docLink = document.createElement('div');\n",
              "          docLink.innerHTML = docLinkHtml;\n",
              "          element.appendChild(docLink);\n",
              "        }\n",
              "      </script>\n",
              "    </div>\n",
              "  </div>\n",
              "  "
            ]
          },
          "metadata": {},
          "execution_count": 15
        },
        {
          "output_type": "execute_result",
          "data": {
            "text/plain": [
              "         customerid  product_subclass     productid       quantity  \\\n",
              "count  8.176890e+05     817689.000000  8.176890e+05  817689.000000   \n",
              "mean   1.406627e+06     284949.244709  4.461631e+12       1.381783   \n",
              "std    7.489881e+05     226390.225824  1.690096e+12       2.897561   \n",
              "min    1.069000e+03     100101.000000  2.000882e+07       1.000000   \n",
              "25%    9.692220e+05     110106.000000  4.710085e+12       1.000000   \n",
              "50%    1.587722e+06     130106.000000  4.710421e+12       1.000000   \n",
              "75%    1.854930e+06     520314.000000  4.712500e+12       1.000000   \n",
              "max    2.000200e+07     780510.000000  9.789580e+12    1200.000000   \n",
              "\n",
              "               asset     salesprice  \n",
              "count  817689.000000  817689.000000  \n",
              "mean      112.110445     131.875923  \n",
              "std       603.680287     631.076586  \n",
              "min         0.000000       1.000000  \n",
              "25%        35.000000      42.000000  \n",
              "50%        62.000000      76.000000  \n",
              "75%       112.000000     132.000000  \n",
              "max    432000.000000  444000.000000  "
            ],
            "text/html": [
              "\n",
              "  <div id=\"df-b24fc071-9450-4cdc-a725-f8b6e2b1ef76\">\n",
              "    <div class=\"colab-df-container\">\n",
              "      <div>\n",
              "<style scoped>\n",
              "    .dataframe tbody tr th:only-of-type {\n",
              "        vertical-align: middle;\n",
              "    }\n",
              "\n",
              "    .dataframe tbody tr th {\n",
              "        vertical-align: top;\n",
              "    }\n",
              "\n",
              "    .dataframe thead th {\n",
              "        text-align: right;\n",
              "    }\n",
              "</style>\n",
              "<table border=\"1\" class=\"dataframe\">\n",
              "  <thead>\n",
              "    <tr style=\"text-align: right;\">\n",
              "      <th></th>\n",
              "      <th>customerid</th>\n",
              "      <th>product_subclass</th>\n",
              "      <th>productid</th>\n",
              "      <th>quantity</th>\n",
              "      <th>asset</th>\n",
              "      <th>salesprice</th>\n",
              "    </tr>\n",
              "  </thead>\n",
              "  <tbody>\n",
              "    <tr>\n",
              "      <th>count</th>\n",
              "      <td>8.176890e+05</td>\n",
              "      <td>817689.000000</td>\n",
              "      <td>8.176890e+05</td>\n",
              "      <td>817689.000000</td>\n",
              "      <td>817689.000000</td>\n",
              "      <td>817689.000000</td>\n",
              "    </tr>\n",
              "    <tr>\n",
              "      <th>mean</th>\n",
              "      <td>1.406627e+06</td>\n",
              "      <td>284949.244709</td>\n",
              "      <td>4.461631e+12</td>\n",
              "      <td>1.381783</td>\n",
              "      <td>112.110445</td>\n",
              "      <td>131.875923</td>\n",
              "    </tr>\n",
              "    <tr>\n",
              "      <th>std</th>\n",
              "      <td>7.489881e+05</td>\n",
              "      <td>226390.225824</td>\n",
              "      <td>1.690096e+12</td>\n",
              "      <td>2.897561</td>\n",
              "      <td>603.680287</td>\n",
              "      <td>631.076586</td>\n",
              "    </tr>\n",
              "    <tr>\n",
              "      <th>min</th>\n",
              "      <td>1.069000e+03</td>\n",
              "      <td>100101.000000</td>\n",
              "      <td>2.000882e+07</td>\n",
              "      <td>1.000000</td>\n",
              "      <td>0.000000</td>\n",
              "      <td>1.000000</td>\n",
              "    </tr>\n",
              "    <tr>\n",
              "      <th>25%</th>\n",
              "      <td>9.692220e+05</td>\n",
              "      <td>110106.000000</td>\n",
              "      <td>4.710085e+12</td>\n",
              "      <td>1.000000</td>\n",
              "      <td>35.000000</td>\n",
              "      <td>42.000000</td>\n",
              "    </tr>\n",
              "    <tr>\n",
              "      <th>50%</th>\n",
              "      <td>1.587722e+06</td>\n",
              "      <td>130106.000000</td>\n",
              "      <td>4.710421e+12</td>\n",
              "      <td>1.000000</td>\n",
              "      <td>62.000000</td>\n",
              "      <td>76.000000</td>\n",
              "    </tr>\n",
              "    <tr>\n",
              "      <th>75%</th>\n",
              "      <td>1.854930e+06</td>\n",
              "      <td>520314.000000</td>\n",
              "      <td>4.712500e+12</td>\n",
              "      <td>1.000000</td>\n",
              "      <td>112.000000</td>\n",
              "      <td>132.000000</td>\n",
              "    </tr>\n",
              "    <tr>\n",
              "      <th>max</th>\n",
              "      <td>2.000200e+07</td>\n",
              "      <td>780510.000000</td>\n",
              "      <td>9.789580e+12</td>\n",
              "      <td>1200.000000</td>\n",
              "      <td>432000.000000</td>\n",
              "      <td>444000.000000</td>\n",
              "    </tr>\n",
              "  </tbody>\n",
              "</table>\n",
              "</div>\n",
              "      <button class=\"colab-df-convert\" onclick=\"convertToInteractive('df-b24fc071-9450-4cdc-a725-f8b6e2b1ef76')\"\n",
              "              title=\"Convert this dataframe to an interactive table.\"\n",
              "              style=\"display:none;\">\n",
              "        \n",
              "  <svg xmlns=\"http://www.w3.org/2000/svg\" height=\"24px\"viewBox=\"0 0 24 24\"\n",
              "       width=\"24px\">\n",
              "    <path d=\"M0 0h24v24H0V0z\" fill=\"none\"/>\n",
              "    <path d=\"M18.56 5.44l.94 2.06.94-2.06 2.06-.94-2.06-.94-.94-2.06-.94 2.06-2.06.94zm-11 1L8.5 8.5l.94-2.06 2.06-.94-2.06-.94L8.5 2.5l-.94 2.06-2.06.94zm10 10l.94 2.06.94-2.06 2.06-.94-2.06-.94-.94-2.06-.94 2.06-2.06.94z\"/><path d=\"M17.41 7.96l-1.37-1.37c-.4-.4-.92-.59-1.43-.59-.52 0-1.04.2-1.43.59L10.3 9.45l-7.72 7.72c-.78.78-.78 2.05 0 2.83L4 21.41c.39.39.9.59 1.41.59.51 0 1.02-.2 1.41-.59l7.78-7.78 2.81-2.81c.8-.78.8-2.07 0-2.86zM5.41 20L4 18.59l7.72-7.72 1.47 1.35L5.41 20z\"/>\n",
              "  </svg>\n",
              "      </button>\n",
              "      \n",
              "  <style>\n",
              "    .colab-df-container {\n",
              "      display:flex;\n",
              "      flex-wrap:wrap;\n",
              "      gap: 12px;\n",
              "    }\n",
              "\n",
              "    .colab-df-convert {\n",
              "      background-color: #E8F0FE;\n",
              "      border: none;\n",
              "      border-radius: 50%;\n",
              "      cursor: pointer;\n",
              "      display: none;\n",
              "      fill: #1967D2;\n",
              "      height: 32px;\n",
              "      padding: 0 0 0 0;\n",
              "      width: 32px;\n",
              "    }\n",
              "\n",
              "    .colab-df-convert:hover {\n",
              "      background-color: #E2EBFA;\n",
              "      box-shadow: 0px 1px 2px rgba(60, 64, 67, 0.3), 0px 1px 3px 1px rgba(60, 64, 67, 0.15);\n",
              "      fill: #174EA6;\n",
              "    }\n",
              "\n",
              "    [theme=dark] .colab-df-convert {\n",
              "      background-color: #3B4455;\n",
              "      fill: #D2E3FC;\n",
              "    }\n",
              "\n",
              "    [theme=dark] .colab-df-convert:hover {\n",
              "      background-color: #434B5C;\n",
              "      box-shadow: 0px 1px 3px 1px rgba(0, 0, 0, 0.15);\n",
              "      filter: drop-shadow(0px 1px 2px rgba(0, 0, 0, 0.3));\n",
              "      fill: #FFFFFF;\n",
              "    }\n",
              "  </style>\n",
              "\n",
              "      <script>\n",
              "        const buttonEl =\n",
              "          document.querySelector('#df-b24fc071-9450-4cdc-a725-f8b6e2b1ef76 button.colab-df-convert');\n",
              "        buttonEl.style.display =\n",
              "          google.colab.kernel.accessAllowed ? 'block' : 'none';\n",
              "\n",
              "        async function convertToInteractive(key) {\n",
              "          const element = document.querySelector('#df-b24fc071-9450-4cdc-a725-f8b6e2b1ef76');\n",
              "          const dataTable =\n",
              "            await google.colab.kernel.invokeFunction('convertToInteractive',\n",
              "                                                     [key], {});\n",
              "          if (!dataTable) return;\n",
              "\n",
              "          const docLinkHtml = 'Like what you see? Visit the ' +\n",
              "            '<a target=\"_blank\" href=https://colab.research.google.com/notebooks/data_table.ipynb>data table notebook</a>'\n",
              "            + ' to learn more about interactive tables.';\n",
              "          element.innerHTML = '';\n",
              "          dataTable['output_type'] = 'display_data';\n",
              "          await google.colab.output.renderOutput(dataTable, element);\n",
              "          const docLink = document.createElement('div');\n",
              "          docLink.innerHTML = docLinkHtml;\n",
              "          element.appendChild(docLink);\n",
              "        }\n",
              "      </script>\n",
              "    </div>\n",
              "  </div>\n",
              "  "
            ]
          },
          "metadata": {},
          "execution_count": 15
        }
      ]
    },
    {
      "cell_type": "code",
      "source": [
        "# 2.1.2 Examine data types now\n",
        "df.dtypes"
      ],
      "metadata": {
        "id": "x22XbZl1uw2S",
        "colab": {
          "base_uri": "https://localhost:8080/"
        },
        "outputId": "dca24da7-3900-40f1-8bb6-61dfe2af2453"
      },
      "execution_count": null,
      "outputs": [
        {
          "output_type": "execute_result",
          "data": {
            "text/plain": [
              "datetime            datetime64[ns]\n",
              "customerid                   int64\n",
              "age                         object\n",
              "residence_area              object\n",
              "product_subclass             int64\n",
              "productid                    int64\n",
              "quantity                     int64\n",
              "asset                        int64\n",
              "salesprice                   int64\n",
              "dtype: object"
            ]
          },
          "metadata": {},
          "execution_count": 16
        }
      ]
    },
    {
      "cell_type": "code",
      "source": [
        "# 2.1.3\n",
        "df = reduce_mem_usage(df)\n",
        "gc.collect()\n"
      ],
      "metadata": {
        "id": "W8mfgqjHuNoy",
        "colab": {
          "base_uri": "https://localhost:8080/"
        },
        "outputId": "e186a4c6-e557-4705-cbc5-f85e5580af52"
      },
      "execution_count": null,
      "outputs": [
        {
          "output_type": "stream",
          "name": "stdout",
          "text": [
            "Mem. usage decreased to 38.99 Mb (30.6% reduction)\n"
          ]
        },
        {
          "output_type": "execute_result",
          "data": {
            "text/plain": [
              "110"
            ]
          },
          "metadata": {},
          "execution_count": 17
        }
      ]
    },
    {
      "cell_type": "code",
      "source": [
        "# 2.1.4. We have no use for 'asset' column. Drop it\n",
        "\n",
        "df.drop(columns = ['asset'], inplace = True)\n"
      ],
      "metadata": {
        "id": "_85-5nkpy0jz"
      },
      "execution_count": null,
      "outputs": []
    },
    {
      "cell_type": "code",
      "source": [
        "# 3.1\n",
        "# To further save memory, transform following five attributes\n",
        "#  to pandas 'category' type\n",
        "\n",
        "#  1. customerid --------int64,\n",
        "#  2. product_subclass---int64,\n",
        "#  3. residence_area-----object,\n",
        "#  4. age----------------object,\n",
        "#  5. productid----------int64\n",
        "\n",
        "\"Current memory usage: {} \".format(df.memory_usage().sum())"
      ],
      "metadata": {
        "id": "FYB3cBipy_BA",
        "colab": {
          "base_uri": "https://localhost:8080/",
          "height": 36
        },
        "outputId": "7828f26a-d54b-4b0d-fc48-2846db1c87fb"
      },
      "execution_count": null,
      "outputs": [
        {
          "output_type": "execute_result",
          "data": {
            "text/plain": [
              "'Current memory usage: 37613822 '"
            ],
            "application/vnd.google.colaboratory.intrinsic+json": {
              "type": "string"
            }
          },
          "metadata": {},
          "execution_count": 19
        }
      ]
    },
    {
      "cell_type": "code",
      "source": [
        "# 3.1.1 Transform now:\n",
        "\n",
        "df['customerid']       = df['customerid'].astype('category')\n",
        "df['product_subclass'] = df['product_subclass'].astype('category')\n",
        "df['residence_area']   = df['residence_area'].astype('category')\n",
        "df['age']              = df['age'].astype('category')\n",
        "df['productid']        = df['productid'].astype('category')"
      ],
      "metadata": {
        "id": "i9lxRJ0DvVHc"
      },
      "execution_count": null,
      "outputs": []
    },
    {
      "cell_type": "code",
      "source": [
        "\n",
        "# 3.1.2\n",
        "\n",
        "\"Present memory: {} \".format(df.memory_usage().sum())\n",
        "print()\n",
        "gc.collect()            # Release memory back to system"
      ],
      "metadata": {
        "id": "Cj4bWmHqwL9F",
        "colab": {
          "base_uri": "https://localhost:8080/",
          "height": 53
        },
        "outputId": "eabf83fc-d9f9-405f-c301-c15959eb3ed9"
      },
      "execution_count": null,
      "outputs": [
        {
          "output_type": "execute_result",
          "data": {
            "text/plain": [
              "'Present memory: 20106078 '"
            ],
            "application/vnd.google.colaboratory.intrinsic+json": {
              "type": "string"
            }
          },
          "metadata": {},
          "execution_count": 21
        },
        {
          "output_type": "stream",
          "name": "stdout",
          "text": [
            "\n"
          ]
        },
        {
          "output_type": "execute_result",
          "data": {
            "text/plain": [
              "176"
            ]
          },
          "metadata": {},
          "execution_count": 21
        }
      ]
    },
    {
      "cell_type": "code",
      "source": [
        "# 3.2 Extract year, month, day`from 'datetime' field\n",
        "# Ref:https://pandas.pydata.org/pandas-docs/version/0.22/api.html#datetimelike-properties\n",
        "#     https://pandas.pydata.org/pandas-docs/stable/generated/pandas.DatetimeIndex.html\n",
        "\n",
        "# 3.2.1 \n",
        "df['year']  =  df['datetime'].dt.year\n",
        "df['month'] =  df['datetime'].dt.month\n",
        "df['day']   =  df['datetime'].dt.day"
      ],
      "metadata": {
        "id": "P0CUPEixz6Os"
      },
      "execution_count": null,
      "outputs": []
    },
    {
      "cell_type": "markdown",
      "source": [
        "##Practice"
      ],
      "metadata": {
        "id": "x7yMGC1J8gbW"
      }
    },
    {
      "cell_type": "code",
      "source": [
        "dx = pd.DataFrame([('a1', 'b1',43,67),('a2', 'b1',40,60),('a1', 'b2',48,77),('a2', 'b1',61,67),('a1', 'b1',83,87),('a1', 'b2',93,97) ], columns = ['x1','x2','x3','x4'])"
      ],
      "metadata": {
        "id": "K2XjPwUO8msz"
      },
      "execution_count": null,
      "outputs": []
    },
    {
      "cell_type": "code",
      "source": [
        "dx"
      ],
      "metadata": {
        "colab": {
          "base_uri": "https://localhost:8080/",
          "height": 237
        },
        "id": "iwzwTFb38o1V",
        "outputId": "3ee14164-8213-4f60-8211-6d0d8e482990"
      },
      "execution_count": null,
      "outputs": [
        {
          "output_type": "execute_result",
          "data": {
            "text/plain": [
              "   x1  x2  x3  x4\n",
              "0  a1  b1  43  67\n",
              "1  a2  b1  40  60\n",
              "2  a1  b2  48  77\n",
              "3  a2  b1  61  67\n",
              "4  a1  b1  83  87\n",
              "5  a1  b2  93  97"
            ],
            "text/html": [
              "\n",
              "  <div id=\"df-6a007548-6298-49b3-8e32-535daf80431f\">\n",
              "    <div class=\"colab-df-container\">\n",
              "      <div>\n",
              "<style scoped>\n",
              "    .dataframe tbody tr th:only-of-type {\n",
              "        vertical-align: middle;\n",
              "    }\n",
              "\n",
              "    .dataframe tbody tr th {\n",
              "        vertical-align: top;\n",
              "    }\n",
              "\n",
              "    .dataframe thead th {\n",
              "        text-align: right;\n",
              "    }\n",
              "</style>\n",
              "<table border=\"1\" class=\"dataframe\">\n",
              "  <thead>\n",
              "    <tr style=\"text-align: right;\">\n",
              "      <th></th>\n",
              "      <th>x1</th>\n",
              "      <th>x2</th>\n",
              "      <th>x3</th>\n",
              "      <th>x4</th>\n",
              "    </tr>\n",
              "  </thead>\n",
              "  <tbody>\n",
              "    <tr>\n",
              "      <th>0</th>\n",
              "      <td>a1</td>\n",
              "      <td>b1</td>\n",
              "      <td>43</td>\n",
              "      <td>67</td>\n",
              "    </tr>\n",
              "    <tr>\n",
              "      <th>1</th>\n",
              "      <td>a2</td>\n",
              "      <td>b1</td>\n",
              "      <td>40</td>\n",
              "      <td>60</td>\n",
              "    </tr>\n",
              "    <tr>\n",
              "      <th>2</th>\n",
              "      <td>a1</td>\n",
              "      <td>b2</td>\n",
              "      <td>48</td>\n",
              "      <td>77</td>\n",
              "    </tr>\n",
              "    <tr>\n",
              "      <th>3</th>\n",
              "      <td>a2</td>\n",
              "      <td>b1</td>\n",
              "      <td>61</td>\n",
              "      <td>67</td>\n",
              "    </tr>\n",
              "    <tr>\n",
              "      <th>4</th>\n",
              "      <td>a1</td>\n",
              "      <td>b1</td>\n",
              "      <td>83</td>\n",
              "      <td>87</td>\n",
              "    </tr>\n",
              "    <tr>\n",
              "      <th>5</th>\n",
              "      <td>a1</td>\n",
              "      <td>b2</td>\n",
              "      <td>93</td>\n",
              "      <td>97</td>\n",
              "    </tr>\n",
              "  </tbody>\n",
              "</table>\n",
              "</div>\n",
              "      <button class=\"colab-df-convert\" onclick=\"convertToInteractive('df-6a007548-6298-49b3-8e32-535daf80431f')\"\n",
              "              title=\"Convert this dataframe to an interactive table.\"\n",
              "              style=\"display:none;\">\n",
              "        \n",
              "  <svg xmlns=\"http://www.w3.org/2000/svg\" height=\"24px\"viewBox=\"0 0 24 24\"\n",
              "       width=\"24px\">\n",
              "    <path d=\"M0 0h24v24H0V0z\" fill=\"none\"/>\n",
              "    <path d=\"M18.56 5.44l.94 2.06.94-2.06 2.06-.94-2.06-.94-.94-2.06-.94 2.06-2.06.94zm-11 1L8.5 8.5l.94-2.06 2.06-.94-2.06-.94L8.5 2.5l-.94 2.06-2.06.94zm10 10l.94 2.06.94-2.06 2.06-.94-2.06-.94-.94-2.06-.94 2.06-2.06.94z\"/><path d=\"M17.41 7.96l-1.37-1.37c-.4-.4-.92-.59-1.43-.59-.52 0-1.04.2-1.43.59L10.3 9.45l-7.72 7.72c-.78.78-.78 2.05 0 2.83L4 21.41c.39.39.9.59 1.41.59.51 0 1.02-.2 1.41-.59l7.78-7.78 2.81-2.81c.8-.78.8-2.07 0-2.86zM5.41 20L4 18.59l7.72-7.72 1.47 1.35L5.41 20z\"/>\n",
              "  </svg>\n",
              "      </button>\n",
              "      \n",
              "  <style>\n",
              "    .colab-df-container {\n",
              "      display:flex;\n",
              "      flex-wrap:wrap;\n",
              "      gap: 12px;\n",
              "    }\n",
              "\n",
              "    .colab-df-convert {\n",
              "      background-color: #E8F0FE;\n",
              "      border: none;\n",
              "      border-radius: 50%;\n",
              "      cursor: pointer;\n",
              "      display: none;\n",
              "      fill: #1967D2;\n",
              "      height: 32px;\n",
              "      padding: 0 0 0 0;\n",
              "      width: 32px;\n",
              "    }\n",
              "\n",
              "    .colab-df-convert:hover {\n",
              "      background-color: #E2EBFA;\n",
              "      box-shadow: 0px 1px 2px rgba(60, 64, 67, 0.3), 0px 1px 3px 1px rgba(60, 64, 67, 0.15);\n",
              "      fill: #174EA6;\n",
              "    }\n",
              "\n",
              "    [theme=dark] .colab-df-convert {\n",
              "      background-color: #3B4455;\n",
              "      fill: #D2E3FC;\n",
              "    }\n",
              "\n",
              "    [theme=dark] .colab-df-convert:hover {\n",
              "      background-color: #434B5C;\n",
              "      box-shadow: 0px 1px 3px 1px rgba(0, 0, 0, 0.15);\n",
              "      filter: drop-shadow(0px 1px 2px rgba(0, 0, 0, 0.3));\n",
              "      fill: #FFFFFF;\n",
              "    }\n",
              "  </style>\n",
              "\n",
              "      <script>\n",
              "        const buttonEl =\n",
              "          document.querySelector('#df-6a007548-6298-49b3-8e32-535daf80431f button.colab-df-convert');\n",
              "        buttonEl.style.display =\n",
              "          google.colab.kernel.accessAllowed ? 'block' : 'none';\n",
              "\n",
              "        async function convertToInteractive(key) {\n",
              "          const element = document.querySelector('#df-6a007548-6298-49b3-8e32-535daf80431f');\n",
              "          const dataTable =\n",
              "            await google.colab.kernel.invokeFunction('convertToInteractive',\n",
              "                                                     [key], {});\n",
              "          if (!dataTable) return;\n",
              "\n",
              "          const docLinkHtml = 'Like what you see? Visit the ' +\n",
              "            '<a target=\"_blank\" href=https://colab.research.google.com/notebooks/data_table.ipynb>data table notebook</a>'\n",
              "            + ' to learn more about interactive tables.';\n",
              "          element.innerHTML = '';\n",
              "          dataTable['output_type'] = 'display_data';\n",
              "          await google.colab.output.renderOutput(dataTable, element);\n",
              "          const docLink = document.createElement('div');\n",
              "          docLink.innerHTML = docLinkHtml;\n",
              "          element.appendChild(docLink);\n",
              "        }\n",
              "      </script>\n",
              "    </div>\n",
              "  </div>\n",
              "  "
            ]
          },
          "metadata": {},
          "execution_count": 24
        }
      ]
    },
    {
      "cell_type": "code",
      "source": [
        "h=np.array(['A1','A1','A2','A2','A2','A1'])\n",
        "h1=np.array(['B11','B11','B21','B21','B21','B11'])"
      ],
      "metadata": {
        "id": "fkrXyfagDgkJ"
      },
      "execution_count": null,
      "outputs": []
    },
    {
      "cell_type": "code",
      "source": [
        "grpd = dx[['x3','x4']].groupby([h,h1])"
      ],
      "metadata": {
        "id": "cKlm9aFEETL4"
      },
      "execution_count": null,
      "outputs": []
    },
    {
      "cell_type": "code",
      "source": [
        "grpd.mean()"
      ],
      "metadata": {
        "colab": {
          "base_uri": "https://localhost:8080/",
          "height": 112
        },
        "id": "-h1QBzjiEf3s",
        "outputId": "7bac9385-6bad-45bd-8c90-e3936ff4e1d9"
      },
      "execution_count": null,
      "outputs": [
        {
          "output_type": "execute_result",
          "data": {
            "text/plain": [
              "               x3         x4\n",
              "A1 B11  58.666667  74.666667\n",
              "A2 B21  64.000000  77.000000"
            ],
            "text/html": [
              "\n",
              "  <div id=\"df-ee5b82af-f162-40ab-93a3-77b5be112662\">\n",
              "    <div class=\"colab-df-container\">\n",
              "      <div>\n",
              "<style scoped>\n",
              "    .dataframe tbody tr th:only-of-type {\n",
              "        vertical-align: middle;\n",
              "    }\n",
              "\n",
              "    .dataframe tbody tr th {\n",
              "        vertical-align: top;\n",
              "    }\n",
              "\n",
              "    .dataframe thead th {\n",
              "        text-align: right;\n",
              "    }\n",
              "</style>\n",
              "<table border=\"1\" class=\"dataframe\">\n",
              "  <thead>\n",
              "    <tr style=\"text-align: right;\">\n",
              "      <th></th>\n",
              "      <th></th>\n",
              "      <th>x3</th>\n",
              "      <th>x4</th>\n",
              "    </tr>\n",
              "  </thead>\n",
              "  <tbody>\n",
              "    <tr>\n",
              "      <th>A1</th>\n",
              "      <th>B11</th>\n",
              "      <td>58.666667</td>\n",
              "      <td>74.666667</td>\n",
              "    </tr>\n",
              "    <tr>\n",
              "      <th>A2</th>\n",
              "      <th>B21</th>\n",
              "      <td>64.000000</td>\n",
              "      <td>77.000000</td>\n",
              "    </tr>\n",
              "  </tbody>\n",
              "</table>\n",
              "</div>\n",
              "      <button class=\"colab-df-convert\" onclick=\"convertToInteractive('df-ee5b82af-f162-40ab-93a3-77b5be112662')\"\n",
              "              title=\"Convert this dataframe to an interactive table.\"\n",
              "              style=\"display:none;\">\n",
              "        \n",
              "  <svg xmlns=\"http://www.w3.org/2000/svg\" height=\"24px\"viewBox=\"0 0 24 24\"\n",
              "       width=\"24px\">\n",
              "    <path d=\"M0 0h24v24H0V0z\" fill=\"none\"/>\n",
              "    <path d=\"M18.56 5.44l.94 2.06.94-2.06 2.06-.94-2.06-.94-.94-2.06-.94 2.06-2.06.94zm-11 1L8.5 8.5l.94-2.06 2.06-.94-2.06-.94L8.5 2.5l-.94 2.06-2.06.94zm10 10l.94 2.06.94-2.06 2.06-.94-2.06-.94-.94-2.06-.94 2.06-2.06.94z\"/><path d=\"M17.41 7.96l-1.37-1.37c-.4-.4-.92-.59-1.43-.59-.52 0-1.04.2-1.43.59L10.3 9.45l-7.72 7.72c-.78.78-.78 2.05 0 2.83L4 21.41c.39.39.9.59 1.41.59.51 0 1.02-.2 1.41-.59l7.78-7.78 2.81-2.81c.8-.78.8-2.07 0-2.86zM5.41 20L4 18.59l7.72-7.72 1.47 1.35L5.41 20z\"/>\n",
              "  </svg>\n",
              "      </button>\n",
              "      \n",
              "  <style>\n",
              "    .colab-df-container {\n",
              "      display:flex;\n",
              "      flex-wrap:wrap;\n",
              "      gap: 12px;\n",
              "    }\n",
              "\n",
              "    .colab-df-convert {\n",
              "      background-color: #E8F0FE;\n",
              "      border: none;\n",
              "      border-radius: 50%;\n",
              "      cursor: pointer;\n",
              "      display: none;\n",
              "      fill: #1967D2;\n",
              "      height: 32px;\n",
              "      padding: 0 0 0 0;\n",
              "      width: 32px;\n",
              "    }\n",
              "\n",
              "    .colab-df-convert:hover {\n",
              "      background-color: #E2EBFA;\n",
              "      box-shadow: 0px 1px 2px rgba(60, 64, 67, 0.3), 0px 1px 3px 1px rgba(60, 64, 67, 0.15);\n",
              "      fill: #174EA6;\n",
              "    }\n",
              "\n",
              "    [theme=dark] .colab-df-convert {\n",
              "      background-color: #3B4455;\n",
              "      fill: #D2E3FC;\n",
              "    }\n",
              "\n",
              "    [theme=dark] .colab-df-convert:hover {\n",
              "      background-color: #434B5C;\n",
              "      box-shadow: 0px 1px 3px 1px rgba(0, 0, 0, 0.15);\n",
              "      filter: drop-shadow(0px 1px 2px rgba(0, 0, 0, 0.3));\n",
              "      fill: #FFFFFF;\n",
              "    }\n",
              "  </style>\n",
              "\n",
              "      <script>\n",
              "        const buttonEl =\n",
              "          document.querySelector('#df-ee5b82af-f162-40ab-93a3-77b5be112662 button.colab-df-convert');\n",
              "        buttonEl.style.display =\n",
              "          google.colab.kernel.accessAllowed ? 'block' : 'none';\n",
              "\n",
              "        async function convertToInteractive(key) {\n",
              "          const element = document.querySelector('#df-ee5b82af-f162-40ab-93a3-77b5be112662');\n",
              "          const dataTable =\n",
              "            await google.colab.kernel.invokeFunction('convertToInteractive',\n",
              "                                                     [key], {});\n",
              "          if (!dataTable) return;\n",
              "\n",
              "          const docLinkHtml = 'Like what you see? Visit the ' +\n",
              "            '<a target=\"_blank\" href=https://colab.research.google.com/notebooks/data_table.ipynb>data table notebook</a>'\n",
              "            + ' to learn more about interactive tables.';\n",
              "          element.innerHTML = '';\n",
              "          dataTable['output_type'] = 'display_data';\n",
              "          await google.colab.output.renderOutput(dataTable, element);\n",
              "          const docLink = document.createElement('div');\n",
              "          docLink.innerHTML = docLinkHtml;\n",
              "          element.appendChild(docLink);\n",
              "        }\n",
              "      </script>\n",
              "    </div>\n",
              "  </div>\n",
              "  "
            ]
          },
          "metadata": {},
          "execution_count": 27
        }
      ]
    },
    {
      "cell_type": "code",
      "source": [
        "grpd=dx[['x3','x4']].groupby([dx['x1'],dx['x2']])"
      ],
      "metadata": {
        "id": "CYeOYdmtCsMB"
      },
      "execution_count": null,
      "outputs": []
    },
    {
      "cell_type": "code",
      "source": [
        "grpd1=dx.groupby(['x1','x2'])"
      ],
      "metadata": {
        "id": "6kwIxiCMDPEe"
      },
      "execution_count": null,
      "outputs": []
    },
    {
      "cell_type": "code",
      "source": [
        "grpd.mean()"
      ],
      "metadata": {
        "colab": {
          "base_uri": "https://localhost:8080/",
          "height": 175
        },
        "id": "sigeH-iCDO9k",
        "outputId": "8c899fdc-1aea-473e-ffc6-eb1b8d744046"
      },
      "execution_count": null,
      "outputs": [
        {
          "output_type": "execute_result",
          "data": {
            "text/plain": [
              "         x3    x4\n",
              "x1 x2            \n",
              "a1 b1  63.0  77.0\n",
              "   b2  70.5  87.0\n",
              "a2 b1  50.5  63.5"
            ],
            "text/html": [
              "\n",
              "  <div id=\"df-1786570f-1094-416e-9442-72dece358d4a\">\n",
              "    <div class=\"colab-df-container\">\n",
              "      <div>\n",
              "<style scoped>\n",
              "    .dataframe tbody tr th:only-of-type {\n",
              "        vertical-align: middle;\n",
              "    }\n",
              "\n",
              "    .dataframe tbody tr th {\n",
              "        vertical-align: top;\n",
              "    }\n",
              "\n",
              "    .dataframe thead th {\n",
              "        text-align: right;\n",
              "    }\n",
              "</style>\n",
              "<table border=\"1\" class=\"dataframe\">\n",
              "  <thead>\n",
              "    <tr style=\"text-align: right;\">\n",
              "      <th></th>\n",
              "      <th></th>\n",
              "      <th>x3</th>\n",
              "      <th>x4</th>\n",
              "    </tr>\n",
              "    <tr>\n",
              "      <th>x1</th>\n",
              "      <th>x2</th>\n",
              "      <th></th>\n",
              "      <th></th>\n",
              "    </tr>\n",
              "  </thead>\n",
              "  <tbody>\n",
              "    <tr>\n",
              "      <th rowspan=\"2\" valign=\"top\">a1</th>\n",
              "      <th>b1</th>\n",
              "      <td>63.0</td>\n",
              "      <td>77.0</td>\n",
              "    </tr>\n",
              "    <tr>\n",
              "      <th>b2</th>\n",
              "      <td>70.5</td>\n",
              "      <td>87.0</td>\n",
              "    </tr>\n",
              "    <tr>\n",
              "      <th>a2</th>\n",
              "      <th>b1</th>\n",
              "      <td>50.5</td>\n",
              "      <td>63.5</td>\n",
              "    </tr>\n",
              "  </tbody>\n",
              "</table>\n",
              "</div>\n",
              "      <button class=\"colab-df-convert\" onclick=\"convertToInteractive('df-1786570f-1094-416e-9442-72dece358d4a')\"\n",
              "              title=\"Convert this dataframe to an interactive table.\"\n",
              "              style=\"display:none;\">\n",
              "        \n",
              "  <svg xmlns=\"http://www.w3.org/2000/svg\" height=\"24px\"viewBox=\"0 0 24 24\"\n",
              "       width=\"24px\">\n",
              "    <path d=\"M0 0h24v24H0V0z\" fill=\"none\"/>\n",
              "    <path d=\"M18.56 5.44l.94 2.06.94-2.06 2.06-.94-2.06-.94-.94-2.06-.94 2.06-2.06.94zm-11 1L8.5 8.5l.94-2.06 2.06-.94-2.06-.94L8.5 2.5l-.94 2.06-2.06.94zm10 10l.94 2.06.94-2.06 2.06-.94-2.06-.94-.94-2.06-.94 2.06-2.06.94z\"/><path d=\"M17.41 7.96l-1.37-1.37c-.4-.4-.92-.59-1.43-.59-.52 0-1.04.2-1.43.59L10.3 9.45l-7.72 7.72c-.78.78-.78 2.05 0 2.83L4 21.41c.39.39.9.59 1.41.59.51 0 1.02-.2 1.41-.59l7.78-7.78 2.81-2.81c.8-.78.8-2.07 0-2.86zM5.41 20L4 18.59l7.72-7.72 1.47 1.35L5.41 20z\"/>\n",
              "  </svg>\n",
              "      </button>\n",
              "      \n",
              "  <style>\n",
              "    .colab-df-container {\n",
              "      display:flex;\n",
              "      flex-wrap:wrap;\n",
              "      gap: 12px;\n",
              "    }\n",
              "\n",
              "    .colab-df-convert {\n",
              "      background-color: #E8F0FE;\n",
              "      border: none;\n",
              "      border-radius: 50%;\n",
              "      cursor: pointer;\n",
              "      display: none;\n",
              "      fill: #1967D2;\n",
              "      height: 32px;\n",
              "      padding: 0 0 0 0;\n",
              "      width: 32px;\n",
              "    }\n",
              "\n",
              "    .colab-df-convert:hover {\n",
              "      background-color: #E2EBFA;\n",
              "      box-shadow: 0px 1px 2px rgba(60, 64, 67, 0.3), 0px 1px 3px 1px rgba(60, 64, 67, 0.15);\n",
              "      fill: #174EA6;\n",
              "    }\n",
              "\n",
              "    [theme=dark] .colab-df-convert {\n",
              "      background-color: #3B4455;\n",
              "      fill: #D2E3FC;\n",
              "    }\n",
              "\n",
              "    [theme=dark] .colab-df-convert:hover {\n",
              "      background-color: #434B5C;\n",
              "      box-shadow: 0px 1px 3px 1px rgba(0, 0, 0, 0.15);\n",
              "      filter: drop-shadow(0px 1px 2px rgba(0, 0, 0, 0.3));\n",
              "      fill: #FFFFFF;\n",
              "    }\n",
              "  </style>\n",
              "\n",
              "      <script>\n",
              "        const buttonEl =\n",
              "          document.querySelector('#df-1786570f-1094-416e-9442-72dece358d4a button.colab-df-convert');\n",
              "        buttonEl.style.display =\n",
              "          google.colab.kernel.accessAllowed ? 'block' : 'none';\n",
              "\n",
              "        async function convertToInteractive(key) {\n",
              "          const element = document.querySelector('#df-1786570f-1094-416e-9442-72dece358d4a');\n",
              "          const dataTable =\n",
              "            await google.colab.kernel.invokeFunction('convertToInteractive',\n",
              "                                                     [key], {});\n",
              "          if (!dataTable) return;\n",
              "\n",
              "          const docLinkHtml = 'Like what you see? Visit the ' +\n",
              "            '<a target=\"_blank\" href=https://colab.research.google.com/notebooks/data_table.ipynb>data table notebook</a>'\n",
              "            + ' to learn more about interactive tables.';\n",
              "          element.innerHTML = '';\n",
              "          dataTable['output_type'] = 'display_data';\n",
              "          await google.colab.output.renderOutput(dataTable, element);\n",
              "          const docLink = document.createElement('div');\n",
              "          docLink.innerHTML = docLinkHtml;\n",
              "          element.appendChild(docLink);\n",
              "        }\n",
              "      </script>\n",
              "    </div>\n",
              "  </div>\n",
              "  "
            ]
          },
          "metadata": {},
          "execution_count": 30
        }
      ]
    },
    {
      "cell_type": "code",
      "source": [
        "grpd=dx.groupby([dx['x1']])"
      ],
      "metadata": {
        "id": "AGzX4tNn8v9Z"
      },
      "execution_count": null,
      "outputs": []
    },
    {
      "cell_type": "code",
      "source": [
        "grpd"
      ],
      "metadata": {
        "colab": {
          "base_uri": "https://localhost:8080/"
        },
        "id": "cy8_NIQ78wxd",
        "outputId": "d4d22534-02a0-4aad-9a9f-47a722be273d"
      },
      "execution_count": null,
      "outputs": [
        {
          "output_type": "execute_result",
          "data": {
            "text/plain": [
              "<pandas.core.groupby.generic.DataFrameGroupBy object at 0x7fb021206fd0>"
            ]
          },
          "metadata": {},
          "execution_count": 32
        }
      ]
    },
    {
      "cell_type": "code",
      "source": [
        "grpd.mean()"
      ],
      "metadata": {
        "colab": {
          "base_uri": "https://localhost:8080/",
          "height": 143
        },
        "id": "Q_aX4XZy8w4M",
        "outputId": "b8b82e00-8f88-4e31-fab9-960246941d90"
      },
      "execution_count": null,
      "outputs": [
        {
          "output_type": "execute_result",
          "data": {
            "text/plain": [
              "       x3    x4\n",
              "x1             \n",
              "a1  66.75  82.0\n",
              "a2  50.50  63.5"
            ],
            "text/html": [
              "\n",
              "  <div id=\"df-81ea01f5-c63c-4a4f-8743-9e7ef48d92ee\">\n",
              "    <div class=\"colab-df-container\">\n",
              "      <div>\n",
              "<style scoped>\n",
              "    .dataframe tbody tr th:only-of-type {\n",
              "        vertical-align: middle;\n",
              "    }\n",
              "\n",
              "    .dataframe tbody tr th {\n",
              "        vertical-align: top;\n",
              "    }\n",
              "\n",
              "    .dataframe thead th {\n",
              "        text-align: right;\n",
              "    }\n",
              "</style>\n",
              "<table border=\"1\" class=\"dataframe\">\n",
              "  <thead>\n",
              "    <tr style=\"text-align: right;\">\n",
              "      <th></th>\n",
              "      <th>x3</th>\n",
              "      <th>x4</th>\n",
              "    </tr>\n",
              "    <tr>\n",
              "      <th>x1</th>\n",
              "      <th></th>\n",
              "      <th></th>\n",
              "    </tr>\n",
              "  </thead>\n",
              "  <tbody>\n",
              "    <tr>\n",
              "      <th>a1</th>\n",
              "      <td>66.75</td>\n",
              "      <td>82.0</td>\n",
              "    </tr>\n",
              "    <tr>\n",
              "      <th>a2</th>\n",
              "      <td>50.50</td>\n",
              "      <td>63.5</td>\n",
              "    </tr>\n",
              "  </tbody>\n",
              "</table>\n",
              "</div>\n",
              "      <button class=\"colab-df-convert\" onclick=\"convertToInteractive('df-81ea01f5-c63c-4a4f-8743-9e7ef48d92ee')\"\n",
              "              title=\"Convert this dataframe to an interactive table.\"\n",
              "              style=\"display:none;\">\n",
              "        \n",
              "  <svg xmlns=\"http://www.w3.org/2000/svg\" height=\"24px\"viewBox=\"0 0 24 24\"\n",
              "       width=\"24px\">\n",
              "    <path d=\"M0 0h24v24H0V0z\" fill=\"none\"/>\n",
              "    <path d=\"M18.56 5.44l.94 2.06.94-2.06 2.06-.94-2.06-.94-.94-2.06-.94 2.06-2.06.94zm-11 1L8.5 8.5l.94-2.06 2.06-.94-2.06-.94L8.5 2.5l-.94 2.06-2.06.94zm10 10l.94 2.06.94-2.06 2.06-.94-2.06-.94-.94-2.06-.94 2.06-2.06.94z\"/><path d=\"M17.41 7.96l-1.37-1.37c-.4-.4-.92-.59-1.43-.59-.52 0-1.04.2-1.43.59L10.3 9.45l-7.72 7.72c-.78.78-.78 2.05 0 2.83L4 21.41c.39.39.9.59 1.41.59.51 0 1.02-.2 1.41-.59l7.78-7.78 2.81-2.81c.8-.78.8-2.07 0-2.86zM5.41 20L4 18.59l7.72-7.72 1.47 1.35L5.41 20z\"/>\n",
              "  </svg>\n",
              "      </button>\n",
              "      \n",
              "  <style>\n",
              "    .colab-df-container {\n",
              "      display:flex;\n",
              "      flex-wrap:wrap;\n",
              "      gap: 12px;\n",
              "    }\n",
              "\n",
              "    .colab-df-convert {\n",
              "      background-color: #E8F0FE;\n",
              "      border: none;\n",
              "      border-radius: 50%;\n",
              "      cursor: pointer;\n",
              "      display: none;\n",
              "      fill: #1967D2;\n",
              "      height: 32px;\n",
              "      padding: 0 0 0 0;\n",
              "      width: 32px;\n",
              "    }\n",
              "\n",
              "    .colab-df-convert:hover {\n",
              "      background-color: #E2EBFA;\n",
              "      box-shadow: 0px 1px 2px rgba(60, 64, 67, 0.3), 0px 1px 3px 1px rgba(60, 64, 67, 0.15);\n",
              "      fill: #174EA6;\n",
              "    }\n",
              "\n",
              "    [theme=dark] .colab-df-convert {\n",
              "      background-color: #3B4455;\n",
              "      fill: #D2E3FC;\n",
              "    }\n",
              "\n",
              "    [theme=dark] .colab-df-convert:hover {\n",
              "      background-color: #434B5C;\n",
              "      box-shadow: 0px 1px 3px 1px rgba(0, 0, 0, 0.15);\n",
              "      filter: drop-shadow(0px 1px 2px rgba(0, 0, 0, 0.3));\n",
              "      fill: #FFFFFF;\n",
              "    }\n",
              "  </style>\n",
              "\n",
              "      <script>\n",
              "        const buttonEl =\n",
              "          document.querySelector('#df-81ea01f5-c63c-4a4f-8743-9e7ef48d92ee button.colab-df-convert');\n",
              "        buttonEl.style.display =\n",
              "          google.colab.kernel.accessAllowed ? 'block' : 'none';\n",
              "\n",
              "        async function convertToInteractive(key) {\n",
              "          const element = document.querySelector('#df-81ea01f5-c63c-4a4f-8743-9e7ef48d92ee');\n",
              "          const dataTable =\n",
              "            await google.colab.kernel.invokeFunction('convertToInteractive',\n",
              "                                                     [key], {});\n",
              "          if (!dataTable) return;\n",
              "\n",
              "          const docLinkHtml = 'Like what you see? Visit the ' +\n",
              "            '<a target=\"_blank\" href=https://colab.research.google.com/notebooks/data_table.ipynb>data table notebook</a>'\n",
              "            + ' to learn more about interactive tables.';\n",
              "          element.innerHTML = '';\n",
              "          dataTable['output_type'] = 'display_data';\n",
              "          await google.colab.output.renderOutput(dataTable, element);\n",
              "          const docLink = document.createElement('div');\n",
              "          docLink.innerHTML = docLinkHtml;\n",
              "          element.appendChild(docLink);\n",
              "        }\n",
              "      </script>\n",
              "    </div>\n",
              "  </div>\n",
              "  "
            ]
          },
          "metadata": {},
          "execution_count": 33
        }
      ]
    },
    {
      "cell_type": "code",
      "source": [
        "grpd.count()"
      ],
      "metadata": {
        "colab": {
          "base_uri": "https://localhost:8080/",
          "height": 143
        },
        "id": "j6XnftI78xAW",
        "outputId": "b487d14c-54b2-4337-ce82-3118744b3bf3"
      },
      "execution_count": null,
      "outputs": [
        {
          "output_type": "execute_result",
          "data": {
            "text/plain": [
              "    x2  x3  x4\n",
              "x1            \n",
              "a1   4   4   4\n",
              "a2   2   2   2"
            ],
            "text/html": [
              "\n",
              "  <div id=\"df-29159606-811b-469a-8dac-b3c193a99387\">\n",
              "    <div class=\"colab-df-container\">\n",
              "      <div>\n",
              "<style scoped>\n",
              "    .dataframe tbody tr th:only-of-type {\n",
              "        vertical-align: middle;\n",
              "    }\n",
              "\n",
              "    .dataframe tbody tr th {\n",
              "        vertical-align: top;\n",
              "    }\n",
              "\n",
              "    .dataframe thead th {\n",
              "        text-align: right;\n",
              "    }\n",
              "</style>\n",
              "<table border=\"1\" class=\"dataframe\">\n",
              "  <thead>\n",
              "    <tr style=\"text-align: right;\">\n",
              "      <th></th>\n",
              "      <th>x2</th>\n",
              "      <th>x3</th>\n",
              "      <th>x4</th>\n",
              "    </tr>\n",
              "    <tr>\n",
              "      <th>x1</th>\n",
              "      <th></th>\n",
              "      <th></th>\n",
              "      <th></th>\n",
              "    </tr>\n",
              "  </thead>\n",
              "  <tbody>\n",
              "    <tr>\n",
              "      <th>a1</th>\n",
              "      <td>4</td>\n",
              "      <td>4</td>\n",
              "      <td>4</td>\n",
              "    </tr>\n",
              "    <tr>\n",
              "      <th>a2</th>\n",
              "      <td>2</td>\n",
              "      <td>2</td>\n",
              "      <td>2</td>\n",
              "    </tr>\n",
              "  </tbody>\n",
              "</table>\n",
              "</div>\n",
              "      <button class=\"colab-df-convert\" onclick=\"convertToInteractive('df-29159606-811b-469a-8dac-b3c193a99387')\"\n",
              "              title=\"Convert this dataframe to an interactive table.\"\n",
              "              style=\"display:none;\">\n",
              "        \n",
              "  <svg xmlns=\"http://www.w3.org/2000/svg\" height=\"24px\"viewBox=\"0 0 24 24\"\n",
              "       width=\"24px\">\n",
              "    <path d=\"M0 0h24v24H0V0z\" fill=\"none\"/>\n",
              "    <path d=\"M18.56 5.44l.94 2.06.94-2.06 2.06-.94-2.06-.94-.94-2.06-.94 2.06-2.06.94zm-11 1L8.5 8.5l.94-2.06 2.06-.94-2.06-.94L8.5 2.5l-.94 2.06-2.06.94zm10 10l.94 2.06.94-2.06 2.06-.94-2.06-.94-.94-2.06-.94 2.06-2.06.94z\"/><path d=\"M17.41 7.96l-1.37-1.37c-.4-.4-.92-.59-1.43-.59-.52 0-1.04.2-1.43.59L10.3 9.45l-7.72 7.72c-.78.78-.78 2.05 0 2.83L4 21.41c.39.39.9.59 1.41.59.51 0 1.02-.2 1.41-.59l7.78-7.78 2.81-2.81c.8-.78.8-2.07 0-2.86zM5.41 20L4 18.59l7.72-7.72 1.47 1.35L5.41 20z\"/>\n",
              "  </svg>\n",
              "      </button>\n",
              "      \n",
              "  <style>\n",
              "    .colab-df-container {\n",
              "      display:flex;\n",
              "      flex-wrap:wrap;\n",
              "      gap: 12px;\n",
              "    }\n",
              "\n",
              "    .colab-df-convert {\n",
              "      background-color: #E8F0FE;\n",
              "      border: none;\n",
              "      border-radius: 50%;\n",
              "      cursor: pointer;\n",
              "      display: none;\n",
              "      fill: #1967D2;\n",
              "      height: 32px;\n",
              "      padding: 0 0 0 0;\n",
              "      width: 32px;\n",
              "    }\n",
              "\n",
              "    .colab-df-convert:hover {\n",
              "      background-color: #E2EBFA;\n",
              "      box-shadow: 0px 1px 2px rgba(60, 64, 67, 0.3), 0px 1px 3px 1px rgba(60, 64, 67, 0.15);\n",
              "      fill: #174EA6;\n",
              "    }\n",
              "\n",
              "    [theme=dark] .colab-df-convert {\n",
              "      background-color: #3B4455;\n",
              "      fill: #D2E3FC;\n",
              "    }\n",
              "\n",
              "    [theme=dark] .colab-df-convert:hover {\n",
              "      background-color: #434B5C;\n",
              "      box-shadow: 0px 1px 3px 1px rgba(0, 0, 0, 0.15);\n",
              "      filter: drop-shadow(0px 1px 2px rgba(0, 0, 0, 0.3));\n",
              "      fill: #FFFFFF;\n",
              "    }\n",
              "  </style>\n",
              "\n",
              "      <script>\n",
              "        const buttonEl =\n",
              "          document.querySelector('#df-29159606-811b-469a-8dac-b3c193a99387 button.colab-df-convert');\n",
              "        buttonEl.style.display =\n",
              "          google.colab.kernel.accessAllowed ? 'block' : 'none';\n",
              "\n",
              "        async function convertToInteractive(key) {\n",
              "          const element = document.querySelector('#df-29159606-811b-469a-8dac-b3c193a99387');\n",
              "          const dataTable =\n",
              "            await google.colab.kernel.invokeFunction('convertToInteractive',\n",
              "                                                     [key], {});\n",
              "          if (!dataTable) return;\n",
              "\n",
              "          const docLinkHtml = 'Like what you see? Visit the ' +\n",
              "            '<a target=\"_blank\" href=https://colab.research.google.com/notebooks/data_table.ipynb>data table notebook</a>'\n",
              "            + ' to learn more about interactive tables.';\n",
              "          element.innerHTML = '';\n",
              "          dataTable['output_type'] = 'display_data';\n",
              "          await google.colab.output.renderOutput(dataTable, element);\n",
              "          const docLink = document.createElement('div');\n",
              "          docLink.innerHTML = docLinkHtml;\n",
              "          element.appendChild(docLink);\n",
              "        }\n",
              "      </script>\n",
              "    </div>\n",
              "  </div>\n",
              "  "
            ]
          },
          "metadata": {},
          "execution_count": 34
        }
      ]
    },
    {
      "cell_type": "code",
      "source": [
        "grpd.std()"
      ],
      "metadata": {
        "colab": {
          "base_uri": "https://localhost:8080/",
          "height": 143
        },
        "id": "0TRGU_BK8xIu",
        "outputId": "eda727e4-2fb4-4ae7-c593-fb5e3d0d200f"
      },
      "execution_count": null,
      "outputs": [
        {
          "output_type": "execute_result",
          "data": {
            "text/plain": [
              "           x3         x4\n",
              "x1                      \n",
              "a1  24.958299  12.909944\n",
              "a2  14.849242   4.949747"
            ],
            "text/html": [
              "\n",
              "  <div id=\"df-8ccf5336-f5a4-4fcd-b21c-1154ae0c9117\">\n",
              "    <div class=\"colab-df-container\">\n",
              "      <div>\n",
              "<style scoped>\n",
              "    .dataframe tbody tr th:only-of-type {\n",
              "        vertical-align: middle;\n",
              "    }\n",
              "\n",
              "    .dataframe tbody tr th {\n",
              "        vertical-align: top;\n",
              "    }\n",
              "\n",
              "    .dataframe thead th {\n",
              "        text-align: right;\n",
              "    }\n",
              "</style>\n",
              "<table border=\"1\" class=\"dataframe\">\n",
              "  <thead>\n",
              "    <tr style=\"text-align: right;\">\n",
              "      <th></th>\n",
              "      <th>x3</th>\n",
              "      <th>x4</th>\n",
              "    </tr>\n",
              "    <tr>\n",
              "      <th>x1</th>\n",
              "      <th></th>\n",
              "      <th></th>\n",
              "    </tr>\n",
              "  </thead>\n",
              "  <tbody>\n",
              "    <tr>\n",
              "      <th>a1</th>\n",
              "      <td>24.958299</td>\n",
              "      <td>12.909944</td>\n",
              "    </tr>\n",
              "    <tr>\n",
              "      <th>a2</th>\n",
              "      <td>14.849242</td>\n",
              "      <td>4.949747</td>\n",
              "    </tr>\n",
              "  </tbody>\n",
              "</table>\n",
              "</div>\n",
              "      <button class=\"colab-df-convert\" onclick=\"convertToInteractive('df-8ccf5336-f5a4-4fcd-b21c-1154ae0c9117')\"\n",
              "              title=\"Convert this dataframe to an interactive table.\"\n",
              "              style=\"display:none;\">\n",
              "        \n",
              "  <svg xmlns=\"http://www.w3.org/2000/svg\" height=\"24px\"viewBox=\"0 0 24 24\"\n",
              "       width=\"24px\">\n",
              "    <path d=\"M0 0h24v24H0V0z\" fill=\"none\"/>\n",
              "    <path d=\"M18.56 5.44l.94 2.06.94-2.06 2.06-.94-2.06-.94-.94-2.06-.94 2.06-2.06.94zm-11 1L8.5 8.5l.94-2.06 2.06-.94-2.06-.94L8.5 2.5l-.94 2.06-2.06.94zm10 10l.94 2.06.94-2.06 2.06-.94-2.06-.94-.94-2.06-.94 2.06-2.06.94z\"/><path d=\"M17.41 7.96l-1.37-1.37c-.4-.4-.92-.59-1.43-.59-.52 0-1.04.2-1.43.59L10.3 9.45l-7.72 7.72c-.78.78-.78 2.05 0 2.83L4 21.41c.39.39.9.59 1.41.59.51 0 1.02-.2 1.41-.59l7.78-7.78 2.81-2.81c.8-.78.8-2.07 0-2.86zM5.41 20L4 18.59l7.72-7.72 1.47 1.35L5.41 20z\"/>\n",
              "  </svg>\n",
              "      </button>\n",
              "      \n",
              "  <style>\n",
              "    .colab-df-container {\n",
              "      display:flex;\n",
              "      flex-wrap:wrap;\n",
              "      gap: 12px;\n",
              "    }\n",
              "\n",
              "    .colab-df-convert {\n",
              "      background-color: #E8F0FE;\n",
              "      border: none;\n",
              "      border-radius: 50%;\n",
              "      cursor: pointer;\n",
              "      display: none;\n",
              "      fill: #1967D2;\n",
              "      height: 32px;\n",
              "      padding: 0 0 0 0;\n",
              "      width: 32px;\n",
              "    }\n",
              "\n",
              "    .colab-df-convert:hover {\n",
              "      background-color: #E2EBFA;\n",
              "      box-shadow: 0px 1px 2px rgba(60, 64, 67, 0.3), 0px 1px 3px 1px rgba(60, 64, 67, 0.15);\n",
              "      fill: #174EA6;\n",
              "    }\n",
              "\n",
              "    [theme=dark] .colab-df-convert {\n",
              "      background-color: #3B4455;\n",
              "      fill: #D2E3FC;\n",
              "    }\n",
              "\n",
              "    [theme=dark] .colab-df-convert:hover {\n",
              "      background-color: #434B5C;\n",
              "      box-shadow: 0px 1px 3px 1px rgba(0, 0, 0, 0.15);\n",
              "      filter: drop-shadow(0px 1px 2px rgba(0, 0, 0, 0.3));\n",
              "      fill: #FFFFFF;\n",
              "    }\n",
              "  </style>\n",
              "\n",
              "      <script>\n",
              "        const buttonEl =\n",
              "          document.querySelector('#df-8ccf5336-f5a4-4fcd-b21c-1154ae0c9117 button.colab-df-convert');\n",
              "        buttonEl.style.display =\n",
              "          google.colab.kernel.accessAllowed ? 'block' : 'none';\n",
              "\n",
              "        async function convertToInteractive(key) {\n",
              "          const element = document.querySelector('#df-8ccf5336-f5a4-4fcd-b21c-1154ae0c9117');\n",
              "          const dataTable =\n",
              "            await google.colab.kernel.invokeFunction('convertToInteractive',\n",
              "                                                     [key], {});\n",
              "          if (!dataTable) return;\n",
              "\n",
              "          const docLinkHtml = 'Like what you see? Visit the ' +\n",
              "            '<a target=\"_blank\" href=https://colab.research.google.com/notebooks/data_table.ipynb>data table notebook</a>'\n",
              "            + ' to learn more about interactive tables.';\n",
              "          element.innerHTML = '';\n",
              "          dataTable['output_type'] = 'display_data';\n",
              "          await google.colab.output.renderOutput(dataTable, element);\n",
              "          const docLink = document.createElement('div');\n",
              "          docLink.innerHTML = docLinkHtml;\n",
              "          element.appendChild(docLink);\n",
              "        }\n",
              "      </script>\n",
              "    </div>\n",
              "  </div>\n",
              "  "
            ]
          },
          "metadata": {},
          "execution_count": 35
        }
      ]
    },
    {
      "cell_type": "code",
      "source": [
        "dx.x4"
      ],
      "metadata": {
        "colab": {
          "base_uri": "https://localhost:8080/"
        },
        "id": "mROy7nTS9_xJ",
        "outputId": "48212018-f685-4598-cf11-3b5af5048ba6"
      },
      "execution_count": null,
      "outputs": [
        {
          "output_type": "execute_result",
          "data": {
            "text/plain": [
              "0    67\n",
              "1    60\n",
              "2    77\n",
              "3    67\n",
              "4    87\n",
              "5    97\n",
              "Name: x4, dtype: int64"
            ]
          },
          "metadata": {},
          "execution_count": 36
        }
      ]
    },
    {
      "cell_type": "code",
      "source": [
        "grpd1=dx[['x4']].groupby([dx['x1']])"
      ],
      "metadata": {
        "id": "x7HRmLs_8xQe"
      },
      "execution_count": null,
      "outputs": []
    },
    {
      "cell_type": "code",
      "source": [
        "grpd1.mean()"
      ],
      "metadata": {
        "colab": {
          "base_uri": "https://localhost:8080/",
          "height": 143
        },
        "id": "KX04GZIL-o_N",
        "outputId": "0e509ef4-5b28-4b36-f381-569aa792ced5"
      },
      "execution_count": null,
      "outputs": [
        {
          "output_type": "execute_result",
          "data": {
            "text/plain": [
              "      x4\n",
              "x1      \n",
              "a1  82.0\n",
              "a2  63.5"
            ],
            "text/html": [
              "\n",
              "  <div id=\"df-4b44ad2d-da53-4616-80f2-0c224d423724\">\n",
              "    <div class=\"colab-df-container\">\n",
              "      <div>\n",
              "<style scoped>\n",
              "    .dataframe tbody tr th:only-of-type {\n",
              "        vertical-align: middle;\n",
              "    }\n",
              "\n",
              "    .dataframe tbody tr th {\n",
              "        vertical-align: top;\n",
              "    }\n",
              "\n",
              "    .dataframe thead th {\n",
              "        text-align: right;\n",
              "    }\n",
              "</style>\n",
              "<table border=\"1\" class=\"dataframe\">\n",
              "  <thead>\n",
              "    <tr style=\"text-align: right;\">\n",
              "      <th></th>\n",
              "      <th>x4</th>\n",
              "    </tr>\n",
              "    <tr>\n",
              "      <th>x1</th>\n",
              "      <th></th>\n",
              "    </tr>\n",
              "  </thead>\n",
              "  <tbody>\n",
              "    <tr>\n",
              "      <th>a1</th>\n",
              "      <td>82.0</td>\n",
              "    </tr>\n",
              "    <tr>\n",
              "      <th>a2</th>\n",
              "      <td>63.5</td>\n",
              "    </tr>\n",
              "  </tbody>\n",
              "</table>\n",
              "</div>\n",
              "      <button class=\"colab-df-convert\" onclick=\"convertToInteractive('df-4b44ad2d-da53-4616-80f2-0c224d423724')\"\n",
              "              title=\"Convert this dataframe to an interactive table.\"\n",
              "              style=\"display:none;\">\n",
              "        \n",
              "  <svg xmlns=\"http://www.w3.org/2000/svg\" height=\"24px\"viewBox=\"0 0 24 24\"\n",
              "       width=\"24px\">\n",
              "    <path d=\"M0 0h24v24H0V0z\" fill=\"none\"/>\n",
              "    <path d=\"M18.56 5.44l.94 2.06.94-2.06 2.06-.94-2.06-.94-.94-2.06-.94 2.06-2.06.94zm-11 1L8.5 8.5l.94-2.06 2.06-.94-2.06-.94L8.5 2.5l-.94 2.06-2.06.94zm10 10l.94 2.06.94-2.06 2.06-.94-2.06-.94-.94-2.06-.94 2.06-2.06.94z\"/><path d=\"M17.41 7.96l-1.37-1.37c-.4-.4-.92-.59-1.43-.59-.52 0-1.04.2-1.43.59L10.3 9.45l-7.72 7.72c-.78.78-.78 2.05 0 2.83L4 21.41c.39.39.9.59 1.41.59.51 0 1.02-.2 1.41-.59l7.78-7.78 2.81-2.81c.8-.78.8-2.07 0-2.86zM5.41 20L4 18.59l7.72-7.72 1.47 1.35L5.41 20z\"/>\n",
              "  </svg>\n",
              "      </button>\n",
              "      \n",
              "  <style>\n",
              "    .colab-df-container {\n",
              "      display:flex;\n",
              "      flex-wrap:wrap;\n",
              "      gap: 12px;\n",
              "    }\n",
              "\n",
              "    .colab-df-convert {\n",
              "      background-color: #E8F0FE;\n",
              "      border: none;\n",
              "      border-radius: 50%;\n",
              "      cursor: pointer;\n",
              "      display: none;\n",
              "      fill: #1967D2;\n",
              "      height: 32px;\n",
              "      padding: 0 0 0 0;\n",
              "      width: 32px;\n",
              "    }\n",
              "\n",
              "    .colab-df-convert:hover {\n",
              "      background-color: #E2EBFA;\n",
              "      box-shadow: 0px 1px 2px rgba(60, 64, 67, 0.3), 0px 1px 3px 1px rgba(60, 64, 67, 0.15);\n",
              "      fill: #174EA6;\n",
              "    }\n",
              "\n",
              "    [theme=dark] .colab-df-convert {\n",
              "      background-color: #3B4455;\n",
              "      fill: #D2E3FC;\n",
              "    }\n",
              "\n",
              "    [theme=dark] .colab-df-convert:hover {\n",
              "      background-color: #434B5C;\n",
              "      box-shadow: 0px 1px 3px 1px rgba(0, 0, 0, 0.15);\n",
              "      filter: drop-shadow(0px 1px 2px rgba(0, 0, 0, 0.3));\n",
              "      fill: #FFFFFF;\n",
              "    }\n",
              "  </style>\n",
              "\n",
              "      <script>\n",
              "        const buttonEl =\n",
              "          document.querySelector('#df-4b44ad2d-da53-4616-80f2-0c224d423724 button.colab-df-convert');\n",
              "        buttonEl.style.display =\n",
              "          google.colab.kernel.accessAllowed ? 'block' : 'none';\n",
              "\n",
              "        async function convertToInteractive(key) {\n",
              "          const element = document.querySelector('#df-4b44ad2d-da53-4616-80f2-0c224d423724');\n",
              "          const dataTable =\n",
              "            await google.colab.kernel.invokeFunction('convertToInteractive',\n",
              "                                                     [key], {});\n",
              "          if (!dataTable) return;\n",
              "\n",
              "          const docLinkHtml = 'Like what you see? Visit the ' +\n",
              "            '<a target=\"_blank\" href=https://colab.research.google.com/notebooks/data_table.ipynb>data table notebook</a>'\n",
              "            + ' to learn more about interactive tables.';\n",
              "          element.innerHTML = '';\n",
              "          dataTable['output_type'] = 'display_data';\n",
              "          await google.colab.output.renderOutput(dataTable, element);\n",
              "          const docLink = document.createElement('div');\n",
              "          docLink.innerHTML = docLinkHtml;\n",
              "          element.appendChild(docLink);\n",
              "        }\n",
              "      </script>\n",
              "    </div>\n",
              "  </div>\n",
              "  "
            ]
          },
          "metadata": {},
          "execution_count": 38
        }
      ]
    },
    {
      "cell_type": "code",
      "source": [
        "grpd[['x4']].sum()"
      ],
      "metadata": {
        "colab": {
          "base_uri": "https://localhost:8080/",
          "height": 143
        },
        "id": "dtPStRSa-1Ak",
        "outputId": "33b9adad-b22f-47e6-9a17-1cec5c3b6244"
      },
      "execution_count": null,
      "outputs": [
        {
          "output_type": "execute_result",
          "data": {
            "text/plain": [
              "     x4\n",
              "x1     \n",
              "a1  328\n",
              "a2  127"
            ],
            "text/html": [
              "\n",
              "  <div id=\"df-823206be-2c49-42ac-913d-a26738349b61\">\n",
              "    <div class=\"colab-df-container\">\n",
              "      <div>\n",
              "<style scoped>\n",
              "    .dataframe tbody tr th:only-of-type {\n",
              "        vertical-align: middle;\n",
              "    }\n",
              "\n",
              "    .dataframe tbody tr th {\n",
              "        vertical-align: top;\n",
              "    }\n",
              "\n",
              "    .dataframe thead th {\n",
              "        text-align: right;\n",
              "    }\n",
              "</style>\n",
              "<table border=\"1\" class=\"dataframe\">\n",
              "  <thead>\n",
              "    <tr style=\"text-align: right;\">\n",
              "      <th></th>\n",
              "      <th>x4</th>\n",
              "    </tr>\n",
              "    <tr>\n",
              "      <th>x1</th>\n",
              "      <th></th>\n",
              "    </tr>\n",
              "  </thead>\n",
              "  <tbody>\n",
              "    <tr>\n",
              "      <th>a1</th>\n",
              "      <td>328</td>\n",
              "    </tr>\n",
              "    <tr>\n",
              "      <th>a2</th>\n",
              "      <td>127</td>\n",
              "    </tr>\n",
              "  </tbody>\n",
              "</table>\n",
              "</div>\n",
              "      <button class=\"colab-df-convert\" onclick=\"convertToInteractive('df-823206be-2c49-42ac-913d-a26738349b61')\"\n",
              "              title=\"Convert this dataframe to an interactive table.\"\n",
              "              style=\"display:none;\">\n",
              "        \n",
              "  <svg xmlns=\"http://www.w3.org/2000/svg\" height=\"24px\"viewBox=\"0 0 24 24\"\n",
              "       width=\"24px\">\n",
              "    <path d=\"M0 0h24v24H0V0z\" fill=\"none\"/>\n",
              "    <path d=\"M18.56 5.44l.94 2.06.94-2.06 2.06-.94-2.06-.94-.94-2.06-.94 2.06-2.06.94zm-11 1L8.5 8.5l.94-2.06 2.06-.94-2.06-.94L8.5 2.5l-.94 2.06-2.06.94zm10 10l.94 2.06.94-2.06 2.06-.94-2.06-.94-.94-2.06-.94 2.06-2.06.94z\"/><path d=\"M17.41 7.96l-1.37-1.37c-.4-.4-.92-.59-1.43-.59-.52 0-1.04.2-1.43.59L10.3 9.45l-7.72 7.72c-.78.78-.78 2.05 0 2.83L4 21.41c.39.39.9.59 1.41.59.51 0 1.02-.2 1.41-.59l7.78-7.78 2.81-2.81c.8-.78.8-2.07 0-2.86zM5.41 20L4 18.59l7.72-7.72 1.47 1.35L5.41 20z\"/>\n",
              "  </svg>\n",
              "      </button>\n",
              "      \n",
              "  <style>\n",
              "    .colab-df-container {\n",
              "      display:flex;\n",
              "      flex-wrap:wrap;\n",
              "      gap: 12px;\n",
              "    }\n",
              "\n",
              "    .colab-df-convert {\n",
              "      background-color: #E8F0FE;\n",
              "      border: none;\n",
              "      border-radius: 50%;\n",
              "      cursor: pointer;\n",
              "      display: none;\n",
              "      fill: #1967D2;\n",
              "      height: 32px;\n",
              "      padding: 0 0 0 0;\n",
              "      width: 32px;\n",
              "    }\n",
              "\n",
              "    .colab-df-convert:hover {\n",
              "      background-color: #E2EBFA;\n",
              "      box-shadow: 0px 1px 2px rgba(60, 64, 67, 0.3), 0px 1px 3px 1px rgba(60, 64, 67, 0.15);\n",
              "      fill: #174EA6;\n",
              "    }\n",
              "\n",
              "    [theme=dark] .colab-df-convert {\n",
              "      background-color: #3B4455;\n",
              "      fill: #D2E3FC;\n",
              "    }\n",
              "\n",
              "    [theme=dark] .colab-df-convert:hover {\n",
              "      background-color: #434B5C;\n",
              "      box-shadow: 0px 1px 3px 1px rgba(0, 0, 0, 0.15);\n",
              "      filter: drop-shadow(0px 1px 2px rgba(0, 0, 0, 0.3));\n",
              "      fill: #FFFFFF;\n",
              "    }\n",
              "  </style>\n",
              "\n",
              "      <script>\n",
              "        const buttonEl =\n",
              "          document.querySelector('#df-823206be-2c49-42ac-913d-a26738349b61 button.colab-df-convert');\n",
              "        buttonEl.style.display =\n",
              "          google.colab.kernel.accessAllowed ? 'block' : 'none';\n",
              "\n",
              "        async function convertToInteractive(key) {\n",
              "          const element = document.querySelector('#df-823206be-2c49-42ac-913d-a26738349b61');\n",
              "          const dataTable =\n",
              "            await google.colab.kernel.invokeFunction('convertToInteractive',\n",
              "                                                     [key], {});\n",
              "          if (!dataTable) return;\n",
              "\n",
              "          const docLinkHtml = 'Like what you see? Visit the ' +\n",
              "            '<a target=\"_blank\" href=https://colab.research.google.com/notebooks/data_table.ipynb>data table notebook</a>'\n",
              "            + ' to learn more about interactive tables.';\n",
              "          element.innerHTML = '';\n",
              "          dataTable['output_type'] = 'display_data';\n",
              "          await google.colab.output.renderOutput(dataTable, element);\n",
              "          const docLink = document.createElement('div');\n",
              "          docLink.innerHTML = docLinkHtml;\n",
              "          element.appendChild(docLink);\n",
              "        }\n",
              "      </script>\n",
              "    </div>\n",
              "  </div>\n",
              "  "
            ]
          },
          "metadata": {},
          "execution_count": 39
        }
      ]
    },
    {
      "cell_type": "code",
      "source": [
        "type(dx['x4'])"
      ],
      "metadata": {
        "colab": {
          "base_uri": "https://localhost:8080/"
        },
        "id": "nwkpPBfdB9GI",
        "outputId": "a62d56b3-2243-4e00-f21b-38d4ae7ea472"
      },
      "execution_count": null,
      "outputs": [
        {
          "output_type": "execute_result",
          "data": {
            "text/plain": [
              "pandas.core.series.Series"
            ]
          },
          "metadata": {},
          "execution_count": 40
        }
      ]
    },
    {
      "cell_type": "code",
      "source": [
        "type(dx[['x4']])"
      ],
      "metadata": {
        "colab": {
          "base_uri": "https://localhost:8080/"
        },
        "id": "mJyo_JwiCB0T",
        "outputId": "d3b18ee2-a06e-4a8b-c0f9-a85b4cf6e62e"
      },
      "execution_count": null,
      "outputs": [
        {
          "output_type": "execute_result",
          "data": {
            "text/plain": [
              "pandas.core.frame.DataFrame"
            ]
          },
          "metadata": {},
          "execution_count": 41
        }
      ]
    },
    {
      "cell_type": "code",
      "source": [
        "dx.x4.sum()\n"
      ],
      "metadata": {
        "colab": {
          "base_uri": "https://localhost:8080/"
        },
        "id": "oFJJiE2p_LR4",
        "outputId": "6ce78109-5c53-421e-fe0e-bf196d57ec73"
      },
      "execution_count": null,
      "outputs": [
        {
          "output_type": "execute_result",
          "data": {
            "text/plain": [
              "455"
            ]
          },
          "metadata": {},
          "execution_count": 42
        }
      ]
    },
    {
      "cell_type": "code",
      "source": [],
      "metadata": {
        "id": "E8_nHF1rFUJT"
      },
      "execution_count": null,
      "outputs": []
    },
    {
      "cell_type": "markdown",
      "source": [
        "## Start asking questions"
      ],
      "metadata": {
        "id": "hse5UD3V100o"
      }
    },
    {
      "cell_type": "code",
      "source": [
        "# Here is your data\n",
        "df.head(3)"
      ],
      "metadata": {
        "id": "5HmdMKYsDb4n",
        "colab": {
          "base_uri": "https://localhost:8080/",
          "height": 259
        },
        "outputId": "b13de3f9-0e80-4ac8-aebf-b7439236c129"
      },
      "execution_count": null,
      "outputs": [
        {
          "output_type": "execute_result",
          "data": {
            "text/plain": [
              "    datetime customerid age residence_area product_subclass      productid  \\\n",
              "0 2000-11-01      46855   D              E           110411  4710085120468   \n",
              "1 2000-11-01     539166   E              E           130315  4714981010038   \n",
              "2 2000-11-01     663373   F              E           110217  4710265847666   \n",
              "\n",
              "   quantity  salesprice  year  month  day  \n",
              "0         3          57  2000     11    1  \n",
              "1         2          48  2000     11    1  \n",
              "2         1         135  2000     11    1  "
            ],
            "text/html": [
              "\n",
              "  <div id=\"df-20a7b364-c14a-4803-99bc-b83cce1e3373\">\n",
              "    <div class=\"colab-df-container\">\n",
              "      <div>\n",
              "<style scoped>\n",
              "    .dataframe tbody tr th:only-of-type {\n",
              "        vertical-align: middle;\n",
              "    }\n",
              "\n",
              "    .dataframe tbody tr th {\n",
              "        vertical-align: top;\n",
              "    }\n",
              "\n",
              "    .dataframe thead th {\n",
              "        text-align: right;\n",
              "    }\n",
              "</style>\n",
              "<table border=\"1\" class=\"dataframe\">\n",
              "  <thead>\n",
              "    <tr style=\"text-align: right;\">\n",
              "      <th></th>\n",
              "      <th>datetime</th>\n",
              "      <th>customerid</th>\n",
              "      <th>age</th>\n",
              "      <th>residence_area</th>\n",
              "      <th>product_subclass</th>\n",
              "      <th>productid</th>\n",
              "      <th>quantity</th>\n",
              "      <th>salesprice</th>\n",
              "      <th>year</th>\n",
              "      <th>month</th>\n",
              "      <th>day</th>\n",
              "    </tr>\n",
              "  </thead>\n",
              "  <tbody>\n",
              "    <tr>\n",
              "      <th>0</th>\n",
              "      <td>2000-11-01</td>\n",
              "      <td>46855</td>\n",
              "      <td>D</td>\n",
              "      <td>E</td>\n",
              "      <td>110411</td>\n",
              "      <td>4710085120468</td>\n",
              "      <td>3</td>\n",
              "      <td>57</td>\n",
              "      <td>2000</td>\n",
              "      <td>11</td>\n",
              "      <td>1</td>\n",
              "    </tr>\n",
              "    <tr>\n",
              "      <th>1</th>\n",
              "      <td>2000-11-01</td>\n",
              "      <td>539166</td>\n",
              "      <td>E</td>\n",
              "      <td>E</td>\n",
              "      <td>130315</td>\n",
              "      <td>4714981010038</td>\n",
              "      <td>2</td>\n",
              "      <td>48</td>\n",
              "      <td>2000</td>\n",
              "      <td>11</td>\n",
              "      <td>1</td>\n",
              "    </tr>\n",
              "    <tr>\n",
              "      <th>2</th>\n",
              "      <td>2000-11-01</td>\n",
              "      <td>663373</td>\n",
              "      <td>F</td>\n",
              "      <td>E</td>\n",
              "      <td>110217</td>\n",
              "      <td>4710265847666</td>\n",
              "      <td>1</td>\n",
              "      <td>135</td>\n",
              "      <td>2000</td>\n",
              "      <td>11</td>\n",
              "      <td>1</td>\n",
              "    </tr>\n",
              "  </tbody>\n",
              "</table>\n",
              "</div>\n",
              "      <button class=\"colab-df-convert\" onclick=\"convertToInteractive('df-20a7b364-c14a-4803-99bc-b83cce1e3373')\"\n",
              "              title=\"Convert this dataframe to an interactive table.\"\n",
              "              style=\"display:none;\">\n",
              "        \n",
              "  <svg xmlns=\"http://www.w3.org/2000/svg\" height=\"24px\"viewBox=\"0 0 24 24\"\n",
              "       width=\"24px\">\n",
              "    <path d=\"M0 0h24v24H0V0z\" fill=\"none\"/>\n",
              "    <path d=\"M18.56 5.44l.94 2.06.94-2.06 2.06-.94-2.06-.94-.94-2.06-.94 2.06-2.06.94zm-11 1L8.5 8.5l.94-2.06 2.06-.94-2.06-.94L8.5 2.5l-.94 2.06-2.06.94zm10 10l.94 2.06.94-2.06 2.06-.94-2.06-.94-.94-2.06-.94 2.06-2.06.94z\"/><path d=\"M17.41 7.96l-1.37-1.37c-.4-.4-.92-.59-1.43-.59-.52 0-1.04.2-1.43.59L10.3 9.45l-7.72 7.72c-.78.78-.78 2.05 0 2.83L4 21.41c.39.39.9.59 1.41.59.51 0 1.02-.2 1.41-.59l7.78-7.78 2.81-2.81c.8-.78.8-2.07 0-2.86zM5.41 20L4 18.59l7.72-7.72 1.47 1.35L5.41 20z\"/>\n",
              "  </svg>\n",
              "      </button>\n",
              "      \n",
              "  <style>\n",
              "    .colab-df-container {\n",
              "      display:flex;\n",
              "      flex-wrap:wrap;\n",
              "      gap: 12px;\n",
              "    }\n",
              "\n",
              "    .colab-df-convert {\n",
              "      background-color: #E8F0FE;\n",
              "      border: none;\n",
              "      border-radius: 50%;\n",
              "      cursor: pointer;\n",
              "      display: none;\n",
              "      fill: #1967D2;\n",
              "      height: 32px;\n",
              "      padding: 0 0 0 0;\n",
              "      width: 32px;\n",
              "    }\n",
              "\n",
              "    .colab-df-convert:hover {\n",
              "      background-color: #E2EBFA;\n",
              "      box-shadow: 0px 1px 2px rgba(60, 64, 67, 0.3), 0px 1px 3px 1px rgba(60, 64, 67, 0.15);\n",
              "      fill: #174EA6;\n",
              "    }\n",
              "\n",
              "    [theme=dark] .colab-df-convert {\n",
              "      background-color: #3B4455;\n",
              "      fill: #D2E3FC;\n",
              "    }\n",
              "\n",
              "    [theme=dark] .colab-df-convert:hover {\n",
              "      background-color: #434B5C;\n",
              "      box-shadow: 0px 1px 3px 1px rgba(0, 0, 0, 0.15);\n",
              "      filter: drop-shadow(0px 1px 2px rgba(0, 0, 0, 0.3));\n",
              "      fill: #FFFFFF;\n",
              "    }\n",
              "  </style>\n",
              "\n",
              "      <script>\n",
              "        const buttonEl =\n",
              "          document.querySelector('#df-20a7b364-c14a-4803-99bc-b83cce1e3373 button.colab-df-convert');\n",
              "        buttonEl.style.display =\n",
              "          google.colab.kernel.accessAllowed ? 'block' : 'none';\n",
              "\n",
              "        async function convertToInteractive(key) {\n",
              "          const element = document.querySelector('#df-20a7b364-c14a-4803-99bc-b83cce1e3373');\n",
              "          const dataTable =\n",
              "            await google.colab.kernel.invokeFunction('convertToInteractive',\n",
              "                                                     [key], {});\n",
              "          if (!dataTable) return;\n",
              "\n",
              "          const docLinkHtml = 'Like what you see? Visit the ' +\n",
              "            '<a target=\"_blank\" href=https://colab.research.google.com/notebooks/data_table.ipynb>data table notebook</a>'\n",
              "            + ' to learn more about interactive tables.';\n",
              "          element.innerHTML = '';\n",
              "          dataTable['output_type'] = 'display_data';\n",
              "          await google.colab.output.renderOutput(dataTable, element);\n",
              "          const docLink = document.createElement('div');\n",
              "          docLink.innerHTML = docLinkHtml;\n",
              "          element.appendChild(docLink);\n",
              "        }\n",
              "      </script>\n",
              "    </div>\n",
              "  </div>\n",
              "  "
            ]
          },
          "metadata": {},
          "execution_count": 43
        }
      ]
    },
    {
      "cell_type": "markdown",
      "source": [
        "### Q1\n",
        "How many unique customers, products & product_subclasses exist"
      ],
      "metadata": {
        "id": "UPoYgpIO-bmS"
      }
    },
    {
      "cell_type": "code",
      "source": [
        "df['customerid'].nunique()"
      ],
      "metadata": {
        "colab": {
          "base_uri": "https://localhost:8080/"
        },
        "id": "ObHKucKJFlgc",
        "outputId": "9f8e57e0-cebe-4e74-fc6a-38a5b2823ddd"
      },
      "execution_count": null,
      "outputs": [
        {
          "output_type": "execute_result",
          "data": {
            "text/plain": [
              "32266"
            ]
          },
          "metadata": {},
          "execution_count": 44
        }
      ]
    },
    {
      "cell_type": "markdown",
      "source": [
        "#### Answer"
      ],
      "metadata": {
        "id": "Q0jzos8hw7wR"
      }
    },
    {
      "cell_type": "code",
      "source": [
        "# 4 (Q1) How many unique customers, productids & product_subclasses exist\n",
        "print(\"\\n Unique customer Ids--\")\n",
        "df['customerid'].nunique()                      # 32266\n",
        "\n",
        "\n",
        "print(\"\\n\\n==Unique products Ids==\")\n",
        "df['productid'].nunique()                       # 23812\n",
        "\n",
        "print(\"\\n\\n==Unique Product classes Ids==\")\n",
        "df['product_subclass'].nunique()                # 2012"
      ],
      "metadata": {
        "id": "HzFoP8Bu1bI0",
        "colab": {
          "base_uri": "https://localhost:8080/"
        },
        "outputId": "d7d29ac0-90c8-4cde-a96e-e995906b4a56"
      },
      "execution_count": null,
      "outputs": [
        {
          "output_type": "stream",
          "name": "stdout",
          "text": [
            "\n",
            " Unique customer Ids--\n"
          ]
        },
        {
          "output_type": "execute_result",
          "data": {
            "text/plain": [
              "32266"
            ]
          },
          "metadata": {},
          "execution_count": 45
        },
        {
          "output_type": "stream",
          "name": "stdout",
          "text": [
            "\n",
            "\n",
            "==Unique products Ids==\n"
          ]
        },
        {
          "output_type": "execute_result",
          "data": {
            "text/plain": [
              "23812"
            ]
          },
          "metadata": {},
          "execution_count": 45
        },
        {
          "output_type": "stream",
          "name": "stdout",
          "text": [
            "\n",
            "\n",
            "==Unique Product classes Ids==\n"
          ]
        },
        {
          "output_type": "execute_result",
          "data": {
            "text/plain": [
              "2012"
            ]
          },
          "metadata": {},
          "execution_count": 45
        }
      ]
    },
    {
      "cell_type": "markdown",
      "source": [
        "### Q2\n",
        "Who are the oldest customers?"
      ],
      "metadata": {
        "id": "c3_2aheH-fPX"
      }
    },
    {
      "cell_type": "code",
      "source": [
        "df['datetime'].min()"
      ],
      "metadata": {
        "colab": {
          "base_uri": "https://localhost:8080/"
        },
        "id": "DaEc82MeGg3f",
        "outputId": "54d07ec1-5270-4a34-fe70-8902a8b6658f"
      },
      "execution_count": null,
      "outputs": [
        {
          "output_type": "execute_result",
          "data": {
            "text/plain": [
              "Timestamp('2000-11-01 00:00:00')"
            ]
          },
          "metadata": {},
          "execution_count": 46
        }
      ]
    },
    {
      "cell_type": "code",
      "source": [
        "df.sort_values(by='datetime',ascending=True)"
      ],
      "metadata": {
        "colab": {
          "base_uri": "https://localhost:8080/",
          "height": 661
        },
        "id": "DapgIrAEGxHu",
        "outputId": "dbc0fa2b-1606-4b54-81a9-74b7c27e82b7"
      },
      "execution_count": null,
      "outputs": [
        {
          "output_type": "execute_result",
          "data": {
            "text/plain": [
              "         datetime customerid age residence_area product_subclass  \\\n",
              "0      2000-11-01      46855   D              E           110411   \n",
              "823    2000-11-01    2052472   K              H           110411   \n",
              "822    2000-11-01     958448   C              E           110507   \n",
              "821    2000-11-01    1202335   E              E           120103   \n",
              "820    2000-11-01     958448   C              E           110517   \n",
              "...           ...        ...  ..            ...              ...   \n",
              "811440 2001-02-28    1579505   C              F           530404   \n",
              "811441 2001-02-28    1694581   B              E           100306   \n",
              "811442 2001-02-28    1500820   D              G           100305   \n",
              "811426 2001-02-28    1862799   F              E           110217   \n",
              "817688 2001-02-28    2015088   E              H           100324   \n",
              "\n",
              "            productid  quantity  salesprice  year  month  day  \n",
              "0       4710085120468         3          57  2000     11    1  \n",
              "823     4710085172696         2          38  2000     11    1  \n",
              "822     4710172030021         1         145  2000     11    1  \n",
              "821     4710857000059         1          16  2000     11    1  \n",
              "820     4710063131370         1         196  2000     11    1  \n",
              "...               ...       ...         ...   ...    ...  ...  \n",
              "811440  4710186184192         1         135  2001      2   28  \n",
              "811441  4710022445708         1          98  2001      2   28  \n",
              "811442  4710174041551         2          84  2001      2   28  \n",
              "811426  4719090900065         2         274  2001      2   28  \n",
              "817688  4713754987607         2          58  2001      2   28  \n",
              "\n",
              "[817689 rows x 11 columns]"
            ],
            "text/html": [
              "\n",
              "  <div id=\"df-6d93a916-5b6a-46c5-aaca-6cb109987802\">\n",
              "    <div class=\"colab-df-container\">\n",
              "      <div>\n",
              "<style scoped>\n",
              "    .dataframe tbody tr th:only-of-type {\n",
              "        vertical-align: middle;\n",
              "    }\n",
              "\n",
              "    .dataframe tbody tr th {\n",
              "        vertical-align: top;\n",
              "    }\n",
              "\n",
              "    .dataframe thead th {\n",
              "        text-align: right;\n",
              "    }\n",
              "</style>\n",
              "<table border=\"1\" class=\"dataframe\">\n",
              "  <thead>\n",
              "    <tr style=\"text-align: right;\">\n",
              "      <th></th>\n",
              "      <th>datetime</th>\n",
              "      <th>customerid</th>\n",
              "      <th>age</th>\n",
              "      <th>residence_area</th>\n",
              "      <th>product_subclass</th>\n",
              "      <th>productid</th>\n",
              "      <th>quantity</th>\n",
              "      <th>salesprice</th>\n",
              "      <th>year</th>\n",
              "      <th>month</th>\n",
              "      <th>day</th>\n",
              "    </tr>\n",
              "  </thead>\n",
              "  <tbody>\n",
              "    <tr>\n",
              "      <th>0</th>\n",
              "      <td>2000-11-01</td>\n",
              "      <td>46855</td>\n",
              "      <td>D</td>\n",
              "      <td>E</td>\n",
              "      <td>110411</td>\n",
              "      <td>4710085120468</td>\n",
              "      <td>3</td>\n",
              "      <td>57</td>\n",
              "      <td>2000</td>\n",
              "      <td>11</td>\n",
              "      <td>1</td>\n",
              "    </tr>\n",
              "    <tr>\n",
              "      <th>823</th>\n",
              "      <td>2000-11-01</td>\n",
              "      <td>2052472</td>\n",
              "      <td>K</td>\n",
              "      <td>H</td>\n",
              "      <td>110411</td>\n",
              "      <td>4710085172696</td>\n",
              "      <td>2</td>\n",
              "      <td>38</td>\n",
              "      <td>2000</td>\n",
              "      <td>11</td>\n",
              "      <td>1</td>\n",
              "    </tr>\n",
              "    <tr>\n",
              "      <th>822</th>\n",
              "      <td>2000-11-01</td>\n",
              "      <td>958448</td>\n",
              "      <td>C</td>\n",
              "      <td>E</td>\n",
              "      <td>110507</td>\n",
              "      <td>4710172030021</td>\n",
              "      <td>1</td>\n",
              "      <td>145</td>\n",
              "      <td>2000</td>\n",
              "      <td>11</td>\n",
              "      <td>1</td>\n",
              "    </tr>\n",
              "    <tr>\n",
              "      <th>821</th>\n",
              "      <td>2000-11-01</td>\n",
              "      <td>1202335</td>\n",
              "      <td>E</td>\n",
              "      <td>E</td>\n",
              "      <td>120103</td>\n",
              "      <td>4710857000059</td>\n",
              "      <td>1</td>\n",
              "      <td>16</td>\n",
              "      <td>2000</td>\n",
              "      <td>11</td>\n",
              "      <td>1</td>\n",
              "    </tr>\n",
              "    <tr>\n",
              "      <th>820</th>\n",
              "      <td>2000-11-01</td>\n",
              "      <td>958448</td>\n",
              "      <td>C</td>\n",
              "      <td>E</td>\n",
              "      <td>110517</td>\n",
              "      <td>4710063131370</td>\n",
              "      <td>1</td>\n",
              "      <td>196</td>\n",
              "      <td>2000</td>\n",
              "      <td>11</td>\n",
              "      <td>1</td>\n",
              "    </tr>\n",
              "    <tr>\n",
              "      <th>...</th>\n",
              "      <td>...</td>\n",
              "      <td>...</td>\n",
              "      <td>...</td>\n",
              "      <td>...</td>\n",
              "      <td>...</td>\n",
              "      <td>...</td>\n",
              "      <td>...</td>\n",
              "      <td>...</td>\n",
              "      <td>...</td>\n",
              "      <td>...</td>\n",
              "      <td>...</td>\n",
              "    </tr>\n",
              "    <tr>\n",
              "      <th>811440</th>\n",
              "      <td>2001-02-28</td>\n",
              "      <td>1579505</td>\n",
              "      <td>C</td>\n",
              "      <td>F</td>\n",
              "      <td>530404</td>\n",
              "      <td>4710186184192</td>\n",
              "      <td>1</td>\n",
              "      <td>135</td>\n",
              "      <td>2001</td>\n",
              "      <td>2</td>\n",
              "      <td>28</td>\n",
              "    </tr>\n",
              "    <tr>\n",
              "      <th>811441</th>\n",
              "      <td>2001-02-28</td>\n",
              "      <td>1694581</td>\n",
              "      <td>B</td>\n",
              "      <td>E</td>\n",
              "      <td>100306</td>\n",
              "      <td>4710022445708</td>\n",
              "      <td>1</td>\n",
              "      <td>98</td>\n",
              "      <td>2001</td>\n",
              "      <td>2</td>\n",
              "      <td>28</td>\n",
              "    </tr>\n",
              "    <tr>\n",
              "      <th>811442</th>\n",
              "      <td>2001-02-28</td>\n",
              "      <td>1500820</td>\n",
              "      <td>D</td>\n",
              "      <td>G</td>\n",
              "      <td>100305</td>\n",
              "      <td>4710174041551</td>\n",
              "      <td>2</td>\n",
              "      <td>84</td>\n",
              "      <td>2001</td>\n",
              "      <td>2</td>\n",
              "      <td>28</td>\n",
              "    </tr>\n",
              "    <tr>\n",
              "      <th>811426</th>\n",
              "      <td>2001-02-28</td>\n",
              "      <td>1862799</td>\n",
              "      <td>F</td>\n",
              "      <td>E</td>\n",
              "      <td>110217</td>\n",
              "      <td>4719090900065</td>\n",
              "      <td>2</td>\n",
              "      <td>274</td>\n",
              "      <td>2001</td>\n",
              "      <td>2</td>\n",
              "      <td>28</td>\n",
              "    </tr>\n",
              "    <tr>\n",
              "      <th>817688</th>\n",
              "      <td>2001-02-28</td>\n",
              "      <td>2015088</td>\n",
              "      <td>E</td>\n",
              "      <td>H</td>\n",
              "      <td>100324</td>\n",
              "      <td>4713754987607</td>\n",
              "      <td>2</td>\n",
              "      <td>58</td>\n",
              "      <td>2001</td>\n",
              "      <td>2</td>\n",
              "      <td>28</td>\n",
              "    </tr>\n",
              "  </tbody>\n",
              "</table>\n",
              "<p>817689 rows × 11 columns</p>\n",
              "</div>\n",
              "      <button class=\"colab-df-convert\" onclick=\"convertToInteractive('df-6d93a916-5b6a-46c5-aaca-6cb109987802')\"\n",
              "              title=\"Convert this dataframe to an interactive table.\"\n",
              "              style=\"display:none;\">\n",
              "        \n",
              "  <svg xmlns=\"http://www.w3.org/2000/svg\" height=\"24px\"viewBox=\"0 0 24 24\"\n",
              "       width=\"24px\">\n",
              "    <path d=\"M0 0h24v24H0V0z\" fill=\"none\"/>\n",
              "    <path d=\"M18.56 5.44l.94 2.06.94-2.06 2.06-.94-2.06-.94-.94-2.06-.94 2.06-2.06.94zm-11 1L8.5 8.5l.94-2.06 2.06-.94-2.06-.94L8.5 2.5l-.94 2.06-2.06.94zm10 10l.94 2.06.94-2.06 2.06-.94-2.06-.94-.94-2.06-.94 2.06-2.06.94z\"/><path d=\"M17.41 7.96l-1.37-1.37c-.4-.4-.92-.59-1.43-.59-.52 0-1.04.2-1.43.59L10.3 9.45l-7.72 7.72c-.78.78-.78 2.05 0 2.83L4 21.41c.39.39.9.59 1.41.59.51 0 1.02-.2 1.41-.59l7.78-7.78 2.81-2.81c.8-.78.8-2.07 0-2.86zM5.41 20L4 18.59l7.72-7.72 1.47 1.35L5.41 20z\"/>\n",
              "  </svg>\n",
              "      </button>\n",
              "      \n",
              "  <style>\n",
              "    .colab-df-container {\n",
              "      display:flex;\n",
              "      flex-wrap:wrap;\n",
              "      gap: 12px;\n",
              "    }\n",
              "\n",
              "    .colab-df-convert {\n",
              "      background-color: #E8F0FE;\n",
              "      border: none;\n",
              "      border-radius: 50%;\n",
              "      cursor: pointer;\n",
              "      display: none;\n",
              "      fill: #1967D2;\n",
              "      height: 32px;\n",
              "      padding: 0 0 0 0;\n",
              "      width: 32px;\n",
              "    }\n",
              "\n",
              "    .colab-df-convert:hover {\n",
              "      background-color: #E2EBFA;\n",
              "      box-shadow: 0px 1px 2px rgba(60, 64, 67, 0.3), 0px 1px 3px 1px rgba(60, 64, 67, 0.15);\n",
              "      fill: #174EA6;\n",
              "    }\n",
              "\n",
              "    [theme=dark] .colab-df-convert {\n",
              "      background-color: #3B4455;\n",
              "      fill: #D2E3FC;\n",
              "    }\n",
              "\n",
              "    [theme=dark] .colab-df-convert:hover {\n",
              "      background-color: #434B5C;\n",
              "      box-shadow: 0px 1px 3px 1px rgba(0, 0, 0, 0.15);\n",
              "      filter: drop-shadow(0px 1px 2px rgba(0, 0, 0, 0.3));\n",
              "      fill: #FFFFFF;\n",
              "    }\n",
              "  </style>\n",
              "\n",
              "      <script>\n",
              "        const buttonEl =\n",
              "          document.querySelector('#df-6d93a916-5b6a-46c5-aaca-6cb109987802 button.colab-df-convert');\n",
              "        buttonEl.style.display =\n",
              "          google.colab.kernel.accessAllowed ? 'block' : 'none';\n",
              "\n",
              "        async function convertToInteractive(key) {\n",
              "          const element = document.querySelector('#df-6d93a916-5b6a-46c5-aaca-6cb109987802');\n",
              "          const dataTable =\n",
              "            await google.colab.kernel.invokeFunction('convertToInteractive',\n",
              "                                                     [key], {});\n",
              "          if (!dataTable) return;\n",
              "\n",
              "          const docLinkHtml = 'Like what you see? Visit the ' +\n",
              "            '<a target=\"_blank\" href=https://colab.research.google.com/notebooks/data_table.ipynb>data table notebook</a>'\n",
              "            + ' to learn more about interactive tables.';\n",
              "          element.innerHTML = '';\n",
              "          dataTable['output_type'] = 'display_data';\n",
              "          await google.colab.output.renderOutput(dataTable, element);\n",
              "          const docLink = document.createElement('div');\n",
              "          docLink.innerHTML = docLinkHtml;\n",
              "          element.appendChild(docLink);\n",
              "        }\n",
              "      </script>\n",
              "    </div>\n",
              "  </div>\n",
              "  "
            ]
          },
          "metadata": {},
          "execution_count": 47
        }
      ]
    },
    {
      "cell_type": "code",
      "source": [
        "grpd['datetime'].min().sort_values(ascending = True)"
      ],
      "metadata": {
        "colab": {
          "base_uri": "https://localhost:8080/",
          "height": 328
        },
        "id": "elkSDi9JHZH6",
        "outputId": "46f9d806-5de4-4b37-c728-e68c9ae9e6ed"
      },
      "execution_count": null,
      "outputs": [
        {
          "output_type": "error",
          "ename": "KeyError",
          "evalue": "ignored",
          "traceback": [
            "\u001b[0;31m---------------------------------------------------------------------------\u001b[0m",
            "\u001b[0;31mKeyError\u001b[0m                                  Traceback (most recent call last)",
            "\u001b[0;32m<ipython-input-48-d7304b8fc3b6>\u001b[0m in \u001b[0;36m<module>\u001b[0;34m\u001b[0m\n\u001b[0;32m----> 1\u001b[0;31m \u001b[0mgrpd\u001b[0m\u001b[0;34m[\u001b[0m\u001b[0;34m'datetime'\u001b[0m\u001b[0;34m]\u001b[0m\u001b[0;34m.\u001b[0m\u001b[0mmin\u001b[0m\u001b[0;34m(\u001b[0m\u001b[0;34m)\u001b[0m\u001b[0;34m.\u001b[0m\u001b[0msort_values\u001b[0m\u001b[0;34m(\u001b[0m\u001b[0mascending\u001b[0m \u001b[0;34m=\u001b[0m \u001b[0;32mTrue\u001b[0m\u001b[0;34m)\u001b[0m\u001b[0;34m\u001b[0m\u001b[0;34m\u001b[0m\u001b[0m\n\u001b[0m",
            "\u001b[0;32m/usr/local/lib/python3.7/dist-packages/pandas/core/groupby/generic.py\u001b[0m in \u001b[0;36m__getitem__\u001b[0;34m(self, key)\u001b[0m\n\u001b[1;32m   1536\u001b[0m                 \u001b[0mstacklevel\u001b[0m\u001b[0;34m=\u001b[0m\u001b[0;36m2\u001b[0m\u001b[0;34m,\u001b[0m\u001b[0;34m\u001b[0m\u001b[0;34m\u001b[0m\u001b[0m\n\u001b[1;32m   1537\u001b[0m             )\n\u001b[0;32m-> 1538\u001b[0;31m         \u001b[0;32mreturn\u001b[0m \u001b[0msuper\u001b[0m\u001b[0;34m(\u001b[0m\u001b[0;34m)\u001b[0m\u001b[0;34m.\u001b[0m\u001b[0m__getitem__\u001b[0m\u001b[0;34m(\u001b[0m\u001b[0mkey\u001b[0m\u001b[0;34m)\u001b[0m\u001b[0;34m\u001b[0m\u001b[0;34m\u001b[0m\u001b[0m\n\u001b[0m\u001b[1;32m   1539\u001b[0m \u001b[0;34m\u001b[0m\u001b[0m\n\u001b[1;32m   1540\u001b[0m     \u001b[0;32mdef\u001b[0m \u001b[0m_gotitem\u001b[0m\u001b[0;34m(\u001b[0m\u001b[0mself\u001b[0m\u001b[0;34m,\u001b[0m \u001b[0mkey\u001b[0m\u001b[0;34m,\u001b[0m \u001b[0mndim\u001b[0m\u001b[0;34m:\u001b[0m \u001b[0mint\u001b[0m\u001b[0;34m,\u001b[0m \u001b[0msubset\u001b[0m\u001b[0;34m=\u001b[0m\u001b[0;32mNone\u001b[0m\u001b[0;34m)\u001b[0m\u001b[0;34m:\u001b[0m\u001b[0;34m\u001b[0m\u001b[0;34m\u001b[0m\u001b[0m\n",
            "\u001b[0;32m/usr/local/lib/python3.7/dist-packages/pandas/core/base.py\u001b[0m in \u001b[0;36m__getitem__\u001b[0;34m(self, key)\u001b[0m\n\u001b[1;32m    230\u001b[0m         \u001b[0;32melse\u001b[0m\u001b[0;34m:\u001b[0m\u001b[0;34m\u001b[0m\u001b[0;34m\u001b[0m\u001b[0m\n\u001b[1;32m    231\u001b[0m             \u001b[0;32mif\u001b[0m \u001b[0mkey\u001b[0m \u001b[0;32mnot\u001b[0m \u001b[0;32min\u001b[0m \u001b[0mself\u001b[0m\u001b[0;34m.\u001b[0m\u001b[0mobj\u001b[0m\u001b[0;34m:\u001b[0m\u001b[0;34m\u001b[0m\u001b[0;34m\u001b[0m\u001b[0m\n\u001b[0;32m--> 232\u001b[0;31m                 \u001b[0;32mraise\u001b[0m \u001b[0mKeyError\u001b[0m\u001b[0;34m(\u001b[0m\u001b[0;34mf\"Column not found: {key}\"\u001b[0m\u001b[0;34m)\u001b[0m\u001b[0;34m\u001b[0m\u001b[0;34m\u001b[0m\u001b[0m\n\u001b[0m\u001b[1;32m    233\u001b[0m             \u001b[0msubset\u001b[0m \u001b[0;34m=\u001b[0m \u001b[0mself\u001b[0m\u001b[0;34m.\u001b[0m\u001b[0mobj\u001b[0m\u001b[0;34m[\u001b[0m\u001b[0mkey\u001b[0m\u001b[0;34m]\u001b[0m\u001b[0;34m\u001b[0m\u001b[0;34m\u001b[0m\u001b[0m\n\u001b[1;32m    234\u001b[0m             \u001b[0mndim\u001b[0m \u001b[0;34m=\u001b[0m \u001b[0msubset\u001b[0m\u001b[0;34m.\u001b[0m\u001b[0mndim\u001b[0m\u001b[0;34m\u001b[0m\u001b[0;34m\u001b[0m\u001b[0m\n",
            "\u001b[0;31mKeyError\u001b[0m: 'Column not found: datetime'"
          ]
        }
      ]
    },
    {
      "cell_type": "markdown",
      "source": [
        "#### Answer"
      ],
      "metadata": {
        "id": "fIXwBIz51Ws9"
      }
    },
    {
      "cell_type": "code",
      "source": [
        "####### Groupby:\n",
        "# 5.1 (Q2) \n",
        "#          Sol: Gr by customerid and for each\n",
        "#               customer find his min date. Then, sort it\n",
        "#               to find earliest purchase date of every customer\n",
        "\n",
        "# Show some groupby operations here\n",
        "\n",
        "grpd = df.groupby(['customerid'])\n",
        "grpd\n"
      ],
      "metadata": {
        "id": "YRWLX5-02Ad2",
        "colab": {
          "base_uri": "https://localhost:8080/"
        },
        "outputId": "af3f78e4-4da6-472d-e5de-417da417283a"
      },
      "execution_count": null,
      "outputs": [
        {
          "output_type": "execute_result",
          "data": {
            "text/plain": [
              "<pandas.core.groupby.generic.DataFrameGroupBy object at 0x7fb0210f7c10>"
            ]
          },
          "metadata": {},
          "execution_count": 56
        }
      ]
    },
    {
      "cell_type": "code",
      "source": [
        "# 5.1.1 \n",
        "grpd['datetime'].min().sort_values(ascending = True)"
      ],
      "metadata": {
        "id": "slsBAHDt5XaH",
        "colab": {
          "base_uri": "https://localhost:8080/"
        },
        "outputId": "91c4978b-1ff7-40c3-8b04-538b5122128d"
      },
      "execution_count": null,
      "outputs": [
        {
          "output_type": "execute_result",
          "data": {
            "text/plain": [
              "customerid\n",
              "151153    2000-11-01\n",
              "1717723   2000-11-01\n",
              "309448    2000-11-01\n",
              "1620320   2000-11-01\n",
              "75275     2000-11-01\n",
              "             ...    \n",
              "1941692   2001-02-28\n",
              "2090092   2001-02-28\n",
              "1990607   2001-02-28\n",
              "1739381   2001-02-28\n",
              "611770    2001-02-28\n",
              "Name: datetime, Length: 32266, dtype: datetime64[ns]"
            ]
          },
          "metadata": {},
          "execution_count": 57
        }
      ]
    },
    {
      "cell_type": "markdown",
      "source": [
        "### Q3\n",
        "Recency: Find the last purchase date of every customer"
      ],
      "metadata": {
        "id": "7mchMyVP-iFy"
      }
    },
    {
      "cell_type": "code",
      "source": [
        "df.groupby('customerid')['datetime'].max().sort_values(ascending = False)"
      ],
      "metadata": {
        "colab": {
          "base_uri": "https://localhost:8080/"
        },
        "id": "vKNzV0zGIuYQ",
        "outputId": "7859a11c-64fd-4cdc-826f-1b38b0bab3a5"
      },
      "execution_count": null,
      "outputs": [
        {
          "output_type": "execute_result",
          "data": {
            "text/plain": [
              "customerid\n",
              "938846    2001-02-28\n",
              "1141344   2001-02-28\n",
              "1910537   2001-02-28\n",
              "1909791   2001-02-28\n",
              "1909548   2001-02-28\n",
              "             ...    \n",
              "2057583   2000-11-01\n",
              "1173741   2000-11-01\n",
              "2144511   2000-11-01\n",
              "663373    2000-11-01\n",
              "2116334   2000-11-01\n",
              "Name: datetime, Length: 32266, dtype: datetime64[ns]"
            ]
          },
          "metadata": {},
          "execution_count": 58
        }
      ]
    },
    {
      "cell_type": "code",
      "source": [
        " df.groupby('customerid')['datetime'].max().sort_values(ascending = False)"
      ],
      "metadata": {
        "colab": {
          "base_uri": "https://localhost:8080/"
        },
        "id": "b_0-GTypJXCK",
        "outputId": "df40b2ba-20cd-48dd-bb18-3eb0e8a4b11f"
      },
      "execution_count": null,
      "outputs": [
        {
          "output_type": "execute_result",
          "data": {
            "text/plain": [
              "customerid\n",
              "938846    2001-02-28\n",
              "1141344   2001-02-28\n",
              "1910537   2001-02-28\n",
              "1909791   2001-02-28\n",
              "1909548   2001-02-28\n",
              "             ...    \n",
              "2057583   2000-11-01\n",
              "1173741   2000-11-01\n",
              "2144511   2000-11-01\n",
              "663373    2000-11-01\n",
              "2116334   2000-11-01\n",
              "Name: datetime, Length: 32266, dtype: datetime64[ns]"
            ]
          },
          "metadata": {},
          "execution_count": 59
        }
      ]
    },
    {
      "cell_type": "code",
      "source": [
        "df.groupby([df['customerid'].df['datetime']]).count()"
      ],
      "metadata": {
        "colab": {
          "base_uri": "https://localhost:8080/",
          "height": 304
        },
        "id": "0dCFNBs-KgZC",
        "outputId": "96d8728a-524e-4908-fc59-b263c8eec07c"
      },
      "execution_count": null,
      "outputs": [
        {
          "output_type": "error",
          "ename": "AttributeError",
          "evalue": "ignored",
          "traceback": [
            "\u001b[0;31m---------------------------------------------------------------------------\u001b[0m",
            "\u001b[0;31mAttributeError\u001b[0m                            Traceback (most recent call last)",
            "\u001b[0;32m<ipython-input-60-f4b2b67cb626>\u001b[0m in \u001b[0;36m<module>\u001b[0;34m\u001b[0m\n\u001b[0;32m----> 1\u001b[0;31m \u001b[0mdf\u001b[0m\u001b[0;34m.\u001b[0m\u001b[0mgroupby\u001b[0m\u001b[0;34m(\u001b[0m\u001b[0;34m[\u001b[0m\u001b[0mdf\u001b[0m\u001b[0;34m[\u001b[0m\u001b[0;34m'customerid'\u001b[0m\u001b[0;34m]\u001b[0m\u001b[0;34m.\u001b[0m\u001b[0mdf\u001b[0m\u001b[0;34m[\u001b[0m\u001b[0;34m'datetime'\u001b[0m\u001b[0;34m]\u001b[0m\u001b[0;34m]\u001b[0m\u001b[0;34m)\u001b[0m\u001b[0;34m.\u001b[0m\u001b[0mcount\u001b[0m\u001b[0;34m(\u001b[0m\u001b[0;34m)\u001b[0m\u001b[0;34m\u001b[0m\u001b[0;34m\u001b[0m\u001b[0m\n\u001b[0m",
            "\u001b[0;32m/usr/local/lib/python3.7/dist-packages/pandas/core/generic.py\u001b[0m in \u001b[0;36m__getattr__\u001b[0;34m(self, name)\u001b[0m\n\u001b[1;32m   5485\u001b[0m         ):\n\u001b[1;32m   5486\u001b[0m             \u001b[0;32mreturn\u001b[0m \u001b[0mself\u001b[0m\u001b[0;34m[\u001b[0m\u001b[0mname\u001b[0m\u001b[0;34m]\u001b[0m\u001b[0;34m\u001b[0m\u001b[0;34m\u001b[0m\u001b[0m\n\u001b[0;32m-> 5487\u001b[0;31m         \u001b[0;32mreturn\u001b[0m \u001b[0mobject\u001b[0m\u001b[0;34m.\u001b[0m\u001b[0m__getattribute__\u001b[0m\u001b[0;34m(\u001b[0m\u001b[0mself\u001b[0m\u001b[0;34m,\u001b[0m \u001b[0mname\u001b[0m\u001b[0;34m)\u001b[0m\u001b[0;34m\u001b[0m\u001b[0;34m\u001b[0m\u001b[0m\n\u001b[0m\u001b[1;32m   5488\u001b[0m \u001b[0;34m\u001b[0m\u001b[0m\n\u001b[1;32m   5489\u001b[0m     \u001b[0;32mdef\u001b[0m \u001b[0m__setattr__\u001b[0m\u001b[0;34m(\u001b[0m\u001b[0mself\u001b[0m\u001b[0;34m,\u001b[0m \u001b[0mname\u001b[0m\u001b[0;34m:\u001b[0m \u001b[0mstr\u001b[0m\u001b[0;34m,\u001b[0m \u001b[0mvalue\u001b[0m\u001b[0;34m)\u001b[0m \u001b[0;34m->\u001b[0m \u001b[0;32mNone\u001b[0m\u001b[0;34m:\u001b[0m\u001b[0;34m\u001b[0m\u001b[0;34m\u001b[0m\u001b[0m\n",
            "\u001b[0;31mAttributeError\u001b[0m: 'Series' object has no attribute 'df'"
          ]
        }
      ]
    },
    {
      "cell_type": "code",
      "source": [],
      "metadata": {
        "id": "z1mRo0Y-_78W"
      },
      "execution_count": null,
      "outputs": []
    },
    {
      "cell_type": "markdown",
      "source": [
        "#### Answer"
      ],
      "metadata": {
        "id": "9ASKRv7x1hhF"
      }
    },
    {
      "cell_type": "code",
      "source": [
        "# 5.2 (Q3) Sol:Group by customerid and find the last date of purchase\n",
        "\n",
        "result1 = df.groupby('customerid')['datetime'].max().sort_values(ascending = False)\n",
        "result1.head()\n",
        "result1.size    # 32266\n"
      ],
      "metadata": {
        "id": "xbrA5DHK4znn",
        "colab": {
          "base_uri": "https://localhost:8080/"
        },
        "outputId": "e316d5a9-76da-4641-8131-1cb1a59d1e72"
      },
      "execution_count": null,
      "outputs": [
        {
          "output_type": "execute_result",
          "data": {
            "text/plain": [
              "customerid\n",
              "938846    2001-02-28\n",
              "1141344   2001-02-28\n",
              "1910537   2001-02-28\n",
              "1909791   2001-02-28\n",
              "1909548   2001-02-28\n",
              "Name: datetime, dtype: datetime64[ns]"
            ]
          },
          "metadata": {},
          "execution_count": 61
        },
        {
          "output_type": "execute_result",
          "data": {
            "text/plain": [
              "32266"
            ]
          },
          "metadata": {},
          "execution_count": 61
        }
      ]
    },
    {
      "cell_type": "markdown",
      "source": [
        "### Q4\n",
        "Discover Repeat customers: Find repeat customers"
      ],
      "metadata": {
        "id": "MEBJ08Jh-sd3"
      }
    },
    {
      "cell_type": "code",
      "source": [
        "df['datetime'].groupby(df['customerid']).count().sort_values(ascending=False)"
      ],
      "metadata": {
        "colab": {
          "base_uri": "https://localhost:8080/"
        },
        "id": "LpKVhZ3CMEeM",
        "outputId": "ce31d569-1706-422b-a5cd-659b3f55993c"
      },
      "execution_count": null,
      "outputs": [
        {
          "output_type": "execute_result",
          "data": {
            "text/plain": [
              "customerid\n",
              "20459      1246\n",
              "2112589     879\n",
              "2112596     822\n",
              "2113579     776\n",
              "1847994     754\n",
              "           ... \n",
              "926430        1\n",
              "924689        1\n",
              "2057941       1\n",
              "923415        1\n",
              "2009636       1\n",
              "Name: datetime, Length: 32266, dtype: int64"
            ]
          },
          "metadata": {},
          "execution_count": 62
        }
      ]
    },
    {
      "cell_type": "code",
      "source": [
        "df['datetime'].groupby(df['customerid']).nunique().sort_values(ascending=False)>1"
      ],
      "metadata": {
        "id": "-AZ-MCxl9YPD",
        "outputId": "d2baa712-2695-4d27-e49b-a95649dea3a6",
        "colab": {
          "base_uri": "https://localhost:8080/"
        }
      },
      "execution_count": null,
      "outputs": [
        {
          "output_type": "execute_result",
          "data": {
            "text/plain": [
              "customerid\n",
              "2023939     True\n",
              "2019604     True\n",
              "1846607     True\n",
              "1846904     True\n",
              "1847994     True\n",
              "           ...  \n",
              "668101     False\n",
              "1783919    False\n",
              "1784039    False\n",
              "667982     False\n",
              "1663402    False\n",
              "Name: datetime, Length: 32266, dtype: bool"
            ]
          },
          "metadata": {},
          "execution_count": 63
        }
      ]
    },
    {
      "cell_type": "markdown",
      "source": [
        "#### Answer"
      ],
      "metadata": {
        "id": "kZoglXHo1__N"
      }
    },
    {
      "cell_type": "code",
      "source": [
        "## 5.3 (Q4): \n",
        "##           Many ways to find repeat-customers\n",
        "##           a. Group customers by both cid and date and count\n",
        "##           b. Group the earlier table by cid and count\n",
        "##           c. Use apply with function\n",
        "##           d. Use apply with lambda"
      ],
      "metadata": {
        "id": "7LPNgfcU6nEf"
      },
      "execution_count": null,
      "outputs": []
    },
    {
      "cell_type": "code",
      "source": [
        "# 5.4 Method 1: In each box how many unique datetime are there\n",
        "out = df.groupby(df['customerid'], as_index = False)\n",
        "out['datetime'].nunique()"
      ],
      "metadata": {
        "id": "VTZHTv7T6wyO",
        "colab": {
          "base_uri": "https://localhost:8080/",
          "height": 424
        },
        "outputId": "8fcb4a95-40d8-40cf-9d4b-e0c00da48db5"
      },
      "execution_count": null,
      "outputs": [
        {
          "output_type": "execute_result",
          "data": {
            "text/plain": [
              "      customerid  datetime\n",
              "0           1069         4\n",
              "1           1113         4\n",
              "2           1250         2\n",
              "3           1359         1\n",
              "4           1823         3\n",
              "...          ...       ...\n",
              "32261    2179544         1\n",
              "32262    2179568         1\n",
              "32263    2179605         1\n",
              "32264    2179643         1\n",
              "32265   20002000        27\n",
              "\n",
              "[32266 rows x 2 columns]"
            ],
            "text/html": [
              "\n",
              "  <div id=\"df-8ce2eacf-7470-4061-8fca-8a55bdf7a679\">\n",
              "    <div class=\"colab-df-container\">\n",
              "      <div>\n",
              "<style scoped>\n",
              "    .dataframe tbody tr th:only-of-type {\n",
              "        vertical-align: middle;\n",
              "    }\n",
              "\n",
              "    .dataframe tbody tr th {\n",
              "        vertical-align: top;\n",
              "    }\n",
              "\n",
              "    .dataframe thead th {\n",
              "        text-align: right;\n",
              "    }\n",
              "</style>\n",
              "<table border=\"1\" class=\"dataframe\">\n",
              "  <thead>\n",
              "    <tr style=\"text-align: right;\">\n",
              "      <th></th>\n",
              "      <th>customerid</th>\n",
              "      <th>datetime</th>\n",
              "    </tr>\n",
              "  </thead>\n",
              "  <tbody>\n",
              "    <tr>\n",
              "      <th>0</th>\n",
              "      <td>1069</td>\n",
              "      <td>4</td>\n",
              "    </tr>\n",
              "    <tr>\n",
              "      <th>1</th>\n",
              "      <td>1113</td>\n",
              "      <td>4</td>\n",
              "    </tr>\n",
              "    <tr>\n",
              "      <th>2</th>\n",
              "      <td>1250</td>\n",
              "      <td>2</td>\n",
              "    </tr>\n",
              "    <tr>\n",
              "      <th>3</th>\n",
              "      <td>1359</td>\n",
              "      <td>1</td>\n",
              "    </tr>\n",
              "    <tr>\n",
              "      <th>4</th>\n",
              "      <td>1823</td>\n",
              "      <td>3</td>\n",
              "    </tr>\n",
              "    <tr>\n",
              "      <th>...</th>\n",
              "      <td>...</td>\n",
              "      <td>...</td>\n",
              "    </tr>\n",
              "    <tr>\n",
              "      <th>32261</th>\n",
              "      <td>2179544</td>\n",
              "      <td>1</td>\n",
              "    </tr>\n",
              "    <tr>\n",
              "      <th>32262</th>\n",
              "      <td>2179568</td>\n",
              "      <td>1</td>\n",
              "    </tr>\n",
              "    <tr>\n",
              "      <th>32263</th>\n",
              "      <td>2179605</td>\n",
              "      <td>1</td>\n",
              "    </tr>\n",
              "    <tr>\n",
              "      <th>32264</th>\n",
              "      <td>2179643</td>\n",
              "      <td>1</td>\n",
              "    </tr>\n",
              "    <tr>\n",
              "      <th>32265</th>\n",
              "      <td>20002000</td>\n",
              "      <td>27</td>\n",
              "    </tr>\n",
              "  </tbody>\n",
              "</table>\n",
              "<p>32266 rows × 2 columns</p>\n",
              "</div>\n",
              "      <button class=\"colab-df-convert\" onclick=\"convertToInteractive('df-8ce2eacf-7470-4061-8fca-8a55bdf7a679')\"\n",
              "              title=\"Convert this dataframe to an interactive table.\"\n",
              "              style=\"display:none;\">\n",
              "        \n",
              "  <svg xmlns=\"http://www.w3.org/2000/svg\" height=\"24px\"viewBox=\"0 0 24 24\"\n",
              "       width=\"24px\">\n",
              "    <path d=\"M0 0h24v24H0V0z\" fill=\"none\"/>\n",
              "    <path d=\"M18.56 5.44l.94 2.06.94-2.06 2.06-.94-2.06-.94-.94-2.06-.94 2.06-2.06.94zm-11 1L8.5 8.5l.94-2.06 2.06-.94-2.06-.94L8.5 2.5l-.94 2.06-2.06.94zm10 10l.94 2.06.94-2.06 2.06-.94-2.06-.94-.94-2.06-.94 2.06-2.06.94z\"/><path d=\"M17.41 7.96l-1.37-1.37c-.4-.4-.92-.59-1.43-.59-.52 0-1.04.2-1.43.59L10.3 9.45l-7.72 7.72c-.78.78-.78 2.05 0 2.83L4 21.41c.39.39.9.59 1.41.59.51 0 1.02-.2 1.41-.59l7.78-7.78 2.81-2.81c.8-.78.8-2.07 0-2.86zM5.41 20L4 18.59l7.72-7.72 1.47 1.35L5.41 20z\"/>\n",
              "  </svg>\n",
              "      </button>\n",
              "      \n",
              "  <style>\n",
              "    .colab-df-container {\n",
              "      display:flex;\n",
              "      flex-wrap:wrap;\n",
              "      gap: 12px;\n",
              "    }\n",
              "\n",
              "    .colab-df-convert {\n",
              "      background-color: #E8F0FE;\n",
              "      border: none;\n",
              "      border-radius: 50%;\n",
              "      cursor: pointer;\n",
              "      display: none;\n",
              "      fill: #1967D2;\n",
              "      height: 32px;\n",
              "      padding: 0 0 0 0;\n",
              "      width: 32px;\n",
              "    }\n",
              "\n",
              "    .colab-df-convert:hover {\n",
              "      background-color: #E2EBFA;\n",
              "      box-shadow: 0px 1px 2px rgba(60, 64, 67, 0.3), 0px 1px 3px 1px rgba(60, 64, 67, 0.15);\n",
              "      fill: #174EA6;\n",
              "    }\n",
              "\n",
              "    [theme=dark] .colab-df-convert {\n",
              "      background-color: #3B4455;\n",
              "      fill: #D2E3FC;\n",
              "    }\n",
              "\n",
              "    [theme=dark] .colab-df-convert:hover {\n",
              "      background-color: #434B5C;\n",
              "      box-shadow: 0px 1px 3px 1px rgba(0, 0, 0, 0.15);\n",
              "      filter: drop-shadow(0px 1px 2px rgba(0, 0, 0, 0.3));\n",
              "      fill: #FFFFFF;\n",
              "    }\n",
              "  </style>\n",
              "\n",
              "      <script>\n",
              "        const buttonEl =\n",
              "          document.querySelector('#df-8ce2eacf-7470-4061-8fca-8a55bdf7a679 button.colab-df-convert');\n",
              "        buttonEl.style.display =\n",
              "          google.colab.kernel.accessAllowed ? 'block' : 'none';\n",
              "\n",
              "        async function convertToInteractive(key) {\n",
              "          const element = document.querySelector('#df-8ce2eacf-7470-4061-8fca-8a55bdf7a679');\n",
              "          const dataTable =\n",
              "            await google.colab.kernel.invokeFunction('convertToInteractive',\n",
              "                                                     [key], {});\n",
              "          if (!dataTable) return;\n",
              "\n",
              "          const docLinkHtml = 'Like what you see? Visit the ' +\n",
              "            '<a target=\"_blank\" href=https://colab.research.google.com/notebooks/data_table.ipynb>data table notebook</a>'\n",
              "            + ' to learn more about interactive tables.';\n",
              "          element.innerHTML = '';\n",
              "          dataTable['output_type'] = 'display_data';\n",
              "          await google.colab.output.renderOutput(dataTable, element);\n",
              "          const docLink = document.createElement('div');\n",
              "          docLink.innerHTML = docLinkHtml;\n",
              "          element.appendChild(docLink);\n",
              "        }\n",
              "      </script>\n",
              "    </div>\n",
              "  </div>\n",
              "  "
            ]
          },
          "metadata": {},
          "execution_count": 65
        }
      ]
    },
    {
      "cell_type": "code",
      "source": [
        "# 5.4.1 Check for one customerid\n",
        "df.loc[df['customerid'] == 1069]"
      ],
      "metadata": {
        "id": "dnh3kretn2SS",
        "colab": {
          "base_uri": "https://localhost:8080/",
          "height": 649
        },
        "outputId": "378dea4e-b819-4caa-b02e-424ec7acd976"
      },
      "execution_count": null,
      "outputs": [
        {
          "output_type": "execute_result",
          "data": {
            "text/plain": [
              "         datetime customerid age residence_area product_subclass  \\\n",
              "96123  2000-11-13       1069   K              E           100314   \n",
              "97529  2000-11-13       1069   K              E           100205   \n",
              "535002 2001-01-21       1069   K              E           110333   \n",
              "535121 2001-01-21       1069   K              E           100311   \n",
              "535233 2001-01-21       1069   K              E           110333   \n",
              "641698 2001-02-10       1069   K              E           110217   \n",
              "694281 2001-02-03       1069   K              E           100101   \n",
              "694422 2001-02-03       1069   K              E           120106   \n",
              "695052 2001-02-03       1069   K              E           110117   \n",
              "695211 2001-02-03       1069   K              E           110108   \n",
              "695521 2001-02-03       1069   K              E           100314   \n",
              "\n",
              "            productid  quantity  salesprice  year  month  day  \n",
              "96123   4710176008699         1          98  2000     11   13  \n",
              "97529   9556439880610         1          89  2000     11   13  \n",
              "535002  4710320224661         1         425  2001      1   21  \n",
              "535121  4710022101208         1         198  2001      1   21  \n",
              "535233  4712603661644         1         348  2001      1   21  \n",
              "641698  4712162000038         2         290  2001      2   10  \n",
              "694281    22000167620         2         192  2001      2    3  \n",
              "694422  4710011402026         2          46  2001      2    3  \n",
              "695052  4903101125107         2          58  2001      2    3  \n",
              "695211  4710088620156         2         130  2001      2    3  \n",
              "695521  4710176008699         1          70  2001      2    3  "
            ],
            "text/html": [
              "\n",
              "  <div id=\"df-d691e988-a7dc-41ed-a0b5-573792782ee2\">\n",
              "    <div class=\"colab-df-container\">\n",
              "      <div>\n",
              "<style scoped>\n",
              "    .dataframe tbody tr th:only-of-type {\n",
              "        vertical-align: middle;\n",
              "    }\n",
              "\n",
              "    .dataframe tbody tr th {\n",
              "        vertical-align: top;\n",
              "    }\n",
              "\n",
              "    .dataframe thead th {\n",
              "        text-align: right;\n",
              "    }\n",
              "</style>\n",
              "<table border=\"1\" class=\"dataframe\">\n",
              "  <thead>\n",
              "    <tr style=\"text-align: right;\">\n",
              "      <th></th>\n",
              "      <th>datetime</th>\n",
              "      <th>customerid</th>\n",
              "      <th>age</th>\n",
              "      <th>residence_area</th>\n",
              "      <th>product_subclass</th>\n",
              "      <th>productid</th>\n",
              "      <th>quantity</th>\n",
              "      <th>salesprice</th>\n",
              "      <th>year</th>\n",
              "      <th>month</th>\n",
              "      <th>day</th>\n",
              "    </tr>\n",
              "  </thead>\n",
              "  <tbody>\n",
              "    <tr>\n",
              "      <th>96123</th>\n",
              "      <td>2000-11-13</td>\n",
              "      <td>1069</td>\n",
              "      <td>K</td>\n",
              "      <td>E</td>\n",
              "      <td>100314</td>\n",
              "      <td>4710176008699</td>\n",
              "      <td>1</td>\n",
              "      <td>98</td>\n",
              "      <td>2000</td>\n",
              "      <td>11</td>\n",
              "      <td>13</td>\n",
              "    </tr>\n",
              "    <tr>\n",
              "      <th>97529</th>\n",
              "      <td>2000-11-13</td>\n",
              "      <td>1069</td>\n",
              "      <td>K</td>\n",
              "      <td>E</td>\n",
              "      <td>100205</td>\n",
              "      <td>9556439880610</td>\n",
              "      <td>1</td>\n",
              "      <td>89</td>\n",
              "      <td>2000</td>\n",
              "      <td>11</td>\n",
              "      <td>13</td>\n",
              "    </tr>\n",
              "    <tr>\n",
              "      <th>535002</th>\n",
              "      <td>2001-01-21</td>\n",
              "      <td>1069</td>\n",
              "      <td>K</td>\n",
              "      <td>E</td>\n",
              "      <td>110333</td>\n",
              "      <td>4710320224661</td>\n",
              "      <td>1</td>\n",
              "      <td>425</td>\n",
              "      <td>2001</td>\n",
              "      <td>1</td>\n",
              "      <td>21</td>\n",
              "    </tr>\n",
              "    <tr>\n",
              "      <th>535121</th>\n",
              "      <td>2001-01-21</td>\n",
              "      <td>1069</td>\n",
              "      <td>K</td>\n",
              "      <td>E</td>\n",
              "      <td>100311</td>\n",
              "      <td>4710022101208</td>\n",
              "      <td>1</td>\n",
              "      <td>198</td>\n",
              "      <td>2001</td>\n",
              "      <td>1</td>\n",
              "      <td>21</td>\n",
              "    </tr>\n",
              "    <tr>\n",
              "      <th>535233</th>\n",
              "      <td>2001-01-21</td>\n",
              "      <td>1069</td>\n",
              "      <td>K</td>\n",
              "      <td>E</td>\n",
              "      <td>110333</td>\n",
              "      <td>4712603661644</td>\n",
              "      <td>1</td>\n",
              "      <td>348</td>\n",
              "      <td>2001</td>\n",
              "      <td>1</td>\n",
              "      <td>21</td>\n",
              "    </tr>\n",
              "    <tr>\n",
              "      <th>641698</th>\n",
              "      <td>2001-02-10</td>\n",
              "      <td>1069</td>\n",
              "      <td>K</td>\n",
              "      <td>E</td>\n",
              "      <td>110217</td>\n",
              "      <td>4712162000038</td>\n",
              "      <td>2</td>\n",
              "      <td>290</td>\n",
              "      <td>2001</td>\n",
              "      <td>2</td>\n",
              "      <td>10</td>\n",
              "    </tr>\n",
              "    <tr>\n",
              "      <th>694281</th>\n",
              "      <td>2001-02-03</td>\n",
              "      <td>1069</td>\n",
              "      <td>K</td>\n",
              "      <td>E</td>\n",
              "      <td>100101</td>\n",
              "      <td>22000167620</td>\n",
              "      <td>2</td>\n",
              "      <td>192</td>\n",
              "      <td>2001</td>\n",
              "      <td>2</td>\n",
              "      <td>3</td>\n",
              "    </tr>\n",
              "    <tr>\n",
              "      <th>694422</th>\n",
              "      <td>2001-02-03</td>\n",
              "      <td>1069</td>\n",
              "      <td>K</td>\n",
              "      <td>E</td>\n",
              "      <td>120106</td>\n",
              "      <td>4710011402026</td>\n",
              "      <td>2</td>\n",
              "      <td>46</td>\n",
              "      <td>2001</td>\n",
              "      <td>2</td>\n",
              "      <td>3</td>\n",
              "    </tr>\n",
              "    <tr>\n",
              "      <th>695052</th>\n",
              "      <td>2001-02-03</td>\n",
              "      <td>1069</td>\n",
              "      <td>K</td>\n",
              "      <td>E</td>\n",
              "      <td>110117</td>\n",
              "      <td>4903101125107</td>\n",
              "      <td>2</td>\n",
              "      <td>58</td>\n",
              "      <td>2001</td>\n",
              "      <td>2</td>\n",
              "      <td>3</td>\n",
              "    </tr>\n",
              "    <tr>\n",
              "      <th>695211</th>\n",
              "      <td>2001-02-03</td>\n",
              "      <td>1069</td>\n",
              "      <td>K</td>\n",
              "      <td>E</td>\n",
              "      <td>110108</td>\n",
              "      <td>4710088620156</td>\n",
              "      <td>2</td>\n",
              "      <td>130</td>\n",
              "      <td>2001</td>\n",
              "      <td>2</td>\n",
              "      <td>3</td>\n",
              "    </tr>\n",
              "    <tr>\n",
              "      <th>695521</th>\n",
              "      <td>2001-02-03</td>\n",
              "      <td>1069</td>\n",
              "      <td>K</td>\n",
              "      <td>E</td>\n",
              "      <td>100314</td>\n",
              "      <td>4710176008699</td>\n",
              "      <td>1</td>\n",
              "      <td>70</td>\n",
              "      <td>2001</td>\n",
              "      <td>2</td>\n",
              "      <td>3</td>\n",
              "    </tr>\n",
              "  </tbody>\n",
              "</table>\n",
              "</div>\n",
              "      <button class=\"colab-df-convert\" onclick=\"convertToInteractive('df-d691e988-a7dc-41ed-a0b5-573792782ee2')\"\n",
              "              title=\"Convert this dataframe to an interactive table.\"\n",
              "              style=\"display:none;\">\n",
              "        \n",
              "  <svg xmlns=\"http://www.w3.org/2000/svg\" height=\"24px\"viewBox=\"0 0 24 24\"\n",
              "       width=\"24px\">\n",
              "    <path d=\"M0 0h24v24H0V0z\" fill=\"none\"/>\n",
              "    <path d=\"M18.56 5.44l.94 2.06.94-2.06 2.06-.94-2.06-.94-.94-2.06-.94 2.06-2.06.94zm-11 1L8.5 8.5l.94-2.06 2.06-.94-2.06-.94L8.5 2.5l-.94 2.06-2.06.94zm10 10l.94 2.06.94-2.06 2.06-.94-2.06-.94-.94-2.06-.94 2.06-2.06.94z\"/><path d=\"M17.41 7.96l-1.37-1.37c-.4-.4-.92-.59-1.43-.59-.52 0-1.04.2-1.43.59L10.3 9.45l-7.72 7.72c-.78.78-.78 2.05 0 2.83L4 21.41c.39.39.9.59 1.41.59.51 0 1.02-.2 1.41-.59l7.78-7.78 2.81-2.81c.8-.78.8-2.07 0-2.86zM5.41 20L4 18.59l7.72-7.72 1.47 1.35L5.41 20z\"/>\n",
              "  </svg>\n",
              "      </button>\n",
              "      \n",
              "  <style>\n",
              "    .colab-df-container {\n",
              "      display:flex;\n",
              "      flex-wrap:wrap;\n",
              "      gap: 12px;\n",
              "    }\n",
              "\n",
              "    .colab-df-convert {\n",
              "      background-color: #E8F0FE;\n",
              "      border: none;\n",
              "      border-radius: 50%;\n",
              "      cursor: pointer;\n",
              "      display: none;\n",
              "      fill: #1967D2;\n",
              "      height: 32px;\n",
              "      padding: 0 0 0 0;\n",
              "      width: 32px;\n",
              "    }\n",
              "\n",
              "    .colab-df-convert:hover {\n",
              "      background-color: #E2EBFA;\n",
              "      box-shadow: 0px 1px 2px rgba(60, 64, 67, 0.3), 0px 1px 3px 1px rgba(60, 64, 67, 0.15);\n",
              "      fill: #174EA6;\n",
              "    }\n",
              "\n",
              "    [theme=dark] .colab-df-convert {\n",
              "      background-color: #3B4455;\n",
              "      fill: #D2E3FC;\n",
              "    }\n",
              "\n",
              "    [theme=dark] .colab-df-convert:hover {\n",
              "      background-color: #434B5C;\n",
              "      box-shadow: 0px 1px 3px 1px rgba(0, 0, 0, 0.15);\n",
              "      filter: drop-shadow(0px 1px 2px rgba(0, 0, 0, 0.3));\n",
              "      fill: #FFFFFF;\n",
              "    }\n",
              "  </style>\n",
              "\n",
              "      <script>\n",
              "        const buttonEl =\n",
              "          document.querySelector('#df-d691e988-a7dc-41ed-a0b5-573792782ee2 button.colab-df-convert');\n",
              "        buttonEl.style.display =\n",
              "          google.colab.kernel.accessAllowed ? 'block' : 'none';\n",
              "\n",
              "        async function convertToInteractive(key) {\n",
              "          const element = document.querySelector('#df-d691e988-a7dc-41ed-a0b5-573792782ee2');\n",
              "          const dataTable =\n",
              "            await google.colab.kernel.invokeFunction('convertToInteractive',\n",
              "                                                     [key], {});\n",
              "          if (!dataTable) return;\n",
              "\n",
              "          const docLinkHtml = 'Like what you see? Visit the ' +\n",
              "            '<a target=\"_blank\" href=https://colab.research.google.com/notebooks/data_table.ipynb>data table notebook</a>'\n",
              "            + ' to learn more about interactive tables.';\n",
              "          element.innerHTML = '';\n",
              "          dataTable['output_type'] = 'display_data';\n",
              "          await google.colab.output.renderOutput(dataTable, element);\n",
              "          const docLink = document.createElement('div');\n",
              "          docLink.innerHTML = docLinkHtml;\n",
              "          element.appendChild(docLink);\n",
              "        }\n",
              "      </script>\n",
              "    </div>\n",
              "  </div>\n",
              "  "
            ]
          },
          "metadata": {},
          "execution_count": 66
        }
      ]
    },
    {
      "cell_type": "code",
      "source": [
        "# 5.4.2 Exclude where visit is 1\n",
        "out[out > 1].sort_values(ascending = False)"
      ],
      "metadata": {
        "id": "ZKhizBAIlMBq",
        "colab": {
          "base_uri": "https://localhost:8080/",
          "height": 182
        },
        "outputId": "5a2f02de-a801-421e-9df6-25ab8d20abc6"
      },
      "execution_count": null,
      "outputs": [
        {
          "output_type": "error",
          "ename": "TypeError",
          "evalue": "ignored",
          "traceback": [
            "\u001b[0;31m---------------------------------------------------------------------------\u001b[0m",
            "\u001b[0;31mTypeError\u001b[0m                                 Traceback (most recent call last)",
            "\u001b[0;32m<ipython-input-67-18bc87e4d9f9>\u001b[0m in \u001b[0;36m<module>\u001b[0;34m\u001b[0m\n\u001b[1;32m      1\u001b[0m \u001b[0;31m# 5.4.2 Exclude where visit is 1\u001b[0m\u001b[0;34m\u001b[0m\u001b[0;34m\u001b[0m\u001b[0;34m\u001b[0m\u001b[0m\n\u001b[0;32m----> 2\u001b[0;31m \u001b[0mout\u001b[0m\u001b[0;34m[\u001b[0m\u001b[0mout\u001b[0m \u001b[0;34m>\u001b[0m \u001b[0;36m1\u001b[0m\u001b[0;34m]\u001b[0m\u001b[0;34m.\u001b[0m\u001b[0msort_values\u001b[0m\u001b[0;34m(\u001b[0m\u001b[0mascending\u001b[0m \u001b[0;34m=\u001b[0m \u001b[0;32mFalse\u001b[0m\u001b[0;34m)\u001b[0m\u001b[0;34m\u001b[0m\u001b[0;34m\u001b[0m\u001b[0m\n\u001b[0m",
            "\u001b[0;31mTypeError\u001b[0m: '>' not supported between instances of 'DataFrameGroupBy' and 'int'"
          ]
        }
      ]
    },
    {
      "cell_type": "code",
      "source": [
        "#5.5 Use apply()\n",
        "# 5.5.1 First define a function:\n",
        "#       Function must return either a scalar or a pandas object\n",
        "#       Its argument is a dataframe\n",
        "\n",
        "def atx(fd):\n",
        "    return fd.datetime.nunique()\n",
        "\n",
        "\n",
        "# 5.5.2 First group by 'customerid'\n",
        "grouped = df.groupby('customerid')\n",
        "\n",
        "\n",
        "# 5.5.3 Extract a data subset\n",
        "#       Each subset is a dataframe\n",
        "r1 = grouped.get_group(1975543)\n",
        "r1                  # It is a dataframe\n",
        "type(r1)\n",
        "r2 = grouped.get_group(915939)\n",
        "r2                 # Another dataframe\n",
        "\n",
        "# 5.5.3 To test, apply the function\n",
        "#       to each subset\n",
        "atx(r1)\n",
        "atx(r2)\n",
        "\n",
        "\n",
        "# 5.5.4 Finally apply the function tx()\n",
        "#       ti each grouped-subset\n",
        "grouped.apply(atx).sort_values(ascending = False)\n",
        "\n",
        "# 5.6 Use lambda\n",
        "#     Each 'x' passed in lambda is a babay-dataframe\n",
        "#     And value returned is True/False\n",
        "grouped = df.groupby('customerid')\n",
        "\n",
        "result = grouped['datetime'].apply(lambda x : x.nunique() > 1).sort_values()\n",
        "result.head()\n",
        "\n"
      ],
      "metadata": {
        "id": "nN899lzK7OVH",
        "colab": {
          "base_uri": "https://localhost:8080/",
          "height": 1000
        },
        "outputId": "4d483c12-faba-4b7d-e61a-e5cbcecee850"
      },
      "execution_count": null,
      "outputs": [
        {
          "output_type": "execute_result",
          "data": {
            "text/plain": [
              "         datetime customerid age residence_area product_subclass  \\\n",
              "19177  2000-11-04    1975543   C              A           560201   \n",
              "142793 2000-11-21    1975543   C              A           560201   \n",
              "142812 2000-11-21    1975543   C              A           530114   \n",
              "142818 2000-11-21    1975543   C              A           110401   \n",
              "143023 2000-11-21    1975543   C              A           100201   \n",
              "143162 2000-11-21    1975543   C              A           560117   \n",
              "143263 2000-11-21    1975543   C              A           560402   \n",
              "143374 2000-11-21    1975543   C              A           560402   \n",
              "143395 2000-11-21    1975543   C              A           530505   \n",
              "143626 2000-11-21    1975543   C              A           560201   \n",
              "143689 2000-11-21    1975543   C              A           560204   \n",
              "143916 2000-11-21    1975543   C              A           500903   \n",
              "144002 2000-11-21    1975543   C              A           130204   \n",
              "144374 2000-11-21    1975543   C              A           110401   \n",
              "144387 2000-11-21    1975543   C              A           130101   \n",
              "144458 2000-11-21    1975543   C              A           500903   \n",
              "812432 2001-02-28    1975543   C              A           560402   \n",
              "812470 2001-02-28    1975543   C              A           100414   \n",
              "813235 2001-02-28    1975543   C              A           100605   \n",
              "813292 2001-02-28    1975543   C              A           560403   \n",
              "\n",
              "            productid  quantity  salesprice  year  month  day  \n",
              "19177   4902430493437         1         294  2000     11    4  \n",
              "142793  4901301011732         1         358  2000     11   21  \n",
              "142812  4710032604799         1         195  2000     11   21  \n",
              "142818  4710249002012         1          47  2000     11   21  \n",
              "143023  4710247007422         1          56  2000     11   21  \n",
              "143162  4715610088091         1         123  2000     11   21  \n",
              "143263  4710498123339         1         483  2000     11   21  \n",
              "143374  9318017207031         1         394  2000     11   21  \n",
              "143395  4710689103232         1          60  2000     11   21  \n",
              "143626  4710363960502         1         445  2000     11   21  \n",
              "143689  4710054380619         1         113  2000     11   21  \n",
              "143916       20564575         1         142  2000     11   21  \n",
              "144002  4710088432353         1          85  2000     11   21  \n",
              "144374  4710249002029         1          47  2000     11   21  \n",
              "144387  4710126185012         1          28  2000     11   21  \n",
              "144458  4712076005198         1          94  2000     11   21  \n",
              "812432  4710498123810         1         595  2001      2   28  \n",
              "812470  4710498235148         1          99  2001      2   28  \n",
              "813235  4716264209221         1         146  2001      2   28  \n",
              "813292  4710498124152         1         155  2001      2   28  "
            ],
            "text/html": [
              "\n",
              "  <div id=\"df-de93608e-6a36-405c-a756-98e569c7aafc\">\n",
              "    <div class=\"colab-df-container\">\n",
              "      <div>\n",
              "<style scoped>\n",
              "    .dataframe tbody tr th:only-of-type {\n",
              "        vertical-align: middle;\n",
              "    }\n",
              "\n",
              "    .dataframe tbody tr th {\n",
              "        vertical-align: top;\n",
              "    }\n",
              "\n",
              "    .dataframe thead th {\n",
              "        text-align: right;\n",
              "    }\n",
              "</style>\n",
              "<table border=\"1\" class=\"dataframe\">\n",
              "  <thead>\n",
              "    <tr style=\"text-align: right;\">\n",
              "      <th></th>\n",
              "      <th>datetime</th>\n",
              "      <th>customerid</th>\n",
              "      <th>age</th>\n",
              "      <th>residence_area</th>\n",
              "      <th>product_subclass</th>\n",
              "      <th>productid</th>\n",
              "      <th>quantity</th>\n",
              "      <th>salesprice</th>\n",
              "      <th>year</th>\n",
              "      <th>month</th>\n",
              "      <th>day</th>\n",
              "    </tr>\n",
              "  </thead>\n",
              "  <tbody>\n",
              "    <tr>\n",
              "      <th>19177</th>\n",
              "      <td>2000-11-04</td>\n",
              "      <td>1975543</td>\n",
              "      <td>C</td>\n",
              "      <td>A</td>\n",
              "      <td>560201</td>\n",
              "      <td>4902430493437</td>\n",
              "      <td>1</td>\n",
              "      <td>294</td>\n",
              "      <td>2000</td>\n",
              "      <td>11</td>\n",
              "      <td>4</td>\n",
              "    </tr>\n",
              "    <tr>\n",
              "      <th>142793</th>\n",
              "      <td>2000-11-21</td>\n",
              "      <td>1975543</td>\n",
              "      <td>C</td>\n",
              "      <td>A</td>\n",
              "      <td>560201</td>\n",
              "      <td>4901301011732</td>\n",
              "      <td>1</td>\n",
              "      <td>358</td>\n",
              "      <td>2000</td>\n",
              "      <td>11</td>\n",
              "      <td>21</td>\n",
              "    </tr>\n",
              "    <tr>\n",
              "      <th>142812</th>\n",
              "      <td>2000-11-21</td>\n",
              "      <td>1975543</td>\n",
              "      <td>C</td>\n",
              "      <td>A</td>\n",
              "      <td>530114</td>\n",
              "      <td>4710032604799</td>\n",
              "      <td>1</td>\n",
              "      <td>195</td>\n",
              "      <td>2000</td>\n",
              "      <td>11</td>\n",
              "      <td>21</td>\n",
              "    </tr>\n",
              "    <tr>\n",
              "      <th>142818</th>\n",
              "      <td>2000-11-21</td>\n",
              "      <td>1975543</td>\n",
              "      <td>C</td>\n",
              "      <td>A</td>\n",
              "      <td>110401</td>\n",
              "      <td>4710249002012</td>\n",
              "      <td>1</td>\n",
              "      <td>47</td>\n",
              "      <td>2000</td>\n",
              "      <td>11</td>\n",
              "      <td>21</td>\n",
              "    </tr>\n",
              "    <tr>\n",
              "      <th>143023</th>\n",
              "      <td>2000-11-21</td>\n",
              "      <td>1975543</td>\n",
              "      <td>C</td>\n",
              "      <td>A</td>\n",
              "      <td>100201</td>\n",
              "      <td>4710247007422</td>\n",
              "      <td>1</td>\n",
              "      <td>56</td>\n",
              "      <td>2000</td>\n",
              "      <td>11</td>\n",
              "      <td>21</td>\n",
              "    </tr>\n",
              "    <tr>\n",
              "      <th>143162</th>\n",
              "      <td>2000-11-21</td>\n",
              "      <td>1975543</td>\n",
              "      <td>C</td>\n",
              "      <td>A</td>\n",
              "      <td>560117</td>\n",
              "      <td>4715610088091</td>\n",
              "      <td>1</td>\n",
              "      <td>123</td>\n",
              "      <td>2000</td>\n",
              "      <td>11</td>\n",
              "      <td>21</td>\n",
              "    </tr>\n",
              "    <tr>\n",
              "      <th>143263</th>\n",
              "      <td>2000-11-21</td>\n",
              "      <td>1975543</td>\n",
              "      <td>C</td>\n",
              "      <td>A</td>\n",
              "      <td>560402</td>\n",
              "      <td>4710498123339</td>\n",
              "      <td>1</td>\n",
              "      <td>483</td>\n",
              "      <td>2000</td>\n",
              "      <td>11</td>\n",
              "      <td>21</td>\n",
              "    </tr>\n",
              "    <tr>\n",
              "      <th>143374</th>\n",
              "      <td>2000-11-21</td>\n",
              "      <td>1975543</td>\n",
              "      <td>C</td>\n",
              "      <td>A</td>\n",
              "      <td>560402</td>\n",
              "      <td>9318017207031</td>\n",
              "      <td>1</td>\n",
              "      <td>394</td>\n",
              "      <td>2000</td>\n",
              "      <td>11</td>\n",
              "      <td>21</td>\n",
              "    </tr>\n",
              "    <tr>\n",
              "      <th>143395</th>\n",
              "      <td>2000-11-21</td>\n",
              "      <td>1975543</td>\n",
              "      <td>C</td>\n",
              "      <td>A</td>\n",
              "      <td>530505</td>\n",
              "      <td>4710689103232</td>\n",
              "      <td>1</td>\n",
              "      <td>60</td>\n",
              "      <td>2000</td>\n",
              "      <td>11</td>\n",
              "      <td>21</td>\n",
              "    </tr>\n",
              "    <tr>\n",
              "      <th>143626</th>\n",
              "      <td>2000-11-21</td>\n",
              "      <td>1975543</td>\n",
              "      <td>C</td>\n",
              "      <td>A</td>\n",
              "      <td>560201</td>\n",
              "      <td>4710363960502</td>\n",
              "      <td>1</td>\n",
              "      <td>445</td>\n",
              "      <td>2000</td>\n",
              "      <td>11</td>\n",
              "      <td>21</td>\n",
              "    </tr>\n",
              "    <tr>\n",
              "      <th>143689</th>\n",
              "      <td>2000-11-21</td>\n",
              "      <td>1975543</td>\n",
              "      <td>C</td>\n",
              "      <td>A</td>\n",
              "      <td>560204</td>\n",
              "      <td>4710054380619</td>\n",
              "      <td>1</td>\n",
              "      <td>113</td>\n",
              "      <td>2000</td>\n",
              "      <td>11</td>\n",
              "      <td>21</td>\n",
              "    </tr>\n",
              "    <tr>\n",
              "      <th>143916</th>\n",
              "      <td>2000-11-21</td>\n",
              "      <td>1975543</td>\n",
              "      <td>C</td>\n",
              "      <td>A</td>\n",
              "      <td>500903</td>\n",
              "      <td>20564575</td>\n",
              "      <td>1</td>\n",
              "      <td>142</td>\n",
              "      <td>2000</td>\n",
              "      <td>11</td>\n",
              "      <td>21</td>\n",
              "    </tr>\n",
              "    <tr>\n",
              "      <th>144002</th>\n",
              "      <td>2000-11-21</td>\n",
              "      <td>1975543</td>\n",
              "      <td>C</td>\n",
              "      <td>A</td>\n",
              "      <td>130204</td>\n",
              "      <td>4710088432353</td>\n",
              "      <td>1</td>\n",
              "      <td>85</td>\n",
              "      <td>2000</td>\n",
              "      <td>11</td>\n",
              "      <td>21</td>\n",
              "    </tr>\n",
              "    <tr>\n",
              "      <th>144374</th>\n",
              "      <td>2000-11-21</td>\n",
              "      <td>1975543</td>\n",
              "      <td>C</td>\n",
              "      <td>A</td>\n",
              "      <td>110401</td>\n",
              "      <td>4710249002029</td>\n",
              "      <td>1</td>\n",
              "      <td>47</td>\n",
              "      <td>2000</td>\n",
              "      <td>11</td>\n",
              "      <td>21</td>\n",
              "    </tr>\n",
              "    <tr>\n",
              "      <th>144387</th>\n",
              "      <td>2000-11-21</td>\n",
              "      <td>1975543</td>\n",
              "      <td>C</td>\n",
              "      <td>A</td>\n",
              "      <td>130101</td>\n",
              "      <td>4710126185012</td>\n",
              "      <td>1</td>\n",
              "      <td>28</td>\n",
              "      <td>2000</td>\n",
              "      <td>11</td>\n",
              "      <td>21</td>\n",
              "    </tr>\n",
              "    <tr>\n",
              "      <th>144458</th>\n",
              "      <td>2000-11-21</td>\n",
              "      <td>1975543</td>\n",
              "      <td>C</td>\n",
              "      <td>A</td>\n",
              "      <td>500903</td>\n",
              "      <td>4712076005198</td>\n",
              "      <td>1</td>\n",
              "      <td>94</td>\n",
              "      <td>2000</td>\n",
              "      <td>11</td>\n",
              "      <td>21</td>\n",
              "    </tr>\n",
              "    <tr>\n",
              "      <th>812432</th>\n",
              "      <td>2001-02-28</td>\n",
              "      <td>1975543</td>\n",
              "      <td>C</td>\n",
              "      <td>A</td>\n",
              "      <td>560402</td>\n",
              "      <td>4710498123810</td>\n",
              "      <td>1</td>\n",
              "      <td>595</td>\n",
              "      <td>2001</td>\n",
              "      <td>2</td>\n",
              "      <td>28</td>\n",
              "    </tr>\n",
              "    <tr>\n",
              "      <th>812470</th>\n",
              "      <td>2001-02-28</td>\n",
              "      <td>1975543</td>\n",
              "      <td>C</td>\n",
              "      <td>A</td>\n",
              "      <td>100414</td>\n",
              "      <td>4710498235148</td>\n",
              "      <td>1</td>\n",
              "      <td>99</td>\n",
              "      <td>2001</td>\n",
              "      <td>2</td>\n",
              "      <td>28</td>\n",
              "    </tr>\n",
              "    <tr>\n",
              "      <th>813235</th>\n",
              "      <td>2001-02-28</td>\n",
              "      <td>1975543</td>\n",
              "      <td>C</td>\n",
              "      <td>A</td>\n",
              "      <td>100605</td>\n",
              "      <td>4716264209221</td>\n",
              "      <td>1</td>\n",
              "      <td>146</td>\n",
              "      <td>2001</td>\n",
              "      <td>2</td>\n",
              "      <td>28</td>\n",
              "    </tr>\n",
              "    <tr>\n",
              "      <th>813292</th>\n",
              "      <td>2001-02-28</td>\n",
              "      <td>1975543</td>\n",
              "      <td>C</td>\n",
              "      <td>A</td>\n",
              "      <td>560403</td>\n",
              "      <td>4710498124152</td>\n",
              "      <td>1</td>\n",
              "      <td>155</td>\n",
              "      <td>2001</td>\n",
              "      <td>2</td>\n",
              "      <td>28</td>\n",
              "    </tr>\n",
              "  </tbody>\n",
              "</table>\n",
              "</div>\n",
              "      <button class=\"colab-df-convert\" onclick=\"convertToInteractive('df-de93608e-6a36-405c-a756-98e569c7aafc')\"\n",
              "              title=\"Convert this dataframe to an interactive table.\"\n",
              "              style=\"display:none;\">\n",
              "        \n",
              "  <svg xmlns=\"http://www.w3.org/2000/svg\" height=\"24px\"viewBox=\"0 0 24 24\"\n",
              "       width=\"24px\">\n",
              "    <path d=\"M0 0h24v24H0V0z\" fill=\"none\"/>\n",
              "    <path d=\"M18.56 5.44l.94 2.06.94-2.06 2.06-.94-2.06-.94-.94-2.06-.94 2.06-2.06.94zm-11 1L8.5 8.5l.94-2.06 2.06-.94-2.06-.94L8.5 2.5l-.94 2.06-2.06.94zm10 10l.94 2.06.94-2.06 2.06-.94-2.06-.94-.94-2.06-.94 2.06-2.06.94z\"/><path d=\"M17.41 7.96l-1.37-1.37c-.4-.4-.92-.59-1.43-.59-.52 0-1.04.2-1.43.59L10.3 9.45l-7.72 7.72c-.78.78-.78 2.05 0 2.83L4 21.41c.39.39.9.59 1.41.59.51 0 1.02-.2 1.41-.59l7.78-7.78 2.81-2.81c.8-.78.8-2.07 0-2.86zM5.41 20L4 18.59l7.72-7.72 1.47 1.35L5.41 20z\"/>\n",
              "  </svg>\n",
              "      </button>\n",
              "      \n",
              "  <style>\n",
              "    .colab-df-container {\n",
              "      display:flex;\n",
              "      flex-wrap:wrap;\n",
              "      gap: 12px;\n",
              "    }\n",
              "\n",
              "    .colab-df-convert {\n",
              "      background-color: #E8F0FE;\n",
              "      border: none;\n",
              "      border-radius: 50%;\n",
              "      cursor: pointer;\n",
              "      display: none;\n",
              "      fill: #1967D2;\n",
              "      height: 32px;\n",
              "      padding: 0 0 0 0;\n",
              "      width: 32px;\n",
              "    }\n",
              "\n",
              "    .colab-df-convert:hover {\n",
              "      background-color: #E2EBFA;\n",
              "      box-shadow: 0px 1px 2px rgba(60, 64, 67, 0.3), 0px 1px 3px 1px rgba(60, 64, 67, 0.15);\n",
              "      fill: #174EA6;\n",
              "    }\n",
              "\n",
              "    [theme=dark] .colab-df-convert {\n",
              "      background-color: #3B4455;\n",
              "      fill: #D2E3FC;\n",
              "    }\n",
              "\n",
              "    [theme=dark] .colab-df-convert:hover {\n",
              "      background-color: #434B5C;\n",
              "      box-shadow: 0px 1px 3px 1px rgba(0, 0, 0, 0.15);\n",
              "      filter: drop-shadow(0px 1px 2px rgba(0, 0, 0, 0.3));\n",
              "      fill: #FFFFFF;\n",
              "    }\n",
              "  </style>\n",
              "\n",
              "      <script>\n",
              "        const buttonEl =\n",
              "          document.querySelector('#df-de93608e-6a36-405c-a756-98e569c7aafc button.colab-df-convert');\n",
              "        buttonEl.style.display =\n",
              "          google.colab.kernel.accessAllowed ? 'block' : 'none';\n",
              "\n",
              "        async function convertToInteractive(key) {\n",
              "          const element = document.querySelector('#df-de93608e-6a36-405c-a756-98e569c7aafc');\n",
              "          const dataTable =\n",
              "            await google.colab.kernel.invokeFunction('convertToInteractive',\n",
              "                                                     [key], {});\n",
              "          if (!dataTable) return;\n",
              "\n",
              "          const docLinkHtml = 'Like what you see? Visit the ' +\n",
              "            '<a target=\"_blank\" href=https://colab.research.google.com/notebooks/data_table.ipynb>data table notebook</a>'\n",
              "            + ' to learn more about interactive tables.';\n",
              "          element.innerHTML = '';\n",
              "          dataTable['output_type'] = 'display_data';\n",
              "          await google.colab.output.renderOutput(dataTable, element);\n",
              "          const docLink = document.createElement('div');\n",
              "          docLink.innerHTML = docLinkHtml;\n",
              "          element.appendChild(docLink);\n",
              "        }\n",
              "      </script>\n",
              "    </div>\n",
              "  </div>\n",
              "  "
            ]
          },
          "metadata": {},
          "execution_count": 68
        },
        {
          "output_type": "execute_result",
          "data": {
            "text/plain": [
              "pandas.core.frame.DataFrame"
            ]
          },
          "metadata": {},
          "execution_count": 68
        },
        {
          "output_type": "execute_result",
          "data": {
            "text/plain": [
              "         datetime customerid age residence_area product_subclass  \\\n",
              "815900 2001-02-28     915939   D              G           110217   \n",
              "\n",
              "            productid  quantity  salesprice  year  month  day  \n",
              "815900  4710265847666         2         278  2001      2   28  "
            ],
            "text/html": [
              "\n",
              "  <div id=\"df-ba969751-e83f-4e11-b66d-44c200bbca2a\">\n",
              "    <div class=\"colab-df-container\">\n",
              "      <div>\n",
              "<style scoped>\n",
              "    .dataframe tbody tr th:only-of-type {\n",
              "        vertical-align: middle;\n",
              "    }\n",
              "\n",
              "    .dataframe tbody tr th {\n",
              "        vertical-align: top;\n",
              "    }\n",
              "\n",
              "    .dataframe thead th {\n",
              "        text-align: right;\n",
              "    }\n",
              "</style>\n",
              "<table border=\"1\" class=\"dataframe\">\n",
              "  <thead>\n",
              "    <tr style=\"text-align: right;\">\n",
              "      <th></th>\n",
              "      <th>datetime</th>\n",
              "      <th>customerid</th>\n",
              "      <th>age</th>\n",
              "      <th>residence_area</th>\n",
              "      <th>product_subclass</th>\n",
              "      <th>productid</th>\n",
              "      <th>quantity</th>\n",
              "      <th>salesprice</th>\n",
              "      <th>year</th>\n",
              "      <th>month</th>\n",
              "      <th>day</th>\n",
              "    </tr>\n",
              "  </thead>\n",
              "  <tbody>\n",
              "    <tr>\n",
              "      <th>815900</th>\n",
              "      <td>2001-02-28</td>\n",
              "      <td>915939</td>\n",
              "      <td>D</td>\n",
              "      <td>G</td>\n",
              "      <td>110217</td>\n",
              "      <td>4710265847666</td>\n",
              "      <td>2</td>\n",
              "      <td>278</td>\n",
              "      <td>2001</td>\n",
              "      <td>2</td>\n",
              "      <td>28</td>\n",
              "    </tr>\n",
              "  </tbody>\n",
              "</table>\n",
              "</div>\n",
              "      <button class=\"colab-df-convert\" onclick=\"convertToInteractive('df-ba969751-e83f-4e11-b66d-44c200bbca2a')\"\n",
              "              title=\"Convert this dataframe to an interactive table.\"\n",
              "              style=\"display:none;\">\n",
              "        \n",
              "  <svg xmlns=\"http://www.w3.org/2000/svg\" height=\"24px\"viewBox=\"0 0 24 24\"\n",
              "       width=\"24px\">\n",
              "    <path d=\"M0 0h24v24H0V0z\" fill=\"none\"/>\n",
              "    <path d=\"M18.56 5.44l.94 2.06.94-2.06 2.06-.94-2.06-.94-.94-2.06-.94 2.06-2.06.94zm-11 1L8.5 8.5l.94-2.06 2.06-.94-2.06-.94L8.5 2.5l-.94 2.06-2.06.94zm10 10l.94 2.06.94-2.06 2.06-.94-2.06-.94-.94-2.06-.94 2.06-2.06.94z\"/><path d=\"M17.41 7.96l-1.37-1.37c-.4-.4-.92-.59-1.43-.59-.52 0-1.04.2-1.43.59L10.3 9.45l-7.72 7.72c-.78.78-.78 2.05 0 2.83L4 21.41c.39.39.9.59 1.41.59.51 0 1.02-.2 1.41-.59l7.78-7.78 2.81-2.81c.8-.78.8-2.07 0-2.86zM5.41 20L4 18.59l7.72-7.72 1.47 1.35L5.41 20z\"/>\n",
              "  </svg>\n",
              "      </button>\n",
              "      \n",
              "  <style>\n",
              "    .colab-df-container {\n",
              "      display:flex;\n",
              "      flex-wrap:wrap;\n",
              "      gap: 12px;\n",
              "    }\n",
              "\n",
              "    .colab-df-convert {\n",
              "      background-color: #E8F0FE;\n",
              "      border: none;\n",
              "      border-radius: 50%;\n",
              "      cursor: pointer;\n",
              "      display: none;\n",
              "      fill: #1967D2;\n",
              "      height: 32px;\n",
              "      padding: 0 0 0 0;\n",
              "      width: 32px;\n",
              "    }\n",
              "\n",
              "    .colab-df-convert:hover {\n",
              "      background-color: #E2EBFA;\n",
              "      box-shadow: 0px 1px 2px rgba(60, 64, 67, 0.3), 0px 1px 3px 1px rgba(60, 64, 67, 0.15);\n",
              "      fill: #174EA6;\n",
              "    }\n",
              "\n",
              "    [theme=dark] .colab-df-convert {\n",
              "      background-color: #3B4455;\n",
              "      fill: #D2E3FC;\n",
              "    }\n",
              "\n",
              "    [theme=dark] .colab-df-convert:hover {\n",
              "      background-color: #434B5C;\n",
              "      box-shadow: 0px 1px 3px 1px rgba(0, 0, 0, 0.15);\n",
              "      filter: drop-shadow(0px 1px 2px rgba(0, 0, 0, 0.3));\n",
              "      fill: #FFFFFF;\n",
              "    }\n",
              "  </style>\n",
              "\n",
              "      <script>\n",
              "        const buttonEl =\n",
              "          document.querySelector('#df-ba969751-e83f-4e11-b66d-44c200bbca2a button.colab-df-convert');\n",
              "        buttonEl.style.display =\n",
              "          google.colab.kernel.accessAllowed ? 'block' : 'none';\n",
              "\n",
              "        async function convertToInteractive(key) {\n",
              "          const element = document.querySelector('#df-ba969751-e83f-4e11-b66d-44c200bbca2a');\n",
              "          const dataTable =\n",
              "            await google.colab.kernel.invokeFunction('convertToInteractive',\n",
              "                                                     [key], {});\n",
              "          if (!dataTable) return;\n",
              "\n",
              "          const docLinkHtml = 'Like what you see? Visit the ' +\n",
              "            '<a target=\"_blank\" href=https://colab.research.google.com/notebooks/data_table.ipynb>data table notebook</a>'\n",
              "            + ' to learn more about interactive tables.';\n",
              "          element.innerHTML = '';\n",
              "          dataTable['output_type'] = 'display_data';\n",
              "          await google.colab.output.renderOutput(dataTable, element);\n",
              "          const docLink = document.createElement('div');\n",
              "          docLink.innerHTML = docLinkHtml;\n",
              "          element.appendChild(docLink);\n",
              "        }\n",
              "      </script>\n",
              "    </div>\n",
              "  </div>\n",
              "  "
            ]
          },
          "metadata": {},
          "execution_count": 68
        },
        {
          "output_type": "execute_result",
          "data": {
            "text/plain": [
              "3"
            ]
          },
          "metadata": {},
          "execution_count": 68
        },
        {
          "output_type": "execute_result",
          "data": {
            "text/plain": [
              "1"
            ]
          },
          "metadata": {},
          "execution_count": 68
        },
        {
          "output_type": "execute_result",
          "data": {
            "text/plain": [
              "customerid\n",
              "2023939    86\n",
              "2019604    85\n",
              "1846607    81\n",
              "1846904    79\n",
              "1847994    76\n",
              "           ..\n",
              "668101      1\n",
              "1783919     1\n",
              "1784039     1\n",
              "667982      1\n",
              "1663402     1\n",
              "Length: 32266, dtype: int64"
            ]
          },
          "metadata": {},
          "execution_count": 68
        },
        {
          "output_type": "execute_result",
          "data": {
            "text/plain": [
              "customerid\n",
              "1663389    False\n",
              "1972627    False\n",
              "1433227    False\n",
              "1433333    False\n",
              "1972535    False\n",
              "Name: datetime, dtype: bool"
            ]
          },
          "metadata": {},
          "execution_count": 68
        }
      ]
    },
    {
      "cell_type": "markdown",
      "source": [
        "### Q5\n",
        " What are total no of visits of a customer during the period of data?"
      ],
      "metadata": {
        "id": "eEyt-MHh-vx2"
      }
    },
    {
      "cell_type": "markdown",
      "source": [
        "#### Answer"
      ],
      "metadata": {
        "id": "7_LoOGkL2MSW"
      }
    },
    {
      "cell_type": "code",
      "source": [
        "# 6.  (Q5): What is total no of visits of a customer during the period of data\n",
        "#     Sol:Group by customerid, find distinct dates & count them\n",
        "\"\"\"\n",
        "# Which aggregating functions will work?\n",
        "   The aggregating functions above will exclude NA values.\n",
        "   Any function which reduces a Series to a scalar value is\n",
        "   an aggregation function and will work, a trivial example\n",
        "   is df.groupby('A').agg(lambda ser: 1).\n",
        "\n",
        "\"\"\"\n",
        "\n",
        "out = df.groupby(df['customerid'])['datetime'].nunique().sort_values(ascending=False)\n",
        "out.head()\n",
        "out.tail()"
      ],
      "metadata": {
        "id": "EyXCBzzO7cZB",
        "colab": {
          "base_uri": "https://localhost:8080/",
          "height": 296
        },
        "outputId": "d188c49c-bd7e-458d-896e-96d1a385c4e4"
      },
      "execution_count": null,
      "outputs": [
        {
          "output_type": "execute_result",
          "data": {
            "text/plain": [
              "\"\\n# Which aggregating functions will work?\\n   The aggregating functions above will exclude NA values.\\n   Any function which reduces a Series to a scalar value is\\n   an aggregation function and will work, a trivial example\\n   is df.groupby('A').agg(lambda ser: 1).\\n\\n\""
            ],
            "application/vnd.google.colaboratory.intrinsic+json": {
              "type": "string"
            }
          },
          "metadata": {},
          "execution_count": 69
        },
        {
          "output_type": "execute_result",
          "data": {
            "text/plain": [
              "customerid\n",
              "2023939    86\n",
              "2019604    85\n",
              "1846607    81\n",
              "1846904    79\n",
              "1847994    76\n",
              "Name: datetime, dtype: int64"
            ]
          },
          "metadata": {},
          "execution_count": 69
        },
        {
          "output_type": "execute_result",
          "data": {
            "text/plain": [
              "customerid\n",
              "668101     1\n",
              "1783919    1\n",
              "1784039    1\n",
              "667982     1\n",
              "1663402    1\n",
              "Name: datetime, dtype: int64"
            ]
          },
          "metadata": {},
          "execution_count": 69
        }
      ]
    },
    {
      "cell_type": "code",
      "source": [
        "# 6.1 Check for a customerid:\n",
        "\n",
        "out.loc[1069]"
      ],
      "metadata": {
        "id": "i3CCmtmhpW6y",
        "colab": {
          "base_uri": "https://localhost:8080/"
        },
        "outputId": "3bb7e0af-f888-4bb9-9c0d-bc4b127322cb"
      },
      "execution_count": null,
      "outputs": [
        {
          "output_type": "execute_result",
          "data": {
            "text/plain": [
              "4"
            ]
          },
          "metadata": {},
          "execution_count": 70
        }
      ]
    },
    {
      "cell_type": "code",
      "source": [
        "# 6.2 Let us see distribution of visit-frequencies\n",
        "# 6.2.1  First convert out (pandas Series) to DataFrame\n",
        "\n",
        "out.name           # This series name will become column name\n",
        "\n"
      ],
      "metadata": {
        "id": "WLVUCL477zhb",
        "colab": {
          "base_uri": "https://localhost:8080/",
          "height": 36
        },
        "outputId": "1acea70f-1457-4513-d903-2aca01364ec6"
      },
      "execution_count": null,
      "outputs": [
        {
          "output_type": "execute_result",
          "data": {
            "text/plain": [
              "'datetime'"
            ],
            "application/vnd.google.colaboratory.intrinsic+json": {
              "type": "string"
            }
          },
          "metadata": {},
          "execution_count": 71
        }
      ]
    },
    {
      "cell_type": "code",
      "source": [
        "# 6.2.2 Assign a name to the Series:\n",
        "\n",
        "out.name = \"freq\""
      ],
      "metadata": {
        "id": "roJdG4OWqIMk"
      },
      "execution_count": null,
      "outputs": []
    },
    {
      "cell_type": "code",
      "source": [
        "# 6.2.3 Transform the Series to DataFrame\n",
        "#      Series name becomes its column name\n",
        "\n",
        "out = pd.DataFrame(out)   # column name is now 'freq'"
      ],
      "metadata": {
        "id": "4UOJRy2jqCXz"
      },
      "execution_count": null,
      "outputs": []
    },
    {
      "cell_type": "code",
      "source": [
        "# 6.2.4 Draw boxplot now uisng pandas plot function:\n",
        "\n",
        "out.boxplot(column = 'freq')\n",
        "plt.ylim((0,20))\n",
        "plt.show()\n"
      ],
      "metadata": {
        "id": "r2lfDzQ3p810",
        "colab": {
          "base_uri": "https://localhost:8080/",
          "height": 286
        },
        "outputId": "3c8b6307-6623-4f69-cd40-58af01173fbd"
      },
      "execution_count": null,
      "outputs": [
        {
          "output_type": "execute_result",
          "data": {
            "text/plain": [
              "<matplotlib.axes._subplots.AxesSubplot at 0x7fb020f60d10>"
            ]
          },
          "metadata": {},
          "execution_count": 74
        },
        {
          "output_type": "execute_result",
          "data": {
            "text/plain": [
              "(0.0, 20.0)"
            ]
          },
          "metadata": {},
          "execution_count": 74
        },
        {
          "output_type": "display_data",
          "data": {
            "text/plain": [
              "<Figure size 432x288 with 1 Axes>"
            ],
            "image/png": "[encoded data removed]"
          },
          "metadata": {
            "needs_background": "light"
          }
        }
      ]
    },
    {
      "cell_type": "code",
      "source": [
        "# 6.3 Let us verify the above results for at least one customerid:\n",
        "\n",
        "df.loc[df['customerid'] == 1847994 ].nunique()"
      ],
      "metadata": {
        "id": "L4KtPbll_CnG",
        "colab": {
          "base_uri": "https://localhost:8080/"
        },
        "outputId": "b6539267-660e-4971-b8ca-4920b25cf8f7"
      },
      "execution_count": null,
      "outputs": [
        {
          "output_type": "execute_result",
          "data": {
            "text/plain": [
              "datetime             76\n",
              "customerid            1\n",
              "age                   1\n",
              "residence_area        1\n",
              "product_subclass    288\n",
              "productid           593\n",
              "quantity             11\n",
              "salesprice          222\n",
              "year                  2\n",
              "month                 4\n",
              "day                  30\n",
              "dtype: int64"
            ]
          },
          "metadata": {},
          "execution_count": 75
        }
      ]
    },
    {
      "cell_type": "code",
      "source": [
        "# 6.3.1 Box plots with pandas:\n",
        "\n",
        "data = np.random.randn(25, 4)\n",
        "dfx = pd.DataFrame(data, columns=list('ABCD'))\n",
        "dfx.plot.box();"
      ],
      "metadata": {
        "id": "M8i3yBIl8DAk",
        "colab": {
          "base_uri": "https://localhost:8080/",
          "height": 265
        },
        "outputId": "bba1e5a5-99e3-446f-8056-9ee752e8a899"
      },
      "execution_count": null,
      "outputs": [
        {
          "output_type": "display_data",
          "data": {
            "text/plain": [
              "<Figure size 432x288 with 1 Axes>"
            ],
            "image/png": "[encoded data removed]"
          },
          "metadata": {
            "needs_background": "light"
          }
        }
      ]
    },
    {
      "cell_type": "markdown",
      "source": [
        "### Q6\n",
        "What are total spending per customer?"
      ],
      "metadata": {
        "id": "vwCUYKsW_12v"
      }
    },
    {
      "cell_type": "code",
      "source": [
        "df.head()"
      ],
      "metadata": {
        "id": "yJ7y1uEJ-6Ug",
        "outputId": "3c63df12-632f-4466-aa07-10eec6e42c3e",
        "colab": {
          "base_uri": "https://localhost:8080/",
          "height": 357
        }
      },
      "execution_count": null,
      "outputs": [
        {
          "output_type": "execute_result",
          "data": {
            "text/plain": [
              "    datetime customerid age residence_area product_subclass      productid  \\\n",
              "0 2000-11-01      46855   D              E           110411  4710085120468   \n",
              "1 2000-11-01     539166   E              E           130315  4714981010038   \n",
              "2 2000-11-01     663373   F              E           110217  4710265847666   \n",
              "3 2000-11-01     340625   A              E           110411  4710085120697   \n",
              "4 2000-11-01     236645   D              H           712901  8999002568972   \n",
              "\n",
              "   quantity  salesprice  year  month  day  \n",
              "0         3          57  2000     11    1  \n",
              "1         2          48  2000     11    1  \n",
              "2         1         135  2000     11    1  \n",
              "3         1          24  2000     11    1  \n",
              "4         2         170  2000     11    1  "
            ],
            "text/html": [
              "\n",
              "  <div id=\"df-39aa766d-5c74-404a-9df2-5b20cb05bc87\">\n",
              "    <div class=\"colab-df-container\">\n",
              "      <div>\n",
              "<style scoped>\n",
              "    .dataframe tbody tr th:only-of-type {\n",
              "        vertical-align: middle;\n",
              "    }\n",
              "\n",
              "    .dataframe tbody tr th {\n",
              "        vertical-align: top;\n",
              "    }\n",
              "\n",
              "    .dataframe thead th {\n",
              "        text-align: right;\n",
              "    }\n",
              "</style>\n",
              "<table border=\"1\" class=\"dataframe\">\n",
              "  <thead>\n",
              "    <tr style=\"text-align: right;\">\n",
              "      <th></th>\n",
              "      <th>datetime</th>\n",
              "      <th>customerid</th>\n",
              "      <th>age</th>\n",
              "      <th>residence_area</th>\n",
              "      <th>product_subclass</th>\n",
              "      <th>productid</th>\n",
              "      <th>quantity</th>\n",
              "      <th>salesprice</th>\n",
              "      <th>year</th>\n",
              "      <th>month</th>\n",
              "      <th>day</th>\n",
              "    </tr>\n",
              "  </thead>\n",
              "  <tbody>\n",
              "    <tr>\n",
              "      <th>0</th>\n",
              "      <td>2000-11-01</td>\n",
              "      <td>46855</td>\n",
              "      <td>D</td>\n",
              "      <td>E</td>\n",
              "      <td>110411</td>\n",
              "      <td>4710085120468</td>\n",
              "      <td>3</td>\n",
              "      <td>57</td>\n",
              "      <td>2000</td>\n",
              "      <td>11</td>\n",
              "      <td>1</td>\n",
              "    </tr>\n",
              "    <tr>\n",
              "      <th>1</th>\n",
              "      <td>2000-11-01</td>\n",
              "      <td>539166</td>\n",
              "      <td>E</td>\n",
              "      <td>E</td>\n",
              "      <td>130315</td>\n",
              "      <td>4714981010038</td>\n",
              "      <td>2</td>\n",
              "      <td>48</td>\n",
              "      <td>2000</td>\n",
              "      <td>11</td>\n",
              "      <td>1</td>\n",
              "    </tr>\n",
              "    <tr>\n",
              "      <th>2</th>\n",
              "      <td>2000-11-01</td>\n",
              "      <td>663373</td>\n",
              "      <td>F</td>\n",
              "      <td>E</td>\n",
              "      <td>110217</td>\n",
              "      <td>4710265847666</td>\n",
              "      <td>1</td>\n",
              "      <td>135</td>\n",
              "      <td>2000</td>\n",
              "      <td>11</td>\n",
              "      <td>1</td>\n",
              "    </tr>\n",
              "    <tr>\n",
              "      <th>3</th>\n",
              "      <td>2000-11-01</td>\n",
              "      <td>340625</td>\n",
              "      <td>A</td>\n",
              "      <td>E</td>\n",
              "      <td>110411</td>\n",
              "      <td>4710085120697</td>\n",
              "      <td>1</td>\n",
              "      <td>24</td>\n",
              "      <td>2000</td>\n",
              "      <td>11</td>\n",
              "      <td>1</td>\n",
              "    </tr>\n",
              "    <tr>\n",
              "      <th>4</th>\n",
              "      <td>2000-11-01</td>\n",
              "      <td>236645</td>\n",
              "      <td>D</td>\n",
              "      <td>H</td>\n",
              "      <td>712901</td>\n",
              "      <td>8999002568972</td>\n",
              "      <td>2</td>\n",
              "      <td>170</td>\n",
              "      <td>2000</td>\n",
              "      <td>11</td>\n",
              "      <td>1</td>\n",
              "    </tr>\n",
              "  </tbody>\n",
              "</table>\n",
              "</div>\n",
              "      <button class=\"colab-df-convert\" onclick=\"convertToInteractive('df-39aa766d-5c74-404a-9df2-5b20cb05bc87')\"\n",
              "              title=\"Convert this dataframe to an interactive table.\"\n",
              "              style=\"display:none;\">\n",
              "        \n",
              "  <svg xmlns=\"http://www.w3.org/2000/svg\" height=\"24px\"viewBox=\"0 0 24 24\"\n",
              "       width=\"24px\">\n",
              "    <path d=\"M0 0h24v24H0V0z\" fill=\"none\"/>\n",
              "    <path d=\"M18.56 5.44l.94 2.06.94-2.06 2.06-.94-2.06-.94-.94-2.06-.94 2.06-2.06.94zm-11 1L8.5 8.5l.94-2.06 2.06-.94-2.06-.94L8.5 2.5l-.94 2.06-2.06.94zm10 10l.94 2.06.94-2.06 2.06-.94-2.06-.94-.94-2.06-.94 2.06-2.06.94z\"/><path d=\"M17.41 7.96l-1.37-1.37c-.4-.4-.92-.59-1.43-.59-.52 0-1.04.2-1.43.59L10.3 9.45l-7.72 7.72c-.78.78-.78 2.05 0 2.83L4 21.41c.39.39.9.59 1.41.59.51 0 1.02-.2 1.41-.59l7.78-7.78 2.81-2.81c.8-.78.8-2.07 0-2.86zM5.41 20L4 18.59l7.72-7.72 1.47 1.35L5.41 20z\"/>\n",
              "  </svg>\n",
              "      </button>\n",
              "      \n",
              "  <style>\n",
              "    .colab-df-container {\n",
              "      display:flex;\n",
              "      flex-wrap:wrap;\n",
              "      gap: 12px;\n",
              "    }\n",
              "\n",
              "    .colab-df-convert {\n",
              "      background-color: #E8F0FE;\n",
              "      border: none;\n",
              "      border-radius: 50%;\n",
              "      cursor: pointer;\n",
              "      display: none;\n",
              "      fill: #1967D2;\n",
              "      height: 32px;\n",
              "      padding: 0 0 0 0;\n",
              "      width: 32px;\n",
              "    }\n",
              "\n",
              "    .colab-df-convert:hover {\n",
              "      background-color: #E2EBFA;\n",
              "      box-shadow: 0px 1px 2px rgba(60, 64, 67, 0.3), 0px 1px 3px 1px rgba(60, 64, 67, 0.15);\n",
              "      fill: #174EA6;\n",
              "    }\n",
              "\n",
              "    [theme=dark] .colab-df-convert {\n",
              "      background-color: #3B4455;\n",
              "      fill: #D2E3FC;\n",
              "    }\n",
              "\n",
              "    [theme=dark] .colab-df-convert:hover {\n",
              "      background-color: #434B5C;\n",
              "      box-shadow: 0px 1px 3px 1px rgba(0, 0, 0, 0.15);\n",
              "      filter: drop-shadow(0px 1px 2px rgba(0, 0, 0, 0.3));\n",
              "      fill: #FFFFFF;\n",
              "    }\n",
              "  </style>\n",
              "\n",
              "      <script>\n",
              "        const buttonEl =\n",
              "          document.querySelector('#df-39aa766d-5c74-404a-9df2-5b20cb05bc87 button.colab-df-convert');\n",
              "        buttonEl.style.display =\n",
              "          google.colab.kernel.accessAllowed ? 'block' : 'none';\n",
              "\n",
              "        async function convertToInteractive(key) {\n",
              "          const element = document.querySelector('#df-39aa766d-5c74-404a-9df2-5b20cb05bc87');\n",
              "          const dataTable =\n",
              "            await google.colab.kernel.invokeFunction('convertToInteractive',\n",
              "                                                     [key], {});\n",
              "          if (!dataTable) return;\n",
              "\n",
              "          const docLinkHtml = 'Like what you see? Visit the ' +\n",
              "            '<a target=\"_blank\" href=https://colab.research.google.com/notebooks/data_table.ipynb>data table notebook</a>'\n",
              "            + ' to learn more about interactive tables.';\n",
              "          element.innerHTML = '';\n",
              "          dataTable['output_type'] = 'display_data';\n",
              "          await google.colab.output.renderOutput(dataTable, element);\n",
              "          const docLink = document.createElement('div');\n",
              "          docLink.innerHTML = docLinkHtml;\n",
              "          element.appendChild(docLink);\n",
              "        }\n",
              "      </script>\n",
              "    </div>\n",
              "  </div>\n",
              "  "
            ]
          },
          "metadata": {},
          "execution_count": 77
        }
      ]
    },
    {
      "cell_type": "code",
      "source": [
        "df['purchase']=df['quantity']*df['salesprice']"
      ],
      "metadata": {
        "id": "KZ3hmUh7-nLz"
      },
      "execution_count": null,
      "outputs": []
    },
    {
      "cell_type": "code",
      "source": [
        "# 7 (Q6): \n",
        "#    Sol: Group by customerid and sum up purchases\n",
        "\n",
        "# 7.1 First create a new column 'purchase'\n",
        "df['purchase'] = df['quantity'] * df['salesprice']\n",
        "\n",
        "# 7.1.1 Now calculate total purchases per customer\n",
        "out = df.groupby(['customerid'])['purchase'].sum().sort_values(ascending = False)\n",
        "\n",
        "# 7.1.2 out is a pandas Series\n",
        "out.head()\n",
        "\n",
        "# 7.1.3 Make out a DataFrame\n",
        "out = pd.DataFrame(out)"
      ],
      "metadata": {
        "id": "eV_cm3y18-dW",
        "colab": {
          "base_uri": "https://localhost:8080/"
        },
        "outputId": "af831e1e-8f47-4683-bc18-21cf49976d51"
      },
      "execution_count": null,
      "outputs": [
        {
          "output_type": "execute_result",
          "data": {
            "text/plain": [
              "customerid\n",
              "1622362    355221564\n",
              "2123851     17797777\n",
              "2120829     17795024\n",
              "1970777     14880612\n",
              "2134819     14843035\n",
              "Name: purchase, dtype: int32"
            ]
          },
          "metadata": {},
          "execution_count": 79
        }
      ]
    },
    {
      "cell_type": "code",
      "source": [
        "# 7.2 Let us have a density plot of these purchases:\n",
        "\n",
        "plt.figure() ;\n",
        "out.plot.kde()     # Pandas kernel denity plot\n",
        "plt.xlim(-0.2e8, .1e8) ;\n",
        "plt.show() ;"
      ],
      "metadata": {
        "id": "up22dTs2_6Fw",
        "colab": {
          "base_uri": "https://localhost:8080/",
          "height": 306
        },
        "outputId": "3d795ffe-e1f5-4a93-e2b0-44e0be863923"
      },
      "execution_count": null,
      "outputs": [
        {
          "output_type": "display_data",
          "data": {
            "text/plain": [
              "<Figure size 432x288 with 0 Axes>"
            ]
          },
          "metadata": {}
        },
        {
          "output_type": "display_data",
          "data": {
            "text/plain": [
              "<Figure size 432x288 with 1 Axes>"
            ],
            "image/png": "[encoded data removed]"
          },
          "metadata": {
            "needs_background": "light"
          }
        }
      ]
    },
    {
      "cell_type": "code",
      "source": [
        "# 7.2.1 seaborn does not plot that well:\n",
        "\n",
        "out1 = out.sample(n = 5000)\n",
        "sns.histplot(data = out1, x = 'purchase')\n",
        "plt.show()"
      ],
      "metadata": {
        "id": "-_P7MmBRAWAf",
        "colab": {
          "base_uri": "https://localhost:8080/",
          "height": 296
        },
        "outputId": "c15737c6-1efe-43d3-f6bf-f7147a71286f"
      },
      "execution_count": null,
      "outputs": [
        {
          "output_type": "execute_result",
          "data": {
            "text/plain": [
              "<matplotlib.axes._subplots.AxesSubplot at 0x7fb020bb1f90>"
            ]
          },
          "metadata": {},
          "execution_count": 81
        },
        {
          "output_type": "display_data",
          "data": {
            "text/plain": [
              "<Figure size 432x288 with 1 Axes>"
            ],
            "image/png": "[encoded data removed]"
          },
          "metadata": {
            "needs_background": "light"
          }
        }
      ]
    },
    {
      "cell_type": "code",
      "source": [
        "# 7.2.2 So there is an outlier, let us remove\n",
        "#       it and then plot. We will cutoff at 99th percentile\n",
        "#       At what value of data 99th percentile occurs?\n",
        "\n",
        "scoreatpercentile(out.values, per = 99)\n",
        "\n",
        "# 7.2.3 Here is remaining data\n",
        "\n",
        "out = out.loc[out['purchase'] < 52135, :]\n",
        "\n",
        "\n",
        "# 7.2.4 Plot density plot now\n",
        "plt.figure() ;\n",
        "out.plot.kde() ;\n",
        "plt.show() ;"
      ],
      "metadata": {
        "id": "ruS6V6ruAmfv",
        "colab": {
          "base_uri": "https://localhost:8080/",
          "height": 282
        },
        "outputId": "8afacdc0-1bf4-489f-a011-1f1f430bd581"
      },
      "execution_count": null,
      "outputs": [
        {
          "output_type": "display_data",
          "data": {
            "text/plain": [
              "<Figure size 432x288 with 0 Axes>"
            ]
          },
          "metadata": {}
        },
        {
          "output_type": "display_data",
          "data": {
            "text/plain": [
              "<Figure size 432x288 with 1 Axes>"
            ],
            "image/png": "[encoded data removed]"
          },
          "metadata": {
            "needs_background": "light"
          }
        }
      ]
    },
    {
      "cell_type": "markdown",
      "source": [
        "### Q7\n",
        "Is there any relationship between freq of visits and total purchases?"
      ],
      "metadata": {
        "id": "8pltoM4OK0xm"
      }
    },
    {
      "cell_type": "code",
      "source": [
        "totalp = df['purchase'].groupby([df['customerid']]).sum()\n",
        "freq = df['datetime'].groupby(df['customerid']).nunique()"
      ],
      "metadata": {
        "id": "61wbJ_unAuLW"
      },
      "execution_count": null,
      "outputs": []
    },
    {
      "cell_type": "code",
      "source": [
        "totalp.head()"
      ],
      "metadata": {
        "id": "ZN4V5I4wAwcf",
        "outputId": "d0855d58-aa0d-42a2-c46f-213240ddbb41",
        "colab": {
          "base_uri": "https://localhost:8080/"
        }
      },
      "execution_count": null,
      "outputs": [
        {
          "output_type": "execute_result",
          "data": {
            "text/plain": [
              "customerid\n",
              "1069    2660\n",
              "1113    3209\n",
              "1250    1795\n",
              "1359     602\n",
              "1823    6053\n",
              "Name: purchase, dtype: int32"
            ]
          },
          "metadata": {},
          "execution_count": 84
        }
      ]
    },
    {
      "cell_type": "code",
      "source": [],
      "metadata": {
        "id": "OIIDhQXvBoHg"
      },
      "execution_count": null,
      "outputs": []
    },
    {
      "cell_type": "code",
      "source": [
        "freq.head()"
      ],
      "metadata": {
        "id": "W7cFqwPDA3On",
        "outputId": "5da67f53-d49e-4e4f-e3b3-063fb4a37fec",
        "colab": {
          "base_uri": "https://localhost:8080/"
        }
      },
      "execution_count": null,
      "outputs": [
        {
          "output_type": "execute_result",
          "data": {
            "text/plain": [
              "customerid\n",
              "1069    4\n",
              "1113    4\n",
              "1250    2\n",
              "1359    1\n",
              "1823    3\n",
              "Name: datetime, dtype: int64"
            ]
          },
          "metadata": {},
          "execution_count": 85
        }
      ]
    },
    {
      "cell_type": "code",
      "source": [
        "freq.sort_index(inplace=True)\n",
        "totalp.sort_index(inplace=True)"
      ],
      "metadata": {
        "id": "PQy-Wxy-BuV-"
      },
      "execution_count": null,
      "outputs": []
    },
    {
      "cell_type": "code",
      "source": [
        "freq_purchases = pd.concat([freq,totalp], axis = 1)"
      ],
      "metadata": {
        "id": "oFXpT8WFDQ4D"
      },
      "execution_count": null,
      "outputs": []
    },
    {
      "cell_type": "code",
      "source": [
        "\n",
        "freq_purchases.head()"
      ],
      "metadata": {
        "id": "x-bBEsHNDSYL",
        "outputId": "64699e92-b3b3-438e-9e6f-7461dab89aaa",
        "colab": {
          "base_uri": "https://localhost:8080/",
          "height": 237
        }
      },
      "execution_count": null,
      "outputs": [
        {
          "output_type": "execute_result",
          "data": {
            "text/plain": [
              "            datetime  purchase\n",
              "customerid                    \n",
              "1069               4      2660\n",
              "1113               4      3209\n",
              "1250               2      1795\n",
              "1359               1       602\n",
              "1823               3      6053"
            ],
            "text/html": [
              "\n",
              "  <div id=\"df-f90f3d34-a684-4e5c-b3a9-aa619e567395\">\n",
              "    <div class=\"colab-df-container\">\n",
              "      <div>\n",
              "<style scoped>\n",
              "    .dataframe tbody tr th:only-of-type {\n",
              "        vertical-align: middle;\n",
              "    }\n",
              "\n",
              "    .dataframe tbody tr th {\n",
              "        vertical-align: top;\n",
              "    }\n",
              "\n",
              "    .dataframe thead th {\n",
              "        text-align: right;\n",
              "    }\n",
              "</style>\n",
              "<table border=\"1\" class=\"dataframe\">\n",
              "  <thead>\n",
              "    <tr style=\"text-align: right;\">\n",
              "      <th></th>\n",
              "      <th>datetime</th>\n",
              "      <th>purchase</th>\n",
              "    </tr>\n",
              "    <tr>\n",
              "      <th>customerid</th>\n",
              "      <th></th>\n",
              "      <th></th>\n",
              "    </tr>\n",
              "  </thead>\n",
              "  <tbody>\n",
              "    <tr>\n",
              "      <th>1069</th>\n",
              "      <td>4</td>\n",
              "      <td>2660</td>\n",
              "    </tr>\n",
              "    <tr>\n",
              "      <th>1113</th>\n",
              "      <td>4</td>\n",
              "      <td>3209</td>\n",
              "    </tr>\n",
              "    <tr>\n",
              "      <th>1250</th>\n",
              "      <td>2</td>\n",
              "      <td>1795</td>\n",
              "    </tr>\n",
              "    <tr>\n",
              "      <th>1359</th>\n",
              "      <td>1</td>\n",
              "      <td>602</td>\n",
              "    </tr>\n",
              "    <tr>\n",
              "      <th>1823</th>\n",
              "      <td>3</td>\n",
              "      <td>6053</td>\n",
              "    </tr>\n",
              "  </tbody>\n",
              "</table>\n",
              "</div>\n",
              "      <button class=\"colab-df-convert\" onclick=\"convertToInteractive('df-f90f3d34-a684-4e5c-b3a9-aa619e567395')\"\n",
              "              title=\"Convert this dataframe to an interactive table.\"\n",
              "              style=\"display:none;\">\n",
              "        \n",
              "  <svg xmlns=\"http://www.w3.org/2000/svg\" height=\"24px\"viewBox=\"0 0 24 24\"\n",
              "       width=\"24px\">\n",
              "    <path d=\"M0 0h24v24H0V0z\" fill=\"none\"/>\n",
              "    <path d=\"M18.56 5.44l.94 2.06.94-2.06 2.06-.94-2.06-.94-.94-2.06-.94 2.06-2.06.94zm-11 1L8.5 8.5l.94-2.06 2.06-.94-2.06-.94L8.5 2.5l-.94 2.06-2.06.94zm10 10l.94 2.06.94-2.06 2.06-.94-2.06-.94-.94-2.06-.94 2.06-2.06.94z\"/><path d=\"M17.41 7.96l-1.37-1.37c-.4-.4-.92-.59-1.43-.59-.52 0-1.04.2-1.43.59L10.3 9.45l-7.72 7.72c-.78.78-.78 2.05 0 2.83L4 21.41c.39.39.9.59 1.41.59.51 0 1.02-.2 1.41-.59l7.78-7.78 2.81-2.81c.8-.78.8-2.07 0-2.86zM5.41 20L4 18.59l7.72-7.72 1.47 1.35L5.41 20z\"/>\n",
              "  </svg>\n",
              "      </button>\n",
              "      \n",
              "  <style>\n",
              "    .colab-df-container {\n",
              "      display:flex;\n",
              "      flex-wrap:wrap;\n",
              "      gap: 12px;\n",
              "    }\n",
              "\n",
              "    .colab-df-convert {\n",
              "      background-color: #E8F0FE;\n",
              "      border: none;\n",
              "      border-radius: 50%;\n",
              "      cursor: pointer;\n",
              "      display: none;\n",
              "      fill: #1967D2;\n",
              "      height: 32px;\n",
              "      padding: 0 0 0 0;\n",
              "      width: 32px;\n",
              "    }\n",
              "\n",
              "    .colab-df-convert:hover {\n",
              "      background-color: #E2EBFA;\n",
              "      box-shadow: 0px 1px 2px rgba(60, 64, 67, 0.3), 0px 1px 3px 1px rgba(60, 64, 67, 0.15);\n",
              "      fill: #174EA6;\n",
              "    }\n",
              "\n",
              "    [theme=dark] .colab-df-convert {\n",
              "      background-color: #3B4455;\n",
              "      fill: #D2E3FC;\n",
              "    }\n",
              "\n",
              "    [theme=dark] .colab-df-convert:hover {\n",
              "      background-color: #434B5C;\n",
              "      box-shadow: 0px 1px 3px 1px rgba(0, 0, 0, 0.15);\n",
              "      filter: drop-shadow(0px 1px 2px rgba(0, 0, 0, 0.3));\n",
              "      fill: #FFFFFF;\n",
              "    }\n",
              "  </style>\n",
              "\n",
              "      <script>\n",
              "        const buttonEl =\n",
              "          document.querySelector('#df-f90f3d34-a684-4e5c-b3a9-aa619e567395 button.colab-df-convert');\n",
              "        buttonEl.style.display =\n",
              "          google.colab.kernel.accessAllowed ? 'block' : 'none';\n",
              "\n",
              "        async function convertToInteractive(key) {\n",
              "          const element = document.querySelector('#df-f90f3d34-a684-4e5c-b3a9-aa619e567395');\n",
              "          const dataTable =\n",
              "            await google.colab.kernel.invokeFunction('convertToInteractive',\n",
              "                                                     [key], {});\n",
              "          if (!dataTable) return;\n",
              "\n",
              "          const docLinkHtml = 'Like what you see? Visit the ' +\n",
              "            '<a target=\"_blank\" href=https://colab.research.google.com/notebooks/data_table.ipynb>data table notebook</a>'\n",
              "            + ' to learn more about interactive tables.';\n",
              "          element.innerHTML = '';\n",
              "          dataTable['output_type'] = 'display_data';\n",
              "          await google.colab.output.renderOutput(dataTable, element);\n",
              "          const docLink = document.createElement('div');\n",
              "          docLink.innerHTML = docLinkHtml;\n",
              "          element.appendChild(docLink);\n",
              "        }\n",
              "      </script>\n",
              "    </div>\n",
              "  </div>\n",
              "  "
            ]
          },
          "metadata": {},
          "execution_count": 88
        }
      ]
    },
    {
      "cell_type": "code",
      "source": [
        "pd.merge(freq, totalp, left_index=True, right_index=True)"
      ],
      "metadata": {
        "id": "NuywwuS7Dgsc",
        "outputId": "828ae80d-f8e4-4bdc-dfab-a05395ccd645",
        "colab": {
          "base_uri": "https://localhost:8080/",
          "height": 455
        }
      },
      "execution_count": null,
      "outputs": [
        {
          "output_type": "execute_result",
          "data": {
            "text/plain": [
              "            datetime  purchase\n",
              "customerid                    \n",
              "1069               4      2660\n",
              "1113               4      3209\n",
              "1250               2      1795\n",
              "1359               1       602\n",
              "1823               3      6053\n",
              "...              ...       ...\n",
              "2179544            1      6343\n",
              "2179568            1       406\n",
              "2179605            1      9495\n",
              "2179643            1      8461\n",
              "20002000          27     90397\n",
              "\n",
              "[32266 rows x 2 columns]"
            ],
            "text/html": [
              "\n",
              "  <div id=\"df-e0515795-7bc4-4b91-b04c-15063a4ea269\">\n",
              "    <div class=\"colab-df-container\">\n",
              "      <div>\n",
              "<style scoped>\n",
              "    .dataframe tbody tr th:only-of-type {\n",
              "        vertical-align: middle;\n",
              "    }\n",
              "\n",
              "    .dataframe tbody tr th {\n",
              "        vertical-align: top;\n",
              "    }\n",
              "\n",
              "    .dataframe thead th {\n",
              "        text-align: right;\n",
              "    }\n",
              "</style>\n",
              "<table border=\"1\" class=\"dataframe\">\n",
              "  <thead>\n",
              "    <tr style=\"text-align: right;\">\n",
              "      <th></th>\n",
              "      <th>datetime</th>\n",
              "      <th>purchase</th>\n",
              "    </tr>\n",
              "    <tr>\n",
              "      <th>customerid</th>\n",
              "      <th></th>\n",
              "      <th></th>\n",
              "    </tr>\n",
              "  </thead>\n",
              "  <tbody>\n",
              "    <tr>\n",
              "      <th>1069</th>\n",
              "      <td>4</td>\n",
              "      <td>2660</td>\n",
              "    </tr>\n",
              "    <tr>\n",
              "      <th>1113</th>\n",
              "      <td>4</td>\n",
              "      <td>3209</td>\n",
              "    </tr>\n",
              "    <tr>\n",
              "      <th>1250</th>\n",
              "      <td>2</td>\n",
              "      <td>1795</td>\n",
              "    </tr>\n",
              "    <tr>\n",
              "      <th>1359</th>\n",
              "      <td>1</td>\n",
              "      <td>602</td>\n",
              "    </tr>\n",
              "    <tr>\n",
              "      <th>1823</th>\n",
              "      <td>3</td>\n",
              "      <td>6053</td>\n",
              "    </tr>\n",
              "    <tr>\n",
              "      <th>...</th>\n",
              "      <td>...</td>\n",
              "      <td>...</td>\n",
              "    </tr>\n",
              "    <tr>\n",
              "      <th>2179544</th>\n",
              "      <td>1</td>\n",
              "      <td>6343</td>\n",
              "    </tr>\n",
              "    <tr>\n",
              "      <th>2179568</th>\n",
              "      <td>1</td>\n",
              "      <td>406</td>\n",
              "    </tr>\n",
              "    <tr>\n",
              "      <th>2179605</th>\n",
              "      <td>1</td>\n",
              "      <td>9495</td>\n",
              "    </tr>\n",
              "    <tr>\n",
              "      <th>2179643</th>\n",
              "      <td>1</td>\n",
              "      <td>8461</td>\n",
              "    </tr>\n",
              "    <tr>\n",
              "      <th>20002000</th>\n",
              "      <td>27</td>\n",
              "      <td>90397</td>\n",
              "    </tr>\n",
              "  </tbody>\n",
              "</table>\n",
              "<p>32266 rows × 2 columns</p>\n",
              "</div>\n",
              "      <button class=\"colab-df-convert\" onclick=\"convertToInteractive('df-e0515795-7bc4-4b91-b04c-15063a4ea269')\"\n",
              "              title=\"Convert this dataframe to an interactive table.\"\n",
              "              style=\"display:none;\">\n",
              "        \n",
              "  <svg xmlns=\"http://www.w3.org/2000/svg\" height=\"24px\"viewBox=\"0 0 24 24\"\n",
              "       width=\"24px\">\n",
              "    <path d=\"M0 0h24v24H0V0z\" fill=\"none\"/>\n",
              "    <path d=\"M18.56 5.44l.94 2.06.94-2.06 2.06-.94-2.06-.94-.94-2.06-.94 2.06-2.06.94zm-11 1L8.5 8.5l.94-2.06 2.06-.94-2.06-.94L8.5 2.5l-.94 2.06-2.06.94zm10 10l.94 2.06.94-2.06 2.06-.94-2.06-.94-.94-2.06-.94 2.06-2.06.94z\"/><path d=\"M17.41 7.96l-1.37-1.37c-.4-.4-.92-.59-1.43-.59-.52 0-1.04.2-1.43.59L10.3 9.45l-7.72 7.72c-.78.78-.78 2.05 0 2.83L4 21.41c.39.39.9.59 1.41.59.51 0 1.02-.2 1.41-.59l7.78-7.78 2.81-2.81c.8-.78.8-2.07 0-2.86zM5.41 20L4 18.59l7.72-7.72 1.47 1.35L5.41 20z\"/>\n",
              "  </svg>\n",
              "      </button>\n",
              "      \n",
              "  <style>\n",
              "    .colab-df-container {\n",
              "      display:flex;\n",
              "      flex-wrap:wrap;\n",
              "      gap: 12px;\n",
              "    }\n",
              "\n",
              "    .colab-df-convert {\n",
              "      background-color: #E8F0FE;\n",
              "      border: none;\n",
              "      border-radius: 50%;\n",
              "      cursor: pointer;\n",
              "      display: none;\n",
              "      fill: #1967D2;\n",
              "      height: 32px;\n",
              "      padding: 0 0 0 0;\n",
              "      width: 32px;\n",
              "    }\n",
              "\n",
              "    .colab-df-convert:hover {\n",
              "      background-color: #E2EBFA;\n",
              "      box-shadow: 0px 1px 2px rgba(60, 64, 67, 0.3), 0px 1px 3px 1px rgba(60, 64, 67, 0.15);\n",
              "      fill: #174EA6;\n",
              "    }\n",
              "\n",
              "    [theme=dark] .colab-df-convert {\n",
              "      background-color: #3B4455;\n",
              "      fill: #D2E3FC;\n",
              "    }\n",
              "\n",
              "    [theme=dark] .colab-df-convert:hover {\n",
              "      background-color: #434B5C;\n",
              "      box-shadow: 0px 1px 3px 1px rgba(0, 0, 0, 0.15);\n",
              "      filter: drop-shadow(0px 1px 2px rgba(0, 0, 0, 0.3));\n",
              "      fill: #FFFFFF;\n",
              "    }\n",
              "  </style>\n",
              "\n",
              "      <script>\n",
              "        const buttonEl =\n",
              "          document.querySelector('#df-e0515795-7bc4-4b91-b04c-15063a4ea269 button.colab-df-convert');\n",
              "        buttonEl.style.display =\n",
              "          google.colab.kernel.accessAllowed ? 'block' : 'none';\n",
              "\n",
              "        async function convertToInteractive(key) {\n",
              "          const element = document.querySelector('#df-e0515795-7bc4-4b91-b04c-15063a4ea269');\n",
              "          const dataTable =\n",
              "            await google.colab.kernel.invokeFunction('convertToInteractive',\n",
              "                                                     [key], {});\n",
              "          if (!dataTable) return;\n",
              "\n",
              "          const docLinkHtml = 'Like what you see? Visit the ' +\n",
              "            '<a target=\"_blank\" href=https://colab.research.google.com/notebooks/data_table.ipynb>data table notebook</a>'\n",
              "            + ' to learn more about interactive tables.';\n",
              "          element.innerHTML = '';\n",
              "          dataTable['output_type'] = 'display_data';\n",
              "          await google.colab.output.renderOutput(dataTable, element);\n",
              "          const docLink = document.createElement('div');\n",
              "          docLink.innerHTML = docLinkHtml;\n",
              "          element.appendChild(docLink);\n",
              "        }\n",
              "      </script>\n",
              "    </div>\n",
              "  </div>\n",
              "  "
            ]
          },
          "metadata": {},
          "execution_count": 89
        }
      ]
    },
    {
      "cell_type": "code",
      "source": [
        "freq_purchases.corr()"
      ],
      "metadata": {
        "id": "o-SFOCsJQb2w",
        "outputId": "5b83cfc7-3abb-4d63-ea2c-c74d9f4fb365",
        "colab": {
          "base_uri": "https://localhost:8080/",
          "height": 112
        }
      },
      "execution_count": null,
      "outputs": [
        {
          "output_type": "execute_result",
          "data": {
            "text/plain": [
              "          datetime  purchase\n",
              "datetime  1.000000  0.026599\n",
              "purchase  0.026599  1.000000"
            ],
            "text/html": [
              "\n",
              "  <div id=\"df-162e2657-0bd3-474a-9675-d9e4502c9620\">\n",
              "    <div class=\"colab-df-container\">\n",
              "      <div>\n",
              "<style scoped>\n",
              "    .dataframe tbody tr th:only-of-type {\n",
              "        vertical-align: middle;\n",
              "    }\n",
              "\n",
              "    .dataframe tbody tr th {\n",
              "        vertical-align: top;\n",
              "    }\n",
              "\n",
              "    .dataframe thead th {\n",
              "        text-align: right;\n",
              "    }\n",
              "</style>\n",
              "<table border=\"1\" class=\"dataframe\">\n",
              "  <thead>\n",
              "    <tr style=\"text-align: right;\">\n",
              "      <th></th>\n",
              "      <th>datetime</th>\n",
              "      <th>purchase</th>\n",
              "    </tr>\n",
              "  </thead>\n",
              "  <tbody>\n",
              "    <tr>\n",
              "      <th>datetime</th>\n",
              "      <td>1.000000</td>\n",
              "      <td>0.026599</td>\n",
              "    </tr>\n",
              "    <tr>\n",
              "      <th>purchase</th>\n",
              "      <td>0.026599</td>\n",
              "      <td>1.000000</td>\n",
              "    </tr>\n",
              "  </tbody>\n",
              "</table>\n",
              "</div>\n",
              "      <button class=\"colab-df-convert\" onclick=\"convertToInteractive('df-162e2657-0bd3-474a-9675-d9e4502c9620')\"\n",
              "              title=\"Convert this dataframe to an interactive table.\"\n",
              "              style=\"display:none;\">\n",
              "        \n",
              "  <svg xmlns=\"http://www.w3.org/2000/svg\" height=\"24px\"viewBox=\"0 0 24 24\"\n",
              "       width=\"24px\">\n",
              "    <path d=\"M0 0h24v24H0V0z\" fill=\"none\"/>\n",
              "    <path d=\"M18.56 5.44l.94 2.06.94-2.06 2.06-.94-2.06-.94-.94-2.06-.94 2.06-2.06.94zm-11 1L8.5 8.5l.94-2.06 2.06-.94-2.06-.94L8.5 2.5l-.94 2.06-2.06.94zm10 10l.94 2.06.94-2.06 2.06-.94-2.06-.94-.94-2.06-.94 2.06-2.06.94z\"/><path d=\"M17.41 7.96l-1.37-1.37c-.4-.4-.92-.59-1.43-.59-.52 0-1.04.2-1.43.59L10.3 9.45l-7.72 7.72c-.78.78-.78 2.05 0 2.83L4 21.41c.39.39.9.59 1.41.59.51 0 1.02-.2 1.41-.59l7.78-7.78 2.81-2.81c.8-.78.8-2.07 0-2.86zM5.41 20L4 18.59l7.72-7.72 1.47 1.35L5.41 20z\"/>\n",
              "  </svg>\n",
              "      </button>\n",
              "      \n",
              "  <style>\n",
              "    .colab-df-container {\n",
              "      display:flex;\n",
              "      flex-wrap:wrap;\n",
              "      gap: 12px;\n",
              "    }\n",
              "\n",
              "    .colab-df-convert {\n",
              "      background-color: #E8F0FE;\n",
              "      border: none;\n",
              "      border-radius: 50%;\n",
              "      cursor: pointer;\n",
              "      display: none;\n",
              "      fill: #1967D2;\n",
              "      height: 32px;\n",
              "      padding: 0 0 0 0;\n",
              "      width: 32px;\n",
              "    }\n",
              "\n",
              "    .colab-df-convert:hover {\n",
              "      background-color: #E2EBFA;\n",
              "      box-shadow: 0px 1px 2px rgba(60, 64, 67, 0.3), 0px 1px 3px 1px rgba(60, 64, 67, 0.15);\n",
              "      fill: #174EA6;\n",
              "    }\n",
              "\n",
              "    [theme=dark] .colab-df-convert {\n",
              "      background-color: #3B4455;\n",
              "      fill: #D2E3FC;\n",
              "    }\n",
              "\n",
              "    [theme=dark] .colab-df-convert:hover {\n",
              "      background-color: #434B5C;\n",
              "      box-shadow: 0px 1px 3px 1px rgba(0, 0, 0, 0.15);\n",
              "      filter: drop-shadow(0px 1px 2px rgba(0, 0, 0, 0.3));\n",
              "      fill: #FFFFFF;\n",
              "    }\n",
              "  </style>\n",
              "\n",
              "      <script>\n",
              "        const buttonEl =\n",
              "          document.querySelector('#df-162e2657-0bd3-474a-9675-d9e4502c9620 button.colab-df-convert');\n",
              "        buttonEl.style.display =\n",
              "          google.colab.kernel.accessAllowed ? 'block' : 'none';\n",
              "\n",
              "        async function convertToInteractive(key) {\n",
              "          const element = document.querySelector('#df-162e2657-0bd3-474a-9675-d9e4502c9620');\n",
              "          const dataTable =\n",
              "            await google.colab.kernel.invokeFunction('convertToInteractive',\n",
              "                                                     [key], {});\n",
              "          if (!dataTable) return;\n",
              "\n",
              "          const docLinkHtml = 'Like what you see? Visit the ' +\n",
              "            '<a target=\"_blank\" href=https://colab.research.google.com/notebooks/data_table.ipynb>data table notebook</a>'\n",
              "            + ' to learn more about interactive tables.';\n",
              "          element.innerHTML = '';\n",
              "          dataTable['output_type'] = 'display_data';\n",
              "          await google.colab.output.renderOutput(dataTable, element);\n",
              "          const docLink = document.createElement('div');\n",
              "          docLink.innerHTML = docLinkHtml;\n",
              "          element.appendChild(docLink);\n",
              "        }\n",
              "      </script>\n",
              "    </div>\n",
              "  </div>\n",
              "  "
            ]
          },
          "metadata": {},
          "execution_count": 90
        }
      ]
    },
    {
      "cell_type": "code",
      "source": [
        "import seaborn as sns"
      ],
      "metadata": {
        "id": "eSMNstxUG8Nu"
      },
      "execution_count": null,
      "outputs": []
    },
    {
      "cell_type": "code",
      "source": [
        "freq"
      ],
      "metadata": {
        "id": "2eyCSuUQQNgu",
        "outputId": "67f70cc1-d8f3-46e8-84a1-42e39e72319b",
        "colab": {
          "base_uri": "https://localhost:8080/"
        }
      },
      "execution_count": null,
      "outputs": [
        {
          "output_type": "execute_result",
          "data": {
            "text/plain": [
              "customerid\n",
              "1069         4\n",
              "1113         4\n",
              "1250         2\n",
              "1359         1\n",
              "1823         3\n",
              "            ..\n",
              "2179544      1\n",
              "2179568      1\n",
              "2179605      1\n",
              "2179643      1\n",
              "20002000    27\n",
              "Name: datetime, Length: 32266, dtype: int64"
            ]
          },
          "metadata": {},
          "execution_count": 92
        }
      ]
    },
    {
      "cell_type": "code",
      "source": [
        "\n",
        "scoreatpercentile(freq_purchases,99)"
      ],
      "metadata": {
        "id": "4c2DGlhIHTAm",
        "outputId": "2373ad13-07f2-4285-9465-7a75aa0d4f23",
        "colab": {
          "base_uri": "https://localhost:8080/"
        }
      },
      "execution_count": null,
      "outputs": [
        {
          "output_type": "execute_result",
          "data": {
            "text/plain": [
              "35291.88000000012"
            ]
          },
          "metadata": {},
          "execution_count": 93
        }
      ]
    },
    {
      "cell_type": "code",
      "source": [
        "\n",
        "scoreatpercentile(freq_purchases,100)"
      ],
      "metadata": {
        "id": "0gVvdCpJFGTe",
        "outputId": "18010e92-38e9-481e-fd95-bc0f306215f2",
        "colab": {
          "base_uri": "https://localhost:8080/"
        }
      },
      "execution_count": null,
      "outputs": [
        {
          "output_type": "execute_result",
          "data": {
            "text/plain": [
              "355221564.0"
            ]
          },
          "metadata": {},
          "execution_count": 94
        }
      ]
    },
    {
      "cell_type": "code",
      "source": [
        "scoreatpercentile(freq_purchases,50)"
      ],
      "metadata": {
        "id": "za8kriuMHjsL",
        "outputId": "97507d96-079d-4dd1-995e-d59552c14f5a",
        "colab": {
          "base_uri": "https://localhost:8080/"
        }
      },
      "execution_count": null,
      "outputs": [
        {
          "output_type": "execute_result",
          "data": {
            "text/plain": [
              "36.0"
            ]
          },
          "metadata": {},
          "execution_count": 95
        }
      ]
    },
    {
      "cell_type": "code",
      "source": [
        "freq_purchases.purchase.max()"
      ],
      "metadata": {
        "id": "Y0BZdgLyHm4l",
        "outputId": "732ece9d-12f3-46ca-c45d-3c38136a4472",
        "colab": {
          "base_uri": "https://localhost:8080/"
        }
      },
      "execution_count": null,
      "outputs": [
        {
          "output_type": "execute_result",
          "data": {
            "text/plain": [
              "355221564"
            ]
          },
          "metadata": {},
          "execution_count": 96
        }
      ]
    },
    {
      "cell_type": "code",
      "source": [
        "dg=freq_purchases.loc[freq_purchases['purchase'] < 52135,:] "
      ],
      "metadata": {
        "id": "78yckp1HILtq"
      },
      "execution_count": null,
      "outputs": []
    },
    {
      "cell_type": "code",
      "source": [
        "dg.corr()"
      ],
      "metadata": {
        "id": "-ORz80N4ROAn",
        "outputId": "14d0fb5d-5d81-435d-e40c-c6b627b7f1cb",
        "colab": {
          "base_uri": "https://localhost:8080/",
          "height": 112
        }
      },
      "execution_count": null,
      "outputs": [
        {
          "output_type": "execute_result",
          "data": {
            "text/plain": [
              "          datetime  purchase\n",
              "datetime  1.000000  0.513523\n",
              "purchase  0.513523  1.000000"
            ],
            "text/html": [
              "\n",
              "  <div id=\"df-1c2d5934-b061-4138-8282-37a002b9033f\">\n",
              "    <div class=\"colab-df-container\">\n",
              "      <div>\n",
              "<style scoped>\n",
              "    .dataframe tbody tr th:only-of-type {\n",
              "        vertical-align: middle;\n",
              "    }\n",
              "\n",
              "    .dataframe tbody tr th {\n",
              "        vertical-align: top;\n",
              "    }\n",
              "\n",
              "    .dataframe thead th {\n",
              "        text-align: right;\n",
              "    }\n",
              "</style>\n",
              "<table border=\"1\" class=\"dataframe\">\n",
              "  <thead>\n",
              "    <tr style=\"text-align: right;\">\n",
              "      <th></th>\n",
              "      <th>datetime</th>\n",
              "      <th>purchase</th>\n",
              "    </tr>\n",
              "  </thead>\n",
              "  <tbody>\n",
              "    <tr>\n",
              "      <th>datetime</th>\n",
              "      <td>1.000000</td>\n",
              "      <td>0.513523</td>\n",
              "    </tr>\n",
              "    <tr>\n",
              "      <th>purchase</th>\n",
              "      <td>0.513523</td>\n",
              "      <td>1.000000</td>\n",
              "    </tr>\n",
              "  </tbody>\n",
              "</table>\n",
              "</div>\n",
              "      <button class=\"colab-df-convert\" onclick=\"convertToInteractive('df-1c2d5934-b061-4138-8282-37a002b9033f')\"\n",
              "              title=\"Convert this dataframe to an interactive table.\"\n",
              "              style=\"display:none;\">\n",
              "        \n",
              "  <svg xmlns=\"http://www.w3.org/2000/svg\" height=\"24px\"viewBox=\"0 0 24 24\"\n",
              "       width=\"24px\">\n",
              "    <path d=\"M0 0h24v24H0V0z\" fill=\"none\"/>\n",
              "    <path d=\"M18.56 5.44l.94 2.06.94-2.06 2.06-.94-2.06-.94-.94-2.06-.94 2.06-2.06.94zm-11 1L8.5 8.5l.94-2.06 2.06-.94-2.06-.94L8.5 2.5l-.94 2.06-2.06.94zm10 10l.94 2.06.94-2.06 2.06-.94-2.06-.94-.94-2.06-.94 2.06-2.06.94z\"/><path d=\"M17.41 7.96l-1.37-1.37c-.4-.4-.92-.59-1.43-.59-.52 0-1.04.2-1.43.59L10.3 9.45l-7.72 7.72c-.78.78-.78 2.05 0 2.83L4 21.41c.39.39.9.59 1.41.59.51 0 1.02-.2 1.41-.59l7.78-7.78 2.81-2.81c.8-.78.8-2.07 0-2.86zM5.41 20L4 18.59l7.72-7.72 1.47 1.35L5.41 20z\"/>\n",
              "  </svg>\n",
              "      </button>\n",
              "      \n",
              "  <style>\n",
              "    .colab-df-container {\n",
              "      display:flex;\n",
              "      flex-wrap:wrap;\n",
              "      gap: 12px;\n",
              "    }\n",
              "\n",
              "    .colab-df-convert {\n",
              "      background-color: #E8F0FE;\n",
              "      border: none;\n",
              "      border-radius: 50%;\n",
              "      cursor: pointer;\n",
              "      display: none;\n",
              "      fill: #1967D2;\n",
              "      height: 32px;\n",
              "      padding: 0 0 0 0;\n",
              "      width: 32px;\n",
              "    }\n",
              "\n",
              "    .colab-df-convert:hover {\n",
              "      background-color: #E2EBFA;\n",
              "      box-shadow: 0px 1px 2px rgba(60, 64, 67, 0.3), 0px 1px 3px 1px rgba(60, 64, 67, 0.15);\n",
              "      fill: #174EA6;\n",
              "    }\n",
              "\n",
              "    [theme=dark] .colab-df-convert {\n",
              "      background-color: #3B4455;\n",
              "      fill: #D2E3FC;\n",
              "    }\n",
              "\n",
              "    [theme=dark] .colab-df-convert:hover {\n",
              "      background-color: #434B5C;\n",
              "      box-shadow: 0px 1px 3px 1px rgba(0, 0, 0, 0.15);\n",
              "      filter: drop-shadow(0px 1px 2px rgba(0, 0, 0, 0.3));\n",
              "      fill: #FFFFFF;\n",
              "    }\n",
              "  </style>\n",
              "\n",
              "      <script>\n",
              "        const buttonEl =\n",
              "          document.querySelector('#df-1c2d5934-b061-4138-8282-37a002b9033f button.colab-df-convert');\n",
              "        buttonEl.style.display =\n",
              "          google.colab.kernel.accessAllowed ? 'block' : 'none';\n",
              "\n",
              "        async function convertToInteractive(key) {\n",
              "          const element = document.querySelector('#df-1c2d5934-b061-4138-8282-37a002b9033f');\n",
              "          const dataTable =\n",
              "            await google.colab.kernel.invokeFunction('convertToInteractive',\n",
              "                                                     [key], {});\n",
              "          if (!dataTable) return;\n",
              "\n",
              "          const docLinkHtml = 'Like what you see? Visit the ' +\n",
              "            '<a target=\"_blank\" href=https://colab.research.google.com/notebooks/data_table.ipynb>data table notebook</a>'\n",
              "            + ' to learn more about interactive tables.';\n",
              "          element.innerHTML = '';\n",
              "          dataTable['output_type'] = 'display_data';\n",
              "          await google.colab.output.renderOutput(dataTable, element);\n",
              "          const docLink = document.createElement('div');\n",
              "          docLink.innerHTML = docLinkHtml;\n",
              "          element.appendChild(docLink);\n",
              "        }\n",
              "      </script>\n",
              "    </div>\n",
              "  </div>\n",
              "  "
            ]
          },
          "metadata": {},
          "execution_count": 98
        }
      ]
    },
    {
      "cell_type": "code",
      "source": [
        "plt.scatter(dg.datetime,dg.purchase)\n"
      ],
      "metadata": {
        "id": "JdnnVGPsIt5f",
        "outputId": "83714c1e-41ca-4003-bceb-288da6e482d0",
        "colab": {
          "base_uri": "https://localhost:8080/",
          "height": 282
        }
      },
      "execution_count": null,
      "outputs": [
        {
          "output_type": "execute_result",
          "data": {
            "text/plain": [
              "<matplotlib.collections.PathCollection at 0x7fb01494a5d0>"
            ]
          },
          "metadata": {},
          "execution_count": 99
        },
        {
          "output_type": "display_data",
          "data": {
            "text/plain": [
              "<Figure size 432x288 with 1 Axes>"
            ],
            "image/png": "[encoded data removed]"
          },
          "metadata": {
            "needs_background": "light"
          }
        }
      ]
    },
    {
      "cell_type": "markdown",
      "source": [
        "#extra\n"
      ],
      "metadata": {
        "id": "qaQ1dU9QP2t1"
      }
    },
    {
      "cell_type": "code",
      "source": [
        "import seaborn as sn\n",
        "sn.lineplot(x = freq_purchases.datetime, y = freq_purchases.purchase)"
      ],
      "metadata": {
        "id": "O04bxiUoL0SB",
        "outputId": "1fc7f877-07bf-4396-95b3-8ab88be890a4",
        "colab": {
          "base_uri": "https://localhost:8080/",
          "height": 307
        }
      },
      "execution_count": null,
      "outputs": [
        {
          "output_type": "execute_result",
          "data": {
            "text/plain": [
              "<matplotlib.axes._subplots.AxesSubplot at 0x7fb0148658d0>"
            ]
          },
          "metadata": {},
          "execution_count": 100
        },
        {
          "output_type": "display_data",
          "data": {
            "text/plain": [
              "<Figure size 432x288 with 1 Axes>"
            ],
            "image/png": "[encoded data removed]"
          },
          "metadata": {
            "needs_background": "light"
          }
        }
      ]
    },
    {
      "cell_type": "markdown",
      "source": [
        "#### Answer"
      ],
      "metadata": {
        "id": "MuJY5WVe25h2"
      }
    },
    {
      "cell_type": "code",
      "source": [
        "# 8. Is there any relationship between freq of visits and total purchases\n",
        "#    We will use two methods:\n",
        "\n",
        "## Method 1\n",
        "\n",
        "# 8.1   First customer-wise visit frequencies:\n",
        "\n",
        "freq = df.groupby('customerid')['datetime'].nunique()\n",
        "freq.name = \"freq\"\n",
        "freq.head()"
      ],
      "metadata": {
        "id": "7yptXFVCK6M7",
        "colab": {
          "base_uri": "https://localhost:8080/"
        },
        "outputId": "b01f0329-ae1f-4c56-b76a-84cfbf5d8ea8"
      },
      "execution_count": null,
      "outputs": [
        {
          "output_type": "execute_result",
          "data": {
            "text/plain": [
              "customerid\n",
              "1069    4\n",
              "1113    4\n",
              "1250    2\n",
              "1359    1\n",
              "1823    3\n",
              "Name: freq, dtype: int64"
            ]
          },
          "metadata": {},
          "execution_count": 101
        }
      ]
    },
    {
      "cell_type": "code",
      "source": [
        "# 8.2 Then customer-wise purchases:\n",
        "\n",
        "purchases = df.groupby('customerid')['purchase'].sum()\n",
        "purchases"
      ],
      "metadata": {
        "id": "v1N4iAlxK-i8",
        "colab": {
          "base_uri": "https://localhost:8080/"
        },
        "outputId": "f5507d75-5db8-4826-fa86-585c71f3f54d"
      },
      "execution_count": null,
      "outputs": [
        {
          "output_type": "execute_result",
          "data": {
            "text/plain": [
              "customerid\n",
              "1069         2660\n",
              "1113         3209\n",
              "1250         1795\n",
              "1359          602\n",
              "1823         6053\n",
              "            ...  \n",
              "2179544      6343\n",
              "2179568       406\n",
              "2179605      9495\n",
              "2179643      8461\n",
              "20002000    90397\n",
              "Name: purchase, Length: 32266, dtype: int32"
            ]
          },
          "metadata": {},
          "execution_count": 102
        }
      ]
    },
    {
      "cell_type": "code",
      "source": [
        "# 8.3 Create a dataframe from two continuous series:\n",
        "\n",
        "freq_purchases = pd.concat([freq,purchases], axis = 1)\n",
        "freq_purchases.head()"
      ],
      "metadata": {
        "id": "pwiYXE97LELX",
        "colab": {
          "base_uri": "https://localhost:8080/",
          "height": 237
        },
        "outputId": "3a2ef513-7093-4706-ab15-0f08ee9e5e22"
      },
      "execution_count": null,
      "outputs": [
        {
          "output_type": "execute_result",
          "data": {
            "text/plain": [
              "            freq  purchase\n",
              "customerid                \n",
              "1069           4      2660\n",
              "1113           4      3209\n",
              "1250           2      1795\n",
              "1359           1       602\n",
              "1823           3      6053"
            ],
            "text/html": [
              "\n",
              "  <div id=\"df-540478ad-d785-4a30-8548-623a721677e9\">\n",
              "    <div class=\"colab-df-container\">\n",
              "      <div>\n",
              "<style scoped>\n",
              "    .dataframe tbody tr th:only-of-type {\n",
              "        vertical-align: middle;\n",
              "    }\n",
              "\n",
              "    .dataframe tbody tr th {\n",
              "        vertical-align: top;\n",
              "    }\n",
              "\n",
              "    .dataframe thead th {\n",
              "        text-align: right;\n",
              "    }\n",
              "</style>\n",
              "<table border=\"1\" class=\"dataframe\">\n",
              "  <thead>\n",
              "    <tr style=\"text-align: right;\">\n",
              "      <th></th>\n",
              "      <th>freq</th>\n",
              "      <th>purchase</th>\n",
              "    </tr>\n",
              "    <tr>\n",
              "      <th>customerid</th>\n",
              "      <th></th>\n",
              "      <th></th>\n",
              "    </tr>\n",
              "  </thead>\n",
              "  <tbody>\n",
              "    <tr>\n",
              "      <th>1069</th>\n",
              "      <td>4</td>\n",
              "      <td>2660</td>\n",
              "    </tr>\n",
              "    <tr>\n",
              "      <th>1113</th>\n",
              "      <td>4</td>\n",
              "      <td>3209</td>\n",
              "    </tr>\n",
              "    <tr>\n",
              "      <th>1250</th>\n",
              "      <td>2</td>\n",
              "      <td>1795</td>\n",
              "    </tr>\n",
              "    <tr>\n",
              "      <th>1359</th>\n",
              "      <td>1</td>\n",
              "      <td>602</td>\n",
              "    </tr>\n",
              "    <tr>\n",
              "      <th>1823</th>\n",
              "      <td>3</td>\n",
              "      <td>6053</td>\n",
              "    </tr>\n",
              "  </tbody>\n",
              "</table>\n",
              "</div>\n",
              "      <button class=\"colab-df-convert\" onclick=\"convertToInteractive('df-540478ad-d785-4a30-8548-623a721677e9')\"\n",
              "              title=\"Convert this dataframe to an interactive table.\"\n",
              "              style=\"display:none;\">\n",
              "        \n",
              "  <svg xmlns=\"http://www.w3.org/2000/svg\" height=\"24px\"viewBox=\"0 0 24 24\"\n",
              "       width=\"24px\">\n",
              "    <path d=\"M0 0h24v24H0V0z\" fill=\"none\"/>\n",
              "    <path d=\"M18.56 5.44l.94 2.06.94-2.06 2.06-.94-2.06-.94-.94-2.06-.94 2.06-2.06.94zm-11 1L8.5 8.5l.94-2.06 2.06-.94-2.06-.94L8.5 2.5l-.94 2.06-2.06.94zm10 10l.94 2.06.94-2.06 2.06-.94-2.06-.94-.94-2.06-.94 2.06-2.06.94z\"/><path d=\"M17.41 7.96l-1.37-1.37c-.4-.4-.92-.59-1.43-.59-.52 0-1.04.2-1.43.59L10.3 9.45l-7.72 7.72c-.78.78-.78 2.05 0 2.83L4 21.41c.39.39.9.59 1.41.59.51 0 1.02-.2 1.41-.59l7.78-7.78 2.81-2.81c.8-.78.8-2.07 0-2.86zM5.41 20L4 18.59l7.72-7.72 1.47 1.35L5.41 20z\"/>\n",
              "  </svg>\n",
              "      </button>\n",
              "      \n",
              "  <style>\n",
              "    .colab-df-container {\n",
              "      display:flex;\n",
              "      flex-wrap:wrap;\n",
              "      gap: 12px;\n",
              "    }\n",
              "\n",
              "    .colab-df-convert {\n",
              "      background-color: #E8F0FE;\n",
              "      border: none;\n",
              "      border-radius: 50%;\n",
              "      cursor: pointer;\n",
              "      display: none;\n",
              "      fill: #1967D2;\n",
              "      height: 32px;\n",
              "      padding: 0 0 0 0;\n",
              "      width: 32px;\n",
              "    }\n",
              "\n",
              "    .colab-df-convert:hover {\n",
              "      background-color: #E2EBFA;\n",
              "      box-shadow: 0px 1px 2px rgba(60, 64, 67, 0.3), 0px 1px 3px 1px rgba(60, 64, 67, 0.15);\n",
              "      fill: #174EA6;\n",
              "    }\n",
              "\n",
              "    [theme=dark] .colab-df-convert {\n",
              "      background-color: #3B4455;\n",
              "      fill: #D2E3FC;\n",
              "    }\n",
              "\n",
              "    [theme=dark] .colab-df-convert:hover {\n",
              "      background-color: #434B5C;\n",
              "      box-shadow: 0px 1px 3px 1px rgba(0, 0, 0, 0.15);\n",
              "      filter: drop-shadow(0px 1px 2px rgba(0, 0, 0, 0.3));\n",
              "      fill: #FFFFFF;\n",
              "    }\n",
              "  </style>\n",
              "\n",
              "      <script>\n",
              "        const buttonEl =\n",
              "          document.querySelector('#df-540478ad-d785-4a30-8548-623a721677e9 button.colab-df-convert');\n",
              "        buttonEl.style.display =\n",
              "          google.colab.kernel.accessAllowed ? 'block' : 'none';\n",
              "\n",
              "        async function convertToInteractive(key) {\n",
              "          const element = document.querySelector('#df-540478ad-d785-4a30-8548-623a721677e9');\n",
              "          const dataTable =\n",
              "            await google.colab.kernel.invokeFunction('convertToInteractive',\n",
              "                                                     [key], {});\n",
              "          if (!dataTable) return;\n",
              "\n",
              "          const docLinkHtml = 'Like what you see? Visit the ' +\n",
              "            '<a target=\"_blank\" href=https://colab.research.google.com/notebooks/data_table.ipynb>data table notebook</a>'\n",
              "            + ' to learn more about interactive tables.';\n",
              "          element.innerHTML = '';\n",
              "          dataTable['output_type'] = 'display_data';\n",
              "          await google.colab.output.renderOutput(dataTable, element);\n",
              "          const docLink = document.createElement('div');\n",
              "          docLink.innerHTML = docLinkHtml;\n",
              "          element.appendChild(docLink);\n",
              "        }\n",
              "      </script>\n",
              "    </div>\n",
              "  </div>\n",
              "  "
            ]
          },
          "metadata": {},
          "execution_count": 103
        }
      ]
    },
    {
      "cell_type": "code",
      "source": [
        "# 8.4 So what kind of relationships exist?\n",
        "#     Answer: Very weak!\n",
        "\n",
        "freq_purchases.corr()"
      ],
      "metadata": {
        "id": "XbrcUFxELd98",
        "colab": {
          "base_uri": "https://localhost:8080/",
          "height": 112
        },
        "outputId": "9f05e26f-ed61-4571-f54d-9da643eff3c8"
      },
      "execution_count": null,
      "outputs": [
        {
          "output_type": "execute_result",
          "data": {
            "text/plain": [
              "              freq  purchase\n",
              "freq      1.000000  0.026599\n",
              "purchase  0.026599  1.000000"
            ],
            "text/html": [
              "\n",
              "  <div id=\"df-0f8a1018-ad6d-49ed-ac60-10b4cd85774e\">\n",
              "    <div class=\"colab-df-container\">\n",
              "      <div>\n",
              "<style scoped>\n",
              "    .dataframe tbody tr th:only-of-type {\n",
              "        vertical-align: middle;\n",
              "    }\n",
              "\n",
              "    .dataframe tbody tr th {\n",
              "        vertical-align: top;\n",
              "    }\n",
              "\n",
              "    .dataframe thead th {\n",
              "        text-align: right;\n",
              "    }\n",
              "</style>\n",
              "<table border=\"1\" class=\"dataframe\">\n",
              "  <thead>\n",
              "    <tr style=\"text-align: right;\">\n",
              "      <th></th>\n",
              "      <th>freq</th>\n",
              "      <th>purchase</th>\n",
              "    </tr>\n",
              "  </thead>\n",
              "  <tbody>\n",
              "    <tr>\n",
              "      <th>freq</th>\n",
              "      <td>1.000000</td>\n",
              "      <td>0.026599</td>\n",
              "    </tr>\n",
              "    <tr>\n",
              "      <th>purchase</th>\n",
              "      <td>0.026599</td>\n",
              "      <td>1.000000</td>\n",
              "    </tr>\n",
              "  </tbody>\n",
              "</table>\n",
              "</div>\n",
              "      <button class=\"colab-df-convert\" onclick=\"convertToInteractive('df-0f8a1018-ad6d-49ed-ac60-10b4cd85774e')\"\n",
              "              title=\"Convert this dataframe to an interactive table.\"\n",
              "              style=\"display:none;\">\n",
              "        \n",
              "  <svg xmlns=\"http://www.w3.org/2000/svg\" height=\"24px\"viewBox=\"0 0 24 24\"\n",
              "       width=\"24px\">\n",
              "    <path d=\"M0 0h24v24H0V0z\" fill=\"none\"/>\n",
              "    <path d=\"M18.56 5.44l.94 2.06.94-2.06 2.06-.94-2.06-.94-.94-2.06-.94 2.06-2.06.94zm-11 1L8.5 8.5l.94-2.06 2.06-.94-2.06-.94L8.5 2.5l-.94 2.06-2.06.94zm10 10l.94 2.06.94-2.06 2.06-.94-2.06-.94-.94-2.06-.94 2.06-2.06.94z\"/><path d=\"M17.41 7.96l-1.37-1.37c-.4-.4-.92-.59-1.43-.59-.52 0-1.04.2-1.43.59L10.3 9.45l-7.72 7.72c-.78.78-.78 2.05 0 2.83L4 21.41c.39.39.9.59 1.41.59.51 0 1.02-.2 1.41-.59l7.78-7.78 2.81-2.81c.8-.78.8-2.07 0-2.86zM5.41 20L4 18.59l7.72-7.72 1.47 1.35L5.41 20z\"/>\n",
              "  </svg>\n",
              "      </button>\n",
              "      \n",
              "  <style>\n",
              "    .colab-df-container {\n",
              "      display:flex;\n",
              "      flex-wrap:wrap;\n",
              "      gap: 12px;\n",
              "    }\n",
              "\n",
              "    .colab-df-convert {\n",
              "      background-color: #E8F0FE;\n",
              "      border: none;\n",
              "      border-radius: 50%;\n",
              "      cursor: pointer;\n",
              "      display: none;\n",
              "      fill: #1967D2;\n",
              "      height: 32px;\n",
              "      padding: 0 0 0 0;\n",
              "      width: 32px;\n",
              "    }\n",
              "\n",
              "    .colab-df-convert:hover {\n",
              "      background-color: #E2EBFA;\n",
              "      box-shadow: 0px 1px 2px rgba(60, 64, 67, 0.3), 0px 1px 3px 1px rgba(60, 64, 67, 0.15);\n",
              "      fill: #174EA6;\n",
              "    }\n",
              "\n",
              "    [theme=dark] .colab-df-convert {\n",
              "      background-color: #3B4455;\n",
              "      fill: #D2E3FC;\n",
              "    }\n",
              "\n",
              "    [theme=dark] .colab-df-convert:hover {\n",
              "      background-color: #434B5C;\n",
              "      box-shadow: 0px 1px 3px 1px rgba(0, 0, 0, 0.15);\n",
              "      filter: drop-shadow(0px 1px 2px rgba(0, 0, 0, 0.3));\n",
              "      fill: #FFFFFF;\n",
              "    }\n",
              "  </style>\n",
              "\n",
              "      <script>\n",
              "        const buttonEl =\n",
              "          document.querySelector('#df-0f8a1018-ad6d-49ed-ac60-10b4cd85774e button.colab-df-convert');\n",
              "        buttonEl.style.display =\n",
              "          google.colab.kernel.accessAllowed ? 'block' : 'none';\n",
              "\n",
              "        async function convertToInteractive(key) {\n",
              "          const element = document.querySelector('#df-0f8a1018-ad6d-49ed-ac60-10b4cd85774e');\n",
              "          const dataTable =\n",
              "            await google.colab.kernel.invokeFunction('convertToInteractive',\n",
              "                                                     [key], {});\n",
              "          if (!dataTable) return;\n",
              "\n",
              "          const docLinkHtml = 'Like what you see? Visit the ' +\n",
              "            '<a target=\"_blank\" href=https://colab.research.google.com/notebooks/data_table.ipynb>data table notebook</a>'\n",
              "            + ' to learn more about interactive tables.';\n",
              "          element.innerHTML = '';\n",
              "          dataTable['output_type'] = 'display_data';\n",
              "          await google.colab.output.renderOutput(dataTable, element);\n",
              "          const docLink = document.createElement('div');\n",
              "          docLink.innerHTML = docLinkHtml;\n",
              "          element.appendChild(docLink);\n",
              "        }\n",
              "      </script>\n",
              "    </div>\n",
              "  </div>\n",
              "  "
            ]
          },
          "metadata": {},
          "execution_count": 104
        }
      ]
    },
    {
      "cell_type": "code",
      "source": [
        "# 8.5 Include only points which are below 99th percentile of purchases\n",
        "\n",
        "freq_purchases = freq_purchases[freq_purchases['purchase'] < 52135]"
      ],
      "metadata": {
        "id": "k2R8h0eNLsG2"
      },
      "execution_count": null,
      "outputs": []
    },
    {
      "cell_type": "code",
      "source": [
        "# 8.6 Let us revisit relationships\n",
        "#     Relationship is stronger though not very strong\n",
        "\n",
        "freq_purchases.corr()"
      ],
      "metadata": {
        "id": "PXK1uobPLvra",
        "colab": {
          "base_uri": "https://localhost:8080/",
          "height": 112
        },
        "outputId": "5761a579-ae37-4f94-af54-bd333f059382"
      },
      "execution_count": null,
      "outputs": [
        {
          "output_type": "execute_result",
          "data": {
            "text/plain": [
              "              freq  purchase\n",
              "freq      1.000000  0.513523\n",
              "purchase  0.513523  1.000000"
            ],
            "text/html": [
              "\n",
              "  <div id=\"df-866cf962-fc65-4e9e-bfb4-924661c8a154\">\n",
              "    <div class=\"colab-df-container\">\n",
              "      <div>\n",
              "<style scoped>\n",
              "    .dataframe tbody tr th:only-of-type {\n",
              "        vertical-align: middle;\n",
              "    }\n",
              "\n",
              "    .dataframe tbody tr th {\n",
              "        vertical-align: top;\n",
              "    }\n",
              "\n",
              "    .dataframe thead th {\n",
              "        text-align: right;\n",
              "    }\n",
              "</style>\n",
              "<table border=\"1\" class=\"dataframe\">\n",
              "  <thead>\n",
              "    <tr style=\"text-align: right;\">\n",
              "      <th></th>\n",
              "      <th>freq</th>\n",
              "      <th>purchase</th>\n",
              "    </tr>\n",
              "  </thead>\n",
              "  <tbody>\n",
              "    <tr>\n",
              "      <th>freq</th>\n",
              "      <td>1.000000</td>\n",
              "      <td>0.513523</td>\n",
              "    </tr>\n",
              "    <tr>\n",
              "      <th>purchase</th>\n",
              "      <td>0.513523</td>\n",
              "      <td>1.000000</td>\n",
              "    </tr>\n",
              "  </tbody>\n",
              "</table>\n",
              "</div>\n",
              "      <button class=\"colab-df-convert\" onclick=\"convertToInteractive('df-866cf962-fc65-4e9e-bfb4-924661c8a154')\"\n",
              "              title=\"Convert this dataframe to an interactive table.\"\n",
              "              style=\"display:none;\">\n",
              "        \n",
              "  <svg xmlns=\"http://www.w3.org/2000/svg\" height=\"24px\"viewBox=\"0 0 24 24\"\n",
              "       width=\"24px\">\n",
              "    <path d=\"M0 0h24v24H0V0z\" fill=\"none\"/>\n",
              "    <path d=\"M18.56 5.44l.94 2.06.94-2.06 2.06-.94-2.06-.94-.94-2.06-.94 2.06-2.06.94zm-11 1L8.5 8.5l.94-2.06 2.06-.94-2.06-.94L8.5 2.5l-.94 2.06-2.06.94zm10 10l.94 2.06.94-2.06 2.06-.94-2.06-.94-.94-2.06-.94 2.06-2.06.94z\"/><path d=\"M17.41 7.96l-1.37-1.37c-.4-.4-.92-.59-1.43-.59-.52 0-1.04.2-1.43.59L10.3 9.45l-7.72 7.72c-.78.78-.78 2.05 0 2.83L4 21.41c.39.39.9.59 1.41.59.51 0 1.02-.2 1.41-.59l7.78-7.78 2.81-2.81c.8-.78.8-2.07 0-2.86zM5.41 20L4 18.59l7.72-7.72 1.47 1.35L5.41 20z\"/>\n",
              "  </svg>\n",
              "      </button>\n",
              "      \n",
              "  <style>\n",
              "    .colab-df-container {\n",
              "      display:flex;\n",
              "      flex-wrap:wrap;\n",
              "      gap: 12px;\n",
              "    }\n",
              "\n",
              "    .colab-df-convert {\n",
              "      background-color: #E8F0FE;\n",
              "      border: none;\n",
              "      border-radius: 50%;\n",
              "      cursor: pointer;\n",
              "      display: none;\n",
              "      fill: #1967D2;\n",
              "      height: 32px;\n",
              "      padding: 0 0 0 0;\n",
              "      width: 32px;\n",
              "    }\n",
              "\n",
              "    .colab-df-convert:hover {\n",
              "      background-color: #E2EBFA;\n",
              "      box-shadow: 0px 1px 2px rgba(60, 64, 67, 0.3), 0px 1px 3px 1px rgba(60, 64, 67, 0.15);\n",
              "      fill: #174EA6;\n",
              "    }\n",
              "\n",
              "    [theme=dark] .colab-df-convert {\n",
              "      background-color: #3B4455;\n",
              "      fill: #D2E3FC;\n",
              "    }\n",
              "\n",
              "    [theme=dark] .colab-df-convert:hover {\n",
              "      background-color: #434B5C;\n",
              "      box-shadow: 0px 1px 3px 1px rgba(0, 0, 0, 0.15);\n",
              "      filter: drop-shadow(0px 1px 2px rgba(0, 0, 0, 0.3));\n",
              "      fill: #FFFFFF;\n",
              "    }\n",
              "  </style>\n",
              "\n",
              "      <script>\n",
              "        const buttonEl =\n",
              "          document.querySelector('#df-866cf962-fc65-4e9e-bfb4-924661c8a154 button.colab-df-convert');\n",
              "        buttonEl.style.display =\n",
              "          google.colab.kernel.accessAllowed ? 'block' : 'none';\n",
              "\n",
              "        async function convertToInteractive(key) {\n",
              "          const element = document.querySelector('#df-866cf962-fc65-4e9e-bfb4-924661c8a154');\n",
              "          const dataTable =\n",
              "            await google.colab.kernel.invokeFunction('convertToInteractive',\n",
              "                                                     [key], {});\n",
              "          if (!dataTable) return;\n",
              "\n",
              "          const docLinkHtml = 'Like what you see? Visit the ' +\n",
              "            '<a target=\"_blank\" href=https://colab.research.google.com/notebooks/data_table.ipynb>data table notebook</a>'\n",
              "            + ' to learn more about interactive tables.';\n",
              "          element.innerHTML = '';\n",
              "          dataTable['output_type'] = 'display_data';\n",
              "          await google.colab.output.renderOutput(dataTable, element);\n",
              "          const docLink = document.createElement('div');\n",
              "          docLink.innerHTML = docLinkHtml;\n",
              "          element.appendChild(docLink);\n",
              "        }\n",
              "      </script>\n",
              "    </div>\n",
              "  </div>\n",
              "  "
            ]
          },
          "metadata": {},
          "execution_count": 106
        }
      ]
    },
    {
      "cell_type": "code",
      "source": [
        "# 8.7 Plot and also annotate now\n",
        "#     First through pandas plotting methods\n",
        "plt.figure()\n",
        "freq_purchases.plot.scatter(x = 'freq', y = 'purchase')\n",
        "plt.show()"
      ],
      "metadata": {
        "id": "7BwQNMaNICTY",
        "colab": {
          "base_uri": "https://localhost:8080/",
          "height": 331
        },
        "outputId": "78cb9663-9d77-4633-c845-ff3617eedacb"
      },
      "execution_count": null,
      "outputs": [
        {
          "output_type": "execute_result",
          "data": {
            "text/plain": [
              "<Figure size 432x288 with 0 Axes>"
            ]
          },
          "metadata": {},
          "execution_count": 107
        },
        {
          "output_type": "execute_result",
          "data": {
            "text/plain": [
              "<matplotlib.axes._subplots.AxesSubplot at 0x7fb0145d2650>"
            ]
          },
          "metadata": {},
          "execution_count": 107
        },
        {
          "output_type": "display_data",
          "data": {
            "text/plain": [
              "<Figure size 432x288 with 0 Axes>"
            ]
          },
          "metadata": {}
        },
        {
          "output_type": "display_data",
          "data": {
            "text/plain": [
              "<Figure size 432x288 with 1 Axes>"
            ],
            "image/png": "[encoded data removed]"
          },
          "metadata": {
            "needs_background": "light"
          }
        }
      ]
    },
    {
      "cell_type": "code",
      "source": [],
      "metadata": {
        "id": "0Nn2EWvLAnD_"
      },
      "execution_count": null,
      "outputs": []
    },
    {
      "cell_type": "markdown",
      "source": [
        "### Q8\n",
        "What are average purchases per-customer, per visit?"
      ],
      "metadata": {
        "id": "_48R9e2NNUu0"
      }
    },
    {
      "cell_type": "markdown",
      "source": [
        "#### Answer"
      ],
      "metadata": {
        "id": "3hD6rfEF3E5X"
      }
    },
    {
      "cell_type": "code",
      "source": [
        "# 9. (Q8):  What are average purchases per-customer, per visit\n",
        "#     Sol: Simple: Gr by customerid,datetime and sum up purchases\n",
        "#\n",
        "result = df.groupby(['customerid', 'datetime'])['purchase'].sum()\n",
        "result.head()"
      ],
      "metadata": {
        "id": "x77u5SqSNcMY"
      },
      "execution_count": null,
      "outputs": []
    },
    {
      "cell_type": "code",
      "source": [
        "# 9.1 Note that grouping by more than one attribute\n",
        "#     creates multiindex. Here it has two levels\n",
        "\n",
        "result.index.get_level_values(0)\n",
        "result.index.get_level_values(1)"
      ],
      "metadata": {
        "id": "SMZXV3PeNjlX"
      },
      "execution_count": null,
      "outputs": []
    },
    {
      "cell_type": "code",
      "source": [
        "# 9.2 Unentangle it using unstack()\n",
        "result1 = df.groupby(['customerid', 'datetime'])['purchase'].sum().unstack()\n",
        "result1.head()"
      ],
      "metadata": {
        "id": "ZHz-EEttNqkt"
      },
      "execution_count": null,
      "outputs": []
    },
    {
      "cell_type": "code",
      "source": [
        "# 9.3 Find mean, across columns\n",
        "#     And this our answer to the question\n",
        "df.groupby(['customerid', 'datetime'])['purchase'].sum().unstack().mean(axis = 1, skipna = True).head()"
      ],
      "metadata": {
        "id": "OrMx64mNN0-q"
      },
      "execution_count": null,
      "outputs": []
    },
    {
      "cell_type": "code",
      "source": [
        "# 9.4 Let us verify the result for at least one customer\n",
        "df[df['customerid'] == 1069].groupby('datetime')['purchase'].sum()\n",
        "(187 + 971 + 922 + 580)/4               # 665\n"
      ],
      "metadata": {
        "id": "2xNJFNF6NV6k"
      },
      "execution_count": null,
      "outputs": []
    },
    {
      "cell_type": "markdown",
      "source": [
        "### Q9"
      ],
      "metadata": {
        "id": "Owve-b0nOMOt"
      }
    },
    {
      "cell_type": "markdown",
      "source": [
        " What are average purchases customer-wise?"
      ],
      "metadata": {
        "id": "rSZvACR93L81"
      }
    },
    {
      "cell_type": "markdown",
      "source": [
        "####Answer"
      ],
      "metadata": {
        "id": "8vPKtX6j3Nhs"
      }
    },
    {
      "cell_type": "code",
      "source": [
        "# 10 (Q9): \n",
        "#          Sol: Gr by customerid and find mean() purchases per id\n",
        "\n",
        "df.groupby('customerid')['purchase'].mean().sort_values(ascending = False)\n"
      ],
      "metadata": {
        "id": "DPFe3lFQOEa0"
      },
      "execution_count": null,
      "outputs": []
    },
    {
      "cell_type": "markdown",
      "source": [
        "### Q10\n",
        "Determine customer-wise, product_subclass preference?"
      ],
      "metadata": {
        "id": "GXw5OKCHOXEM"
      }
    },
    {
      "cell_type": "markdown",
      "source": [
        "#### Answer"
      ],
      "metadata": {
        "id": "-o5RgnoH3R3y"
      }
    },
    {
      "cell_type": "code",
      "source": [
        "## 11. Q9\n",
        "# 11.1 \n",
        "#     We will define preference as no of different datetimes purchased.\n",
        "#     All purchases of a product_subclass on one date count to one.\n",
        "\n",
        "result = df.groupby(['customerid', 'product_subclass'])['datetime'].nunique().sort_values(ascending= False)\n",
        "result.head()\n",
        "\n",
        "# 11.2 Just to extract result for one customer from this multiindex, use\n",
        "#      index.get_level_values()....rather complicated but works\n",
        "#  Ref: https://stackoverflow.com/questions/17921010/how-to-query-multiindex-index-columns-values-in-pandas\n",
        "result.loc[result.index.get_level_values('customerid')  == 1740653, :]\n",
        "\n",
        "\n",
        "# 11.3 But if preference means by quantity, then solution is:\n",
        "df.groupby(['customerid', 'product_subclass'])['quantity'].sum().sort_values(ascending= False)"
      ],
      "metadata": {
        "id": "CMioD0UhOQDA"
      },
      "execution_count": null,
      "outputs": []
    },
    {
      "cell_type": "markdown",
      "source": [
        "### Q11\n",
        "Customer-wise basket of purchases"
      ],
      "metadata": {
        "id": "Is3dCoSoOgFk"
      }
    },
    {
      "cell_type": "markdown",
      "source": [
        "#### Answer"
      ],
      "metadata": {
        "id": "Qrwu_tTf3c6G"
      }
    },
    {
      "cell_type": "code",
      "source": [
        "# 12 (Q10): Basket of purchases:\n",
        "#            Variety of purchases made per customer, Productid wise\n",
        "\n",
        "df.groupby(['customerid'])['productid'].nunique().sort_values(ascending = False)\n"
      ],
      "metadata": {
        "id": "dylYh0kHOhUA"
      },
      "execution_count": null,
      "outputs": []
    },
    {
      "cell_type": "markdown",
      "source": [
        "### Q12\n",
        "Which product_class brings most revenue?"
      ],
      "metadata": {
        "id": "d6WgtXIsOrRs"
      }
    },
    {
      "cell_type": "markdown",
      "source": [
        "#### Answer"
      ],
      "metadata": {
        "id": "TbVsKBe93hLU"
      }
    },
    {
      "cell_type": "code",
      "source": [
        "# 13  Which product_class brings most revenue\n",
        "#        Sol: Group by product_subclass and add quantity * salesprice\n",
        "\n",
        "# 13.1 Here is the solution:\n",
        "df.groupby(['product_subclass'])['purchase'].sum()\n"
      ],
      "metadata": {
        "id": "f0XlK9eMOiIq"
      },
      "execution_count": null,
      "outputs": []
    },
    {
      "cell_type": "markdown",
      "source": [
        "### Q13\n",
        "Which product_subclass is popular that is         most customers buy?"
      ],
      "metadata": {
        "id": "7dDVXIASO22l"
      }
    },
    {
      "cell_type": "markdown",
      "source": [
        "#### Answer"
      ],
      "metadata": {
        "id": "Bq52Q9Gj3yFV"
      }
    },
    {
      "cell_type": "code",
      "source": [
        "# 13.2 (Q12): Which product_subclass is popular that is\n",
        "#             most customers buy?\n",
        "df.groupby(['product_subclass'])['customerid'].nunique().sort_values(ascending=False)\n"
      ],
      "metadata": {
        "id": "A48b9a37Owyg"
      },
      "execution_count": null,
      "outputs": []
    },
    {
      "cell_type": "markdown",
      "source": [
        "### Exercise questions\n"
      ],
      "metadata": {
        "id": "SOdXMTE9O-hk"
      }
    },
    {
      "cell_type": "code",
      "source": [
        "## Not solved. Students to solve these\n",
        "# 13.3 (Q14): Age wise purchases average. Which age group max purchases\n",
        "#             Just group by age\n",
        "\n",
        "# 13.4 (Q15): Residence area wise purchasing capacity\n",
        "#             Just group by residence area wise\n",
        "\n",
        "\n",
        "# 13.5 (Q16)  Per visit/per transaction avg money spent\n",
        "\n",
        "\n",
        "# 14   (Q17): Distribuiton of age groups with residence_area\n",
        "#             Same as:  table(d12$age, d12$residence_area)\n",
        "\n",
        "# 15.  (Q18)    What is the distribution of customers, age-wise\n"
      ],
      "metadata": {
        "id": "qfjB51PKO5Wn"
      },
      "execution_count": null,
      "outputs": []
    },
    {
      "cell_type": "markdown",
      "source": [
        "### Q14\n",
        "Is there a relationship between 'age' and 'residence_area'?"
      ],
      "metadata": {
        "id": "_YXPhorpPgVs"
      }
    },
    {
      "cell_type": "markdown",
      "source": [
        "#### Answer"
      ],
      "metadata": {
        "id": "svGM6ecC34u1"
      }
    },
    {
      "cell_type": "code",
      "source": [
        "\n",
        "# 16. (Q18) Is there a relationship between 'age' and 'residence_area'\n",
        "#           We will calculate ch-square statistics\n",
        "#           An often quoted guideline for the validity of chi-square calculation\n",
        "#           is that the test should be used only if the observed and expected\n",
        "#           frequencies in each cell are at least 5.\n",
        "\n",
        "# 16.1 Return values are: chi2 statistic, p-value, degrees-of-freedom, expected-freq\n",
        "chi2_contingency(pd.crosstab(df.age, df.residence_area))     # p-value = 0\n",
        "# OR\n",
        "# 16.2\n",
        "chi2, p_value, dof, expeFreq = chi2_contingency(pd.crosstab(df.age, df.residence_area))\n",
        "p_value\n",
        "\n",
        "\n",
        "\n",
        "# 17. Mosiac plot of contingency table\n",
        "#     At a glance view of deviation from expected freq\n",
        "# statistic=True  will give colors to the plot. If the tile has a freq\n",
        "#   is more than 2 standard deviation from the expected value\n",
        "#    color will go from green to red (for positive deviations, blue otherwise)\n",
        "#     and will acquire an hatching when crosses the 3 sigma.\n",
        "fig = plt.figure(figsize = (10,10))     # Set figure size\n",
        "ax = fig.add_subplot(111)               # Add one subplot\n",
        "mosaic(df, ['age', 'residence_area'],\n",
        "       ax = ax,\n",
        "       statistic = True\n",
        "       )\n",
        "plt.show()\n",
        "\n",
        "\n",
        "# 18   t-test IS there any significant difference in avg spending\n",
        "#        age-wise, say, between ages 'A' and 'B'\n",
        "#   Steps:\n",
        "#        1. Extract spending data for two ages\n",
        "#        2. Discover 99th percentile points for each\n",
        "#        3. Remove outliers\n",
        "#        4. Perform t-test\n",
        "\n",
        "# 18.1 'purchase' data for age = 'A'\n",
        "a = df.loc[df['age'] == 'A', 'purchase']\n",
        "len(a)              # 30068\n",
        "\n",
        "# 18.2 'purchase' data for age = 'B'\n",
        "b = df.loc[df['age'] == 'B', 'purchase']\n",
        "len(b)              # 66427\n",
        "\n",
        "# 18.3 Conduct t-test now. Are the means of two purchases equal?\n",
        "_, pvalue = ttest_ind( a, b, axis=0)\n",
        "pvalue      # 0.18781 So no difference in purchase mean\n",
        "\n",
        "# 18.4 Let us remove few outliers and then again perform t-test\n",
        "#      What is the 99th percentile in each case\n",
        "scoreatpercentile(a, per = 99)             # 2558\n",
        "scoreatpercentile(b, per = 99)             # 3029\n",
        "\n",
        "# 18.5 Extract from 'a' & 'b' values other than outlers\n",
        "a= a[a<2558]\n",
        "b = b[b<3029]\n",
        "len(a)        # 29767\n",
        "len(b)        # 65762\n",
        "\n",
        "# 18.6 Perform t-test now:\n",
        "# 18.7 Removing outliers drastically alters the conclusion\n",
        "_, pvalue = ttest_ind( a, b, axis=0)\n",
        "pvalue             # 3.060e-42\n",
        "\n"
      ],
      "metadata": {
        "id": "yZ2o35_9PCPy"
      },
      "execution_count": null,
      "outputs": []
    },
    {
      "cell_type": "markdown",
      "source": [
        "## Finish\n",
        " ---------------------I am done------------------------------------"
      ],
      "metadata": {
        "id": "3EtZt0z-39UU"
      }
    },
    {
      "cell_type": "code",
      "source": [],
      "metadata": {
        "id": "TsIYwD9PXALp"
      },
      "execution_count": null,
      "outputs": []
    }
  ]
}