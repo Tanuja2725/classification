{
  "nbformat": 4,
  "nbformat_minor": 0,
  "metadata": {
    "colab": {
      "provenance": [],
      "authorship_tag": "ABX9TyO9zApNlA//6eJ6EwjRQZUp",
      "include_colab_link": true
    },
    "kernelspec": {
      "name": "python3",
      "display_name": "Python 3"
    },
    "language_info": {
      "name": "python"
    }
  },
  "cells": [
    {
      "cell_type": "markdown",
      "metadata": {
        "id": "view-in-github",
        "colab_type": "text"
      },
      "source": [
        "<a href=\"https://colab.research.google.com/github/Tanuja2725/classification/blob/main/exercise_best_universities_of_UK.ipynb\" target=\"_parent\"><img src=\"https://colab.research.google.com/assets/colab-badge.svg\" alt=\"Open In Colab\"/></a>"
      ]
    },
    {
      "cell_type": "code",
      "source": [
        "from google.colab import drive\n",
        "drive.mount('/gdrive')"
      ],
      "metadata": {
        "colab": {
          "base_uri": "https://localhost:8080/"
        },
        "id": "XqJEWdt7kps9",
        "outputId": "5c536e4c-7d7f-43c6-90e5-56aa97087342"
      },
      "execution_count": null,
      "outputs": [
        {
          "output_type": "stream",
          "name": "stdout",
          "text": [
            "Drive already mounted at /gdrive; to attempt to forcibly remount, call drive.mount(\"/gdrive\", force_remount=True).\n"
          ]
        }
      ]
    },
    {
      "cell_type": "code",
      "source": [
        "with open('/gdrive/My Drive/foo.txt', 'w') as f:\n",
        "  f.write('Hello Google Drive!')\n",
        "!cat '/gdrive/My Drive/foo.txt'"
      ],
      "metadata": {
        "colab": {
          "base_uri": "https://localhost:8080/"
        },
        "id": "vZyaTVhzkptE",
        "outputId": "a54e80f5-2a8a-48a8-e8ec-7a481a9f76c4"
      },
      "execution_count": null,
      "outputs": [
        {
          "output_type": "stream",
          "name": "stdout",
          "text": [
            "Hello Google Drive!"
          ]
        }
      ]
    },
    {
      "cell_type": "code",
      "source": [
        "path=\"/gdrive/MyDrive/colab_data_ files/Exercise/archive.zip\""
      ],
      "metadata": {
        "id": "QYQQKK1NlPtH"
      },
      "execution_count": null,
      "outputs": []
    },
    {
      "cell_type": "code",
      "source": [
        "folderpath=\"/gdrive/MyDrive/colab_data_ files/Exercise\""
      ],
      "metadata": {
        "id": "I8x_CvB1Srvd"
      },
      "execution_count": null,
      "outputs": []
    },
    {
      "cell_type": "markdown",
      "source": [
        "Call libraries"
      ],
      "metadata": {
        "id": "aytMSAwUMpRa"
      }
    },
    {
      "cell_type": "code",
      "source": [
        "import numpy as np  # linear algebra\n",
        "import pandas as pd # data processing, CSV file I/O (e.g. pd.read_csv)\n",
        "\n",
        "# Input data files are available in the read-only \"../input/\" directory\n",
        "# For example, running this (by clicking run or pressing Shift+Enter) will list all files under the input directory\n",
        "\n",
        "import os\n",
        "os.chdir(folderpath)\n",
        "import matplotlib.pyplot as plt\n",
        "import seaborn as sns\n"
      ],
      "metadata": {
        "id": "U0Xvwk3WlcQF"
      },
      "execution_count": null,
      "outputs": []
    },
    {
      "cell_type": "code",
      "source": [
        "os.listdir(\"/gdrive/MyDrive/colab_data_ files/Exercise\")"
      ],
      "metadata": {
        "colab": {
          "base_uri": "https://localhost:8080/"
        },
        "id": "AkAKu5jIQP7D",
        "outputId": "f44a63aa-4943-4ff1-b16f-af5b2b4a118c"
      },
      "execution_count": null,
      "outputs": [
        {
          "output_type": "execute_result",
          "data": {
            "text/plain": [
              "['archive.zip', 'buuk.csv']"
            ]
          },
          "metadata": {},
          "execution_count": 8
        }
      ]
    },
    {
      "cell_type": "markdown",
      "source": [
        "Read data:"
      ],
      "metadata": {
        "id": "8hubrU14PPDv"
      }
    },
    {
      "cell_type": "code",
      "source": [
        "BestuniversitiesUK = pd.read_csv(path)"
      ],
      "metadata": {
        "id": "MeJeivpDu71x"
      },
      "execution_count": null,
      "outputs": []
    },
    {
      "cell_type": "markdown",
      "source": [
        "Analysis:"
      ],
      "metadata": {
        "id": "ooYJJF3VPWqy"
      }
    },
    {
      "cell_type": "code",
      "source": [
        "BestuniversitiesUK.head"
      ],
      "metadata": {
        "colab": {
          "base_uri": "https://localhost:8080/"
        },
        "id": "wkrEzl-1QJrl",
        "outputId": "c4101de6-d69a-4f92-e88e-9f5473c9c489"
      },
      "execution_count": null,
      "outputs": [
        {
          "output_type": "execute_result",
          "data": {
            "text/plain": [
              "<bound method NDFrame.head of                     University_name              Region  Founded_year  \\\n",
              "0           University of Cambridge     East of England          1209   \n",
              "1              University of Oxford  South East England          1096   \n",
              "2          University of St Andrews            Scotland          1413   \n",
              "3           Imperial College London              London          1907   \n",
              "4           Loughborough University       East Midlands          1966   \n",
              "..                              ...                 ...           ...   \n",
              "126       University of East London              London          1992   \n",
              "127      University of Bedfordshire     East of England          2006   \n",
              "128           University of Suffolk     East of England          2007   \n",
              "129      Wrexham Glyndwr University               Wales          2008   \n",
              "130  Ravensbourne University London              London          1962   \n",
              "\n",
              "                                                 Motto  UK_rank  World_rank  \\\n",
              "0                 From here, light and sacred draughts        1           4   \n",
              "1                                 The Lord is my light        2           2   \n",
              "2                                        Ever to excel        3          86   \n",
              "3    Knowledge is the adornment and safeguard of th...        4           8   \n",
              "4                     With Truth, Knowledge and Labour        5         404   \n",
              "..                                                 ...      ...         ...   \n",
              "126                    Science and fulfillment of vows      127         971   \n",
              "127                                                NaN      128        1281   \n",
              "128                              Honesty and diligence      129        4030   \n",
              "129                       Confidence through Education      130        2397   \n",
              "130                              Designed for industry      131        2759   \n",
              "\n",
              "     CWUR_score  Minimum_IELTS_score  UG_average_fees_(in_pounds)  \\\n",
              "0          94.1                  6.5                        21750   \n",
              "1          93.3                  6.5                        21770   \n",
              "2          75.8                  6.5                        17040   \n",
              "3          86.6                  6.5                        23500   \n",
              "4          72.8                  5.5                        16400   \n",
              "..          ...                  ...                          ...   \n",
              "126         NaN                  4.5                        10700   \n",
              "127         NaN                  4.5                         9750   \n",
              "128         NaN                  4.5                         9495   \n",
              "129         NaN                  4.5                        10250   \n",
              "130         NaN                  5.5                         9250   \n",
              "\n",
              "     PG_average_fees_(in_pounds)  ... Student_satisfaction Student_enrollment  \\\n",
              "0                          23187  ...               85.50%      20,000-24,999   \n",
              "1                          19888  ...               86.50%      25,000-29,999   \n",
              "2                          15440  ...               87.90%      10,000-14,999   \n",
              "3                          29900  ...               77.90%      15,000-19,999   \n",
              "4                          16400  ...               85.80%      15,000-19,999   \n",
              "..                           ...  ...                  ...                ...   \n",
              "126                        11700  ...               76.10%      10,000-14,999   \n",
              "127                         9900  ...               77.40%      10,000-14,999   \n",
              "128                         9495  ...               76.00%        7,000-7,999   \n",
              "129                        10500  ...               74.30%        5,000-5,999   \n",
              "130                         9250  ...               66.10%        2,000-2,999   \n",
              "\n",
              "    Academic_staff Control_type Academic_Calender Campus_setting  \\\n",
              "0       over-5,000       Public        Trimesters          Urban   \n",
              "1       over-5,000       Public        Trimesters          Urban   \n",
              "2      1,000-1,499       Public         Semesters       Suburban   \n",
              "3      4,000-4,499       Public        Continuous          Urban   \n",
              "4      1,500-1,999       Public         Semesters       Suburban   \n",
              "..             ...          ...               ...            ...   \n",
              "126        900-999       Public         Semesters       Suburban   \n",
              "127        500-599       Public         Semesters          Urban   \n",
              "128        200-299       Public               NaN            NaN   \n",
              "129        200-299       Public               NaN          Urban   \n",
              "130        100-199       Public         Semesters          Urban   \n",
              "\n",
              "    Estimated_cost_of_living_per_year_(in_pounds)  Latitude  Longitude  \\\n",
              "0                                           12000   52.2054     0.1132   \n",
              "1                                           11500   51.7548    -1.2544   \n",
              "2                                           12000   56.3417    -2.7943   \n",
              "3                                           10700   51.4988    -0.1749   \n",
              "4                                            9398   52.7650    -1.2321   \n",
              "..                                            ...       ...        ...   \n",
              "126                                         10229   51.5076     0.0651   \n",
              "127                                          9415   51.8779    -0.4093   \n",
              "128                                          9415   52.0523     1.1629   \n",
              "129                                          7771   53.0526    -3.0062   \n",
              "130                                         10229   51.5017     0.0055   \n",
              "\n",
              "                    Website  \n",
              "0             www.cam.ac.uk  \n",
              "1              www.ox.ac.uk  \n",
              "2      www.st-andrews.ac.uk  \n",
              "3              www.ic.ac.uk  \n",
              "4          www.lboro.ac.uk/  \n",
              "..                      ...  \n",
              "126           www.uel.ac.uk  \n",
              "127          www.beds.ac.uk  \n",
              "128          www.ucs.ac.uk/  \n",
              "129      www.glyndwr.ac.uk/  \n",
              "130  www.ravensbourne.ac.uk  \n",
              "\n",
              "[131 rows x 21 columns]>"
            ]
          },
          "metadata": {},
          "execution_count": 10
        }
      ]
    },
    {
      "cell_type": "code",
      "source": [
        "BestuniversitiesUK.tail"
      ],
      "metadata": {
        "colab": {
          "base_uri": "https://localhost:8080/"
        },
        "id": "EZpmxTIbRjW9",
        "outputId": "5ed2a798-1471-414d-c990-6187fa49a4d9"
      },
      "execution_count": null,
      "outputs": [
        {
          "output_type": "execute_result",
          "data": {
            "text/plain": [
              "<bound method NDFrame.tail of                     University_name              Region  Founded_year  \\\n",
              "0           University of Cambridge     East of England          1209   \n",
              "1              University of Oxford  South East England          1096   \n",
              "2          University of St Andrews            Scotland          1413   \n",
              "3           Imperial College London              London          1907   \n",
              "4           Loughborough University       East Midlands          1966   \n",
              "..                              ...                 ...           ...   \n",
              "126       University of East London              London          1992   \n",
              "127      University of Bedfordshire     East of England          2006   \n",
              "128           University of Suffolk     East of England          2007   \n",
              "129      Wrexham Glyndwr University               Wales          2008   \n",
              "130  Ravensbourne University London              London          1962   \n",
              "\n",
              "                                                 Motto  UK_rank  World_rank  \\\n",
              "0                 From here, light and sacred draughts        1           4   \n",
              "1                                 The Lord is my light        2           2   \n",
              "2                                        Ever to excel        3          86   \n",
              "3    Knowledge is the adornment and safeguard of th...        4           8   \n",
              "4                     With Truth, Knowledge and Labour        5         404   \n",
              "..                                                 ...      ...         ...   \n",
              "126                    Science and fulfillment of vows      127         971   \n",
              "127                                                NaN      128        1281   \n",
              "128                              Honesty and diligence      129        4030   \n",
              "129                       Confidence through Education      130        2397   \n",
              "130                              Designed for industry      131        2759   \n",
              "\n",
              "     CWUR_score  Minimum_IELTS_score  UG_average_fees_(in_pounds)  \\\n",
              "0          94.1                  6.5                        21750   \n",
              "1          93.3                  6.5                        21770   \n",
              "2          75.8                  6.5                        17040   \n",
              "3          86.6                  6.5                        23500   \n",
              "4          72.8                  5.5                        16400   \n",
              "..          ...                  ...                          ...   \n",
              "126         NaN                  4.5                        10700   \n",
              "127         NaN                  4.5                         9750   \n",
              "128         NaN                  4.5                         9495   \n",
              "129         NaN                  4.5                        10250   \n",
              "130         NaN                  5.5                         9250   \n",
              "\n",
              "     PG_average_fees_(in_pounds)  ... Student_satisfaction Student_enrollment  \\\n",
              "0                          23187  ...               85.50%      20,000-24,999   \n",
              "1                          19888  ...               86.50%      25,000-29,999   \n",
              "2                          15440  ...               87.90%      10,000-14,999   \n",
              "3                          29900  ...               77.90%      15,000-19,999   \n",
              "4                          16400  ...               85.80%      15,000-19,999   \n",
              "..                           ...  ...                  ...                ...   \n",
              "126                        11700  ...               76.10%      10,000-14,999   \n",
              "127                         9900  ...               77.40%      10,000-14,999   \n",
              "128                         9495  ...               76.00%        7,000-7,999   \n",
              "129                        10500  ...               74.30%        5,000-5,999   \n",
              "130                         9250  ...               66.10%        2,000-2,999   \n",
              "\n",
              "    Academic_staff Control_type Academic_Calender Campus_setting  \\\n",
              "0       over-5,000       Public        Trimesters          Urban   \n",
              "1       over-5,000       Public        Trimesters          Urban   \n",
              "2      1,000-1,499       Public         Semesters       Suburban   \n",
              "3      4,000-4,499       Public        Continuous          Urban   \n",
              "4      1,500-1,999       Public         Semesters       Suburban   \n",
              "..             ...          ...               ...            ...   \n",
              "126        900-999       Public         Semesters       Suburban   \n",
              "127        500-599       Public         Semesters          Urban   \n",
              "128        200-299       Public               NaN            NaN   \n",
              "129        200-299       Public               NaN          Urban   \n",
              "130        100-199       Public         Semesters          Urban   \n",
              "\n",
              "    Estimated_cost_of_living_per_year_(in_pounds)  Latitude  Longitude  \\\n",
              "0                                           12000   52.2054     0.1132   \n",
              "1                                           11500   51.7548    -1.2544   \n",
              "2                                           12000   56.3417    -2.7943   \n",
              "3                                           10700   51.4988    -0.1749   \n",
              "4                                            9398   52.7650    -1.2321   \n",
              "..                                            ...       ...        ...   \n",
              "126                                         10229   51.5076     0.0651   \n",
              "127                                          9415   51.8779    -0.4093   \n",
              "128                                          9415   52.0523     1.1629   \n",
              "129                                          7771   53.0526    -3.0062   \n",
              "130                                         10229   51.5017     0.0055   \n",
              "\n",
              "                    Website  \n",
              "0             www.cam.ac.uk  \n",
              "1              www.ox.ac.uk  \n",
              "2      www.st-andrews.ac.uk  \n",
              "3              www.ic.ac.uk  \n",
              "4          www.lboro.ac.uk/  \n",
              "..                      ...  \n",
              "126           www.uel.ac.uk  \n",
              "127          www.beds.ac.uk  \n",
              "128          www.ucs.ac.uk/  \n",
              "129      www.glyndwr.ac.uk/  \n",
              "130  www.ravensbourne.ac.uk  \n",
              "\n",
              "[131 rows x 21 columns]>"
            ]
          },
          "metadata": {},
          "execution_count": 11
        }
      ]
    },
    {
      "cell_type": "code",
      "source": [
        "!pwd  #present working directory"
      ],
      "metadata": {
        "colab": {
          "base_uri": "https://localhost:8080/"
        },
        "id": "8O0yZgqnT4Ij",
        "outputId": "bcb2a1b7-b1e5-4f88-aebe-0d16ea0414a1"
      },
      "execution_count": null,
      "outputs": [
        {
          "output_type": "stream",
          "name": "stdout",
          "text": [
            "/gdrive/MyDrive/colab_data_ files/Exercise\n"
          ]
        }
      ]
    },
    {
      "cell_type": "code",
      "source": [
        "BestuniversitiesUK.to_csv(\"buuk.csv\" ,index= False)"
      ],
      "metadata": {
        "id": "jCYx3gF6TVem"
      },
      "execution_count": null,
      "outputs": []
    },
    {
      "cell_type": "code",
      "source": [
        "exercise = pd.read_csv(\"buuk.csv\")"
      ],
      "metadata": {
        "id": "VEUHmmhtUkFo"
      },
      "execution_count": null,
      "outputs": []
    },
    {
      "cell_type": "code",
      "source": [
        "exercise.head()"
      ],
      "metadata": {
        "colab": {
          "base_uri": "https://localhost:8080/",
          "height": 542
        },
        "id": "IWAcn4aMVqia",
        "outputId": "b6e0d533-57b8-436e-9d23-8e5e7ff100e0"
      },
      "execution_count": null,
      "outputs": [
        {
          "output_type": "execute_result",
          "data": {
            "text/plain": [
              "            University_name              Region  Founded_year  \\\n",
              "0   University of Cambridge     East of England          1209   \n",
              "1      University of Oxford  South East England          1096   \n",
              "2  University of St Andrews            Scotland          1413   \n",
              "3   Imperial College London              London          1907   \n",
              "4   Loughborough University       East Midlands          1966   \n",
              "\n",
              "                                               Motto  UK_rank  World_rank  \\\n",
              "0               From here, light and sacred draughts        1           4   \n",
              "1                               The Lord is my light        2           2   \n",
              "2                                      Ever to excel        3          86   \n",
              "3  Knowledge is the adornment and safeguard of th...        4           8   \n",
              "4                   With Truth, Knowledge and Labour        5         404   \n",
              "\n",
              "   CWUR_score  Minimum_IELTS_score  UG_average_fees_(in_pounds)  \\\n",
              "0        94.1                  6.5                        21750   \n",
              "1        93.3                  6.5                        21770   \n",
              "2        75.8                  6.5                        17040   \n",
              "3        86.6                  6.5                        23500   \n",
              "4        72.8                  5.5                        16400   \n",
              "\n",
              "   PG_average_fees_(in_pounds)  ... Student_satisfaction Student_enrollment  \\\n",
              "0                        23187  ...               85.50%      20,000-24,999   \n",
              "1                        19888  ...               86.50%      25,000-29,999   \n",
              "2                        15440  ...               87.90%      10,000-14,999   \n",
              "3                        29900  ...               77.90%      15,000-19,999   \n",
              "4                        16400  ...               85.80%      15,000-19,999   \n",
              "\n",
              "  Academic_staff Control_type Academic_Calender Campus_setting  \\\n",
              "0     over-5,000       Public        Trimesters          Urban   \n",
              "1     over-5,000       Public        Trimesters          Urban   \n",
              "2    1,000-1,499       Public         Semesters       Suburban   \n",
              "3    4,000-4,499       Public        Continuous          Urban   \n",
              "4    1,500-1,999       Public         Semesters       Suburban   \n",
              "\n",
              "  Estimated_cost_of_living_per_year_(in_pounds)  Latitude  Longitude  \\\n",
              "0                                         12000   52.2054     0.1132   \n",
              "1                                         11500   51.7548    -1.2544   \n",
              "2                                         12000   56.3417    -2.7943   \n",
              "3                                         10700   51.4988    -0.1749   \n",
              "4                                          9398   52.7650    -1.2321   \n",
              "\n",
              "                Website  \n",
              "0         www.cam.ac.uk  \n",
              "1          www.ox.ac.uk  \n",
              "2  www.st-andrews.ac.uk  \n",
              "3          www.ic.ac.uk  \n",
              "4      www.lboro.ac.uk/  \n",
              "\n",
              "[5 rows x 21 columns]"
            ],
            "text/html": [
              "\n",
              "  <div id=\"df-64cdaf0d-1c2f-498e-a2f7-3ec16a369aca\">\n",
              "    <div class=\"colab-df-container\">\n",
              "      <div>\n",
              "<style scoped>\n",
              "    .dataframe tbody tr th:only-of-type {\n",
              "        vertical-align: middle;\n",
              "    }\n",
              "\n",
              "    .dataframe tbody tr th {\n",
              "        vertical-align: top;\n",
              "    }\n",
              "\n",
              "    .dataframe thead th {\n",
              "        text-align: right;\n",
              "    }\n",
              "</style>\n",
              "<table border=\"1\" class=\"dataframe\">\n",
              "  <thead>\n",
              "    <tr style=\"text-align: right;\">\n",
              "      <th></th>\n",
              "      <th>University_name</th>\n",
              "      <th>Region</th>\n",
              "      <th>Founded_year</th>\n",
              "      <th>Motto</th>\n",
              "      <th>UK_rank</th>\n",
              "      <th>World_rank</th>\n",
              "      <th>CWUR_score</th>\n",
              "      <th>Minimum_IELTS_score</th>\n",
              "      <th>UG_average_fees_(in_pounds)</th>\n",
              "      <th>PG_average_fees_(in_pounds)</th>\n",
              "      <th>...</th>\n",
              "      <th>Student_satisfaction</th>\n",
              "      <th>Student_enrollment</th>\n",
              "      <th>Academic_staff</th>\n",
              "      <th>Control_type</th>\n",
              "      <th>Academic_Calender</th>\n",
              "      <th>Campus_setting</th>\n",
              "      <th>Estimated_cost_of_living_per_year_(in_pounds)</th>\n",
              "      <th>Latitude</th>\n",
              "      <th>Longitude</th>\n",
              "      <th>Website</th>\n",
              "    </tr>\n",
              "  </thead>\n",
              "  <tbody>\n",
              "    <tr>\n",
              "      <th>0</th>\n",
              "      <td>University of Cambridge</td>\n",
              "      <td>East of England</td>\n",
              "      <td>1209</td>\n",
              "      <td>From here, light and sacred draughts</td>\n",
              "      <td>1</td>\n",
              "      <td>4</td>\n",
              "      <td>94.1</td>\n",
              "      <td>6.5</td>\n",
              "      <td>21750</td>\n",
              "      <td>23187</td>\n",
              "      <td>...</td>\n",
              "      <td>85.50%</td>\n",
              "      <td>20,000-24,999</td>\n",
              "      <td>over-5,000</td>\n",
              "      <td>Public</td>\n",
              "      <td>Trimesters</td>\n",
              "      <td>Urban</td>\n",
              "      <td>12000</td>\n",
              "      <td>52.2054</td>\n",
              "      <td>0.1132</td>\n",
              "      <td>www.cam.ac.uk</td>\n",
              "    </tr>\n",
              "    <tr>\n",
              "      <th>1</th>\n",
              "      <td>University of Oxford</td>\n",
              "      <td>South East England</td>\n",
              "      <td>1096</td>\n",
              "      <td>The Lord is my light</td>\n",
              "      <td>2</td>\n",
              "      <td>2</td>\n",
              "      <td>93.3</td>\n",
              "      <td>6.5</td>\n",
              "      <td>21770</td>\n",
              "      <td>19888</td>\n",
              "      <td>...</td>\n",
              "      <td>86.50%</td>\n",
              "      <td>25,000-29,999</td>\n",
              "      <td>over-5,000</td>\n",
              "      <td>Public</td>\n",
              "      <td>Trimesters</td>\n",
              "      <td>Urban</td>\n",
              "      <td>11500</td>\n",
              "      <td>51.7548</td>\n",
              "      <td>-1.2544</td>\n",
              "      <td>www.ox.ac.uk</td>\n",
              "    </tr>\n",
              "    <tr>\n",
              "      <th>2</th>\n",
              "      <td>University of St Andrews</td>\n",
              "      <td>Scotland</td>\n",
              "      <td>1413</td>\n",
              "      <td>Ever to excel</td>\n",
              "      <td>3</td>\n",
              "      <td>86</td>\n",
              "      <td>75.8</td>\n",
              "      <td>6.5</td>\n",
              "      <td>17040</td>\n",
              "      <td>15440</td>\n",
              "      <td>...</td>\n",
              "      <td>87.90%</td>\n",
              "      <td>10,000-14,999</td>\n",
              "      <td>1,000-1,499</td>\n",
              "      <td>Public</td>\n",
              "      <td>Semesters</td>\n",
              "      <td>Suburban</td>\n",
              "      <td>12000</td>\n",
              "      <td>56.3417</td>\n",
              "      <td>-2.7943</td>\n",
              "      <td>www.st-andrews.ac.uk</td>\n",
              "    </tr>\n",
              "    <tr>\n",
              "      <th>3</th>\n",
              "      <td>Imperial College London</td>\n",
              "      <td>London</td>\n",
              "      <td>1907</td>\n",
              "      <td>Knowledge is the adornment and safeguard of th...</td>\n",
              "      <td>4</td>\n",
              "      <td>8</td>\n",
              "      <td>86.6</td>\n",
              "      <td>6.5</td>\n",
              "      <td>23500</td>\n",
              "      <td>29900</td>\n",
              "      <td>...</td>\n",
              "      <td>77.90%</td>\n",
              "      <td>15,000-19,999</td>\n",
              "      <td>4,000-4,499</td>\n",
              "      <td>Public</td>\n",
              "      <td>Continuous</td>\n",
              "      <td>Urban</td>\n",
              "      <td>10700</td>\n",
              "      <td>51.4988</td>\n",
              "      <td>-0.1749</td>\n",
              "      <td>www.ic.ac.uk</td>\n",
              "    </tr>\n",
              "    <tr>\n",
              "      <th>4</th>\n",
              "      <td>Loughborough University</td>\n",
              "      <td>East Midlands</td>\n",
              "      <td>1966</td>\n",
              "      <td>With Truth, Knowledge and Labour</td>\n",
              "      <td>5</td>\n",
              "      <td>404</td>\n",
              "      <td>72.8</td>\n",
              "      <td>5.5</td>\n",
              "      <td>16400</td>\n",
              "      <td>16400</td>\n",
              "      <td>...</td>\n",
              "      <td>85.80%</td>\n",
              "      <td>15,000-19,999</td>\n",
              "      <td>1,500-1,999</td>\n",
              "      <td>Public</td>\n",
              "      <td>Semesters</td>\n",
              "      <td>Suburban</td>\n",
              "      <td>9398</td>\n",
              "      <td>52.7650</td>\n",
              "      <td>-1.2321</td>\n",
              "      <td>www.lboro.ac.uk/</td>\n",
              "    </tr>\n",
              "  </tbody>\n",
              "</table>\n",
              "<p>5 rows × 21 columns</p>\n",
              "</div>\n",
              "      <button class=\"colab-df-convert\" onclick=\"convertToInteractive('df-64cdaf0d-1c2f-498e-a2f7-3ec16a369aca')\"\n",
              "              title=\"Convert this dataframe to an interactive table.\"\n",
              "              style=\"display:none;\">\n",
              "        \n",
              "  <svg xmlns=\"http://www.w3.org/2000/svg\" height=\"24px\"viewBox=\"0 0 24 24\"\n",
              "       width=\"24px\">\n",
              "    <path d=\"M0 0h24v24H0V0z\" fill=\"none\"/>\n",
              "    <path d=\"M18.56 5.44l.94 2.06.94-2.06 2.06-.94-2.06-.94-.94-2.06-.94 2.06-2.06.94zm-11 1L8.5 8.5l.94-2.06 2.06-.94-2.06-.94L8.5 2.5l-.94 2.06-2.06.94zm10 10l.94 2.06.94-2.06 2.06-.94-2.06-.94-.94-2.06-.94 2.06-2.06.94z\"/><path d=\"M17.41 7.96l-1.37-1.37c-.4-.4-.92-.59-1.43-.59-.52 0-1.04.2-1.43.59L10.3 9.45l-7.72 7.72c-.78.78-.78 2.05 0 2.83L4 21.41c.39.39.9.59 1.41.59.51 0 1.02-.2 1.41-.59l7.78-7.78 2.81-2.81c.8-.78.8-2.07 0-2.86zM5.41 20L4 18.59l7.72-7.72 1.47 1.35L5.41 20z\"/>\n",
              "  </svg>\n",
              "      </button>\n",
              "      \n",
              "  <style>\n",
              "    .colab-df-container {\n",
              "      display:flex;\n",
              "      flex-wrap:wrap;\n",
              "      gap: 12px;\n",
              "    }\n",
              "\n",
              "    .colab-df-convert {\n",
              "      background-color: #E8F0FE;\n",
              "      border: none;\n",
              "      border-radius: 50%;\n",
              "      cursor: pointer;\n",
              "      display: none;\n",
              "      fill: #1967D2;\n",
              "      height: 32px;\n",
              "      padding: 0 0 0 0;\n",
              "      width: 32px;\n",
              "    }\n",
              "\n",
              "    .colab-df-convert:hover {\n",
              "      background-color: #E2EBFA;\n",
              "      box-shadow: 0px 1px 2px rgba(60, 64, 67, 0.3), 0px 1px 3px 1px rgba(60, 64, 67, 0.15);\n",
              "      fill: #174EA6;\n",
              "    }\n",
              "\n",
              "    [theme=dark] .colab-df-convert {\n",
              "      background-color: #3B4455;\n",
              "      fill: #D2E3FC;\n",
              "    }\n",
              "\n",
              "    [theme=dark] .colab-df-convert:hover {\n",
              "      background-color: #434B5C;\n",
              "      box-shadow: 0px 1px 3px 1px rgba(0, 0, 0, 0.15);\n",
              "      filter: drop-shadow(0px 1px 2px rgba(0, 0, 0, 0.3));\n",
              "      fill: #FFFFFF;\n",
              "    }\n",
              "  </style>\n",
              "\n",
              "      <script>\n",
              "        const buttonEl =\n",
              "          document.querySelector('#df-64cdaf0d-1c2f-498e-a2f7-3ec16a369aca button.colab-df-convert');\n",
              "        buttonEl.style.display =\n",
              "          google.colab.kernel.accessAllowed ? 'block' : 'none';\n",
              "\n",
              "        async function convertToInteractive(key) {\n",
              "          const element = document.querySelector('#df-64cdaf0d-1c2f-498e-a2f7-3ec16a369aca');\n",
              "          const dataTable =\n",
              "            await google.colab.kernel.invokeFunction('convertToInteractive',\n",
              "                                                     [key], {});\n",
              "          if (!dataTable) return;\n",
              "\n",
              "          const docLinkHtml = 'Like what you see? Visit the ' +\n",
              "            '<a target=\"_blank\" href=https://colab.research.google.com/notebooks/data_table.ipynb>data table notebook</a>'\n",
              "            + ' to learn more about interactive tables.';\n",
              "          element.innerHTML = '';\n",
              "          dataTable['output_type'] = 'display_data';\n",
              "          await google.colab.output.renderOutput(dataTable, element);\n",
              "          const docLink = document.createElement('div');\n",
              "          docLink.innerHTML = docLinkHtml;\n",
              "          element.appendChild(docLink);\n",
              "        }\n",
              "      </script>\n",
              "    </div>\n",
              "  </div>\n",
              "  "
            ]
          },
          "metadata": {},
          "execution_count": 15
        }
      ]
    },
    {
      "cell_type": "code",
      "source": [
        "len(BestuniversitiesUK.columns)"
      ],
      "metadata": {
        "colab": {
          "base_uri": "https://localhost:8080/"
        },
        "id": "iOsRyQEVP6Db",
        "outputId": "460b8824-e4ef-464c-b3ad-e97e329fc8ca"
      },
      "execution_count": null,
      "outputs": [
        {
          "output_type": "execute_result",
          "data": {
            "text/plain": [
              "21"
            ]
          },
          "metadata": {},
          "execution_count": 16
        }
      ]
    },
    {
      "cell_type": "code",
      "source": [
        "BestuniversitiesUK.columns"
      ],
      "metadata": {
        "colab": {
          "base_uri": "https://localhost:8080/"
        },
        "id": "rqvM9tRCQDpJ",
        "outputId": "4d97bf2b-4327-46a6-85a5-ebba30fd73d2"
      },
      "execution_count": null,
      "outputs": [
        {
          "output_type": "execute_result",
          "data": {
            "text/plain": [
              "Index(['University_name', 'Region', 'Founded_year', 'Motto', 'UK_rank',\n",
              "       'World_rank', 'CWUR_score', 'Minimum_IELTS_score',\n",
              "       'UG_average_fees_(in_pounds)', 'PG_average_fees_(in_pounds)',\n",
              "       'International_students', 'Student_satisfaction', 'Student_enrollment',\n",
              "       'Academic_staff', 'Control_type', 'Academic_Calender', 'Campus_setting',\n",
              "       'Estimated_cost_of_living_per_year_(in_pounds)', 'Latitude',\n",
              "       'Longitude', 'Website'],\n",
              "      dtype='object')"
            ]
          },
          "metadata": {},
          "execution_count": 18
        }
      ]
    },
    {
      "cell_type": "code",
      "source": [
        "len(BestuniversitiesUK)"
      ],
      "metadata": {
        "colab": {
          "base_uri": "https://localhost:8080/"
        },
        "id": "TTD7DUFfQ7dG",
        "outputId": "3ccc12b6-ac9f-4aff-8697-35b78bb2a492"
      },
      "execution_count": null,
      "outputs": [
        {
          "output_type": "execute_result",
          "data": {
            "text/plain": [
              "131"
            ]
          },
          "metadata": {},
          "execution_count": 20
        }
      ]
    },
    {
      "cell_type": "code",
      "source": [
        " BestuniversitiesUK.groupby('Control_type')['Academic_Calender'].unique()"
      ],
      "metadata": {
        "colab": {
          "base_uri": "https://localhost:8080/"
        },
        "id": "LWYn3AnqUViF",
        "outputId": "7c357b7b-8d41-4455-ea30-16080f4238a1"
      },
      "execution_count": null,
      "outputs": [
        {
          "output_type": "execute_result",
          "data": {
            "text/plain": [
              "Control_type\n",
              "Private                                     [Semesters, nan]\n",
              "Public     [Trimesters, Semesters, Continuous, Other, nan...\n",
              "Name: Academic_Calender, dtype: object"
            ]
          },
          "metadata": {},
          "execution_count": 21
        }
      ]
    },
    {
      "cell_type": "code",
      "source": [
        "BestuniversitiesUK.shape"
      ],
      "metadata": {
        "colab": {
          "base_uri": "https://localhost:8080/"
        },
        "id": "LQZ-qZ6pT8p9",
        "outputId": "a00e0326-0eef-4f7e-d55c-3fbf335a6ba2"
      },
      "execution_count": null,
      "outputs": [
        {
          "output_type": "execute_result",
          "data": {
            "text/plain": [
              "(131, 21)"
            ]
          },
          "metadata": {},
          "execution_count": 22
        }
      ]
    },
    {
      "cell_type": "code",
      "source": [
        "BestuniversitiesUK.isna()"
      ],
      "metadata": {
        "colab": {
          "base_uri": "https://localhost:8080/",
          "height": 488
        },
        "id": "4h9SSlLxUBbt",
        "outputId": "672b3adf-07a1-49a1-c731-f7fd2b4a3b9a"
      },
      "execution_count": null,
      "outputs": [
        {
          "output_type": "execute_result",
          "data": {
            "text/plain": [
              "     University_name  Region  Founded_year  Motto  UK_rank  World_rank  \\\n",
              "0              False   False         False  False    False       False   \n",
              "1              False   False         False  False    False       False   \n",
              "2              False   False         False  False    False       False   \n",
              "3              False   False         False  False    False       False   \n",
              "4              False   False         False  False    False       False   \n",
              "..               ...     ...           ...    ...      ...         ...   \n",
              "126            False   False         False  False    False       False   \n",
              "127            False   False         False   True    False       False   \n",
              "128            False   False         False  False    False       False   \n",
              "129            False   False         False  False    False       False   \n",
              "130            False   False         False  False    False       False   \n",
              "\n",
              "     CWUR_score  Minimum_IELTS_score  UG_average_fees_(in_pounds)  \\\n",
              "0         False                False                        False   \n",
              "1         False                False                        False   \n",
              "2         False                False                        False   \n",
              "3         False                False                        False   \n",
              "4         False                False                        False   \n",
              "..          ...                  ...                          ...   \n",
              "126        True                False                        False   \n",
              "127        True                False                        False   \n",
              "128        True                False                        False   \n",
              "129        True                False                        False   \n",
              "130        True                False                        False   \n",
              "\n",
              "     PG_average_fees_(in_pounds)  ...  Student_satisfaction  \\\n",
              "0                          False  ...                 False   \n",
              "1                          False  ...                 False   \n",
              "2                          False  ...                 False   \n",
              "3                          False  ...                 False   \n",
              "4                          False  ...                 False   \n",
              "..                           ...  ...                   ...   \n",
              "126                        False  ...                 False   \n",
              "127                        False  ...                 False   \n",
              "128                        False  ...                 False   \n",
              "129                        False  ...                 False   \n",
              "130                        False  ...                 False   \n",
              "\n",
              "     Student_enrollment  Academic_staff  Control_type  Academic_Calender  \\\n",
              "0                 False           False         False              False   \n",
              "1                 False           False         False              False   \n",
              "2                 False           False         False              False   \n",
              "3                 False           False         False              False   \n",
              "4                 False           False         False              False   \n",
              "..                  ...             ...           ...                ...   \n",
              "126               False           False         False              False   \n",
              "127               False           False         False              False   \n",
              "128               False           False         False               True   \n",
              "129               False           False         False               True   \n",
              "130               False           False         False              False   \n",
              "\n",
              "     Campus_setting  Estimated_cost_of_living_per_year_(in_pounds)  Latitude  \\\n",
              "0             False                                          False     False   \n",
              "1             False                                          False     False   \n",
              "2             False                                          False     False   \n",
              "3             False                                          False     False   \n",
              "4             False                                          False     False   \n",
              "..              ...                                            ...       ...   \n",
              "126           False                                          False     False   \n",
              "127           False                                          False     False   \n",
              "128            True                                          False     False   \n",
              "129           False                                          False     False   \n",
              "130           False                                          False     False   \n",
              "\n",
              "     Longitude  Website  \n",
              "0        False    False  \n",
              "1        False    False  \n",
              "2        False    False  \n",
              "3        False    False  \n",
              "4        False    False  \n",
              "..         ...      ...  \n",
              "126      False    False  \n",
              "127      False    False  \n",
              "128      False    False  \n",
              "129      False    False  \n",
              "130      False    False  \n",
              "\n",
              "[131 rows x 21 columns]"
            ],
            "text/html": [
              "\n",
              "  <div id=\"df-daa8c1fb-031c-42ea-a0ca-9a7a65cee1ce\">\n",
              "    <div class=\"colab-df-container\">\n",
              "      <div>\n",
              "<style scoped>\n",
              "    .dataframe tbody tr th:only-of-type {\n",
              "        vertical-align: middle;\n",
              "    }\n",
              "\n",
              "    .dataframe tbody tr th {\n",
              "        vertical-align: top;\n",
              "    }\n",
              "\n",
              "    .dataframe thead th {\n",
              "        text-align: right;\n",
              "    }\n",
              "</style>\n",
              "<table border=\"1\" class=\"dataframe\">\n",
              "  <thead>\n",
              "    <tr style=\"text-align: right;\">\n",
              "      <th></th>\n",
              "      <th>University_name</th>\n",
              "      <th>Region</th>\n",
              "      <th>Founded_year</th>\n",
              "      <th>Motto</th>\n",
              "      <th>UK_rank</th>\n",
              "      <th>World_rank</th>\n",
              "      <th>CWUR_score</th>\n",
              "      <th>Minimum_IELTS_score</th>\n",
              "      <th>UG_average_fees_(in_pounds)</th>\n",
              "      <th>PG_average_fees_(in_pounds)</th>\n",
              "      <th>...</th>\n",
              "      <th>Student_satisfaction</th>\n",
              "      <th>Student_enrollment</th>\n",
              "      <th>Academic_staff</th>\n",
              "      <th>Control_type</th>\n",
              "      <th>Academic_Calender</th>\n",
              "      <th>Campus_setting</th>\n",
              "      <th>Estimated_cost_of_living_per_year_(in_pounds)</th>\n",
              "      <th>Latitude</th>\n",
              "      <th>Longitude</th>\n",
              "      <th>Website</th>\n",
              "    </tr>\n",
              "  </thead>\n",
              "  <tbody>\n",
              "    <tr>\n",
              "      <th>0</th>\n",
              "      <td>False</td>\n",
              "      <td>False</td>\n",
              "      <td>False</td>\n",
              "      <td>False</td>\n",
              "      <td>False</td>\n",
              "      <td>False</td>\n",
              "      <td>False</td>\n",
              "      <td>False</td>\n",
              "      <td>False</td>\n",
              "      <td>False</td>\n",
              "      <td>...</td>\n",
              "      <td>False</td>\n",
              "      <td>False</td>\n",
              "      <td>False</td>\n",
              "      <td>False</td>\n",
              "      <td>False</td>\n",
              "      <td>False</td>\n",
              "      <td>False</td>\n",
              "      <td>False</td>\n",
              "      <td>False</td>\n",
              "      <td>False</td>\n",
              "    </tr>\n",
              "    <tr>\n",
              "      <th>1</th>\n",
              "      <td>False</td>\n",
              "      <td>False</td>\n",
              "      <td>False</td>\n",
              "      <td>False</td>\n",
              "      <td>False</td>\n",
              "      <td>False</td>\n",
              "      <td>False</td>\n",
              "      <td>False</td>\n",
              "      <td>False</td>\n",
              "      <td>False</td>\n",
              "      <td>...</td>\n",
              "      <td>False</td>\n",
              "      <td>False</td>\n",
              "      <td>False</td>\n",
              "      <td>False</td>\n",
              "      <td>False</td>\n",
              "      <td>False</td>\n",
              "      <td>False</td>\n",
              "      <td>False</td>\n",
              "      <td>False</td>\n",
              "      <td>False</td>\n",
              "    </tr>\n",
              "    <tr>\n",
              "      <th>2</th>\n",
              "      <td>False</td>\n",
              "      <td>False</td>\n",
              "      <td>False</td>\n",
              "      <td>False</td>\n",
              "      <td>False</td>\n",
              "      <td>False</td>\n",
              "      <td>False</td>\n",
              "      <td>False</td>\n",
              "      <td>False</td>\n",
              "      <td>False</td>\n",
              "      <td>...</td>\n",
              "      <td>False</td>\n",
              "      <td>False</td>\n",
              "      <td>False</td>\n",
              "      <td>False</td>\n",
              "      <td>False</td>\n",
              "      <td>False</td>\n",
              "      <td>False</td>\n",
              "      <td>False</td>\n",
              "      <td>False</td>\n",
              "      <td>False</td>\n",
              "    </tr>\n",
              "    <tr>\n",
              "      <th>3</th>\n",
              "      <td>False</td>\n",
              "      <td>False</td>\n",
              "      <td>False</td>\n",
              "      <td>False</td>\n",
              "      <td>False</td>\n",
              "      <td>False</td>\n",
              "      <td>False</td>\n",
              "      <td>False</td>\n",
              "      <td>False</td>\n",
              "      <td>False</td>\n",
              "      <td>...</td>\n",
              "      <td>False</td>\n",
              "      <td>False</td>\n",
              "      <td>False</td>\n",
              "      <td>False</td>\n",
              "      <td>False</td>\n",
              "      <td>False</td>\n",
              "      <td>False</td>\n",
              "      <td>False</td>\n",
              "      <td>False</td>\n",
              "      <td>False</td>\n",
              "    </tr>\n",
              "    <tr>\n",
              "      <th>4</th>\n",
              "      <td>False</td>\n",
              "      <td>False</td>\n",
              "      <td>False</td>\n",
              "      <td>False</td>\n",
              "      <td>False</td>\n",
              "      <td>False</td>\n",
              "      <td>False</td>\n",
              "      <td>False</td>\n",
              "      <td>False</td>\n",
              "      <td>False</td>\n",
              "      <td>...</td>\n",
              "      <td>False</td>\n",
              "      <td>False</td>\n",
              "      <td>False</td>\n",
              "      <td>False</td>\n",
              "      <td>False</td>\n",
              "      <td>False</td>\n",
              "      <td>False</td>\n",
              "      <td>False</td>\n",
              "      <td>False</td>\n",
              "      <td>False</td>\n",
              "    </tr>\n",
              "    <tr>\n",
              "      <th>...</th>\n",
              "      <td>...</td>\n",
              "      <td>...</td>\n",
              "      <td>...</td>\n",
              "      <td>...</td>\n",
              "      <td>...</td>\n",
              "      <td>...</td>\n",
              "      <td>...</td>\n",
              "      <td>...</td>\n",
              "      <td>...</td>\n",
              "      <td>...</td>\n",
              "      <td>...</td>\n",
              "      <td>...</td>\n",
              "      <td>...</td>\n",
              "      <td>...</td>\n",
              "      <td>...</td>\n",
              "      <td>...</td>\n",
              "      <td>...</td>\n",
              "      <td>...</td>\n",
              "      <td>...</td>\n",
              "      <td>...</td>\n",
              "      <td>...</td>\n",
              "    </tr>\n",
              "    <tr>\n",
              "      <th>126</th>\n",
              "      <td>False</td>\n",
              "      <td>False</td>\n",
              "      <td>False</td>\n",
              "      <td>False</td>\n",
              "      <td>False</td>\n",
              "      <td>False</td>\n",
              "      <td>True</td>\n",
              "      <td>False</td>\n",
              "      <td>False</td>\n",
              "      <td>False</td>\n",
              "      <td>...</td>\n",
              "      <td>False</td>\n",
              "      <td>False</td>\n",
              "      <td>False</td>\n",
              "      <td>False</td>\n",
              "      <td>False</td>\n",
              "      <td>False</td>\n",
              "      <td>False</td>\n",
              "      <td>False</td>\n",
              "      <td>False</td>\n",
              "      <td>False</td>\n",
              "    </tr>\n",
              "    <tr>\n",
              "      <th>127</th>\n",
              "      <td>False</td>\n",
              "      <td>False</td>\n",
              "      <td>False</td>\n",
              "      <td>True</td>\n",
              "      <td>False</td>\n",
              "      <td>False</td>\n",
              "      <td>True</td>\n",
              "      <td>False</td>\n",
              "      <td>False</td>\n",
              "      <td>False</td>\n",
              "      <td>...</td>\n",
              "      <td>False</td>\n",
              "      <td>False</td>\n",
              "      <td>False</td>\n",
              "      <td>False</td>\n",
              "      <td>False</td>\n",
              "      <td>False</td>\n",
              "      <td>False</td>\n",
              "      <td>False</td>\n",
              "      <td>False</td>\n",
              "      <td>False</td>\n",
              "    </tr>\n",
              "    <tr>\n",
              "      <th>128</th>\n",
              "      <td>False</td>\n",
              "      <td>False</td>\n",
              "      <td>False</td>\n",
              "      <td>False</td>\n",
              "      <td>False</td>\n",
              "      <td>False</td>\n",
              "      <td>True</td>\n",
              "      <td>False</td>\n",
              "      <td>False</td>\n",
              "      <td>False</td>\n",
              "      <td>...</td>\n",
              "      <td>False</td>\n",
              "      <td>False</td>\n",
              "      <td>False</td>\n",
              "      <td>False</td>\n",
              "      <td>True</td>\n",
              "      <td>True</td>\n",
              "      <td>False</td>\n",
              "      <td>False</td>\n",
              "      <td>False</td>\n",
              "      <td>False</td>\n",
              "    </tr>\n",
              "    <tr>\n",
              "      <th>129</th>\n",
              "      <td>False</td>\n",
              "      <td>False</td>\n",
              "      <td>False</td>\n",
              "      <td>False</td>\n",
              "      <td>False</td>\n",
              "      <td>False</td>\n",
              "      <td>True</td>\n",
              "      <td>False</td>\n",
              "      <td>False</td>\n",
              "      <td>False</td>\n",
              "      <td>...</td>\n",
              "      <td>False</td>\n",
              "      <td>False</td>\n",
              "      <td>False</td>\n",
              "      <td>False</td>\n",
              "      <td>True</td>\n",
              "      <td>False</td>\n",
              "      <td>False</td>\n",
              "      <td>False</td>\n",
              "      <td>False</td>\n",
              "      <td>False</td>\n",
              "    </tr>\n",
              "    <tr>\n",
              "      <th>130</th>\n",
              "      <td>False</td>\n",
              "      <td>False</td>\n",
              "      <td>False</td>\n",
              "      <td>False</td>\n",
              "      <td>False</td>\n",
              "      <td>False</td>\n",
              "      <td>True</td>\n",
              "      <td>False</td>\n",
              "      <td>False</td>\n",
              "      <td>False</td>\n",
              "      <td>...</td>\n",
              "      <td>False</td>\n",
              "      <td>False</td>\n",
              "      <td>False</td>\n",
              "      <td>False</td>\n",
              "      <td>False</td>\n",
              "      <td>False</td>\n",
              "      <td>False</td>\n",
              "      <td>False</td>\n",
              "      <td>False</td>\n",
              "      <td>False</td>\n",
              "    </tr>\n",
              "  </tbody>\n",
              "</table>\n",
              "<p>131 rows × 21 columns</p>\n",
              "</div>\n",
              "      <button class=\"colab-df-convert\" onclick=\"convertToInteractive('df-daa8c1fb-031c-42ea-a0ca-9a7a65cee1ce')\"\n",
              "              title=\"Convert this dataframe to an interactive table.\"\n",
              "              style=\"display:none;\">\n",
              "        \n",
              "  <svg xmlns=\"http://www.w3.org/2000/svg\" height=\"24px\"viewBox=\"0 0 24 24\"\n",
              "       width=\"24px\">\n",
              "    <path d=\"M0 0h24v24H0V0z\" fill=\"none\"/>\n",
              "    <path d=\"M18.56 5.44l.94 2.06.94-2.06 2.06-.94-2.06-.94-.94-2.06-.94 2.06-2.06.94zm-11 1L8.5 8.5l.94-2.06 2.06-.94-2.06-.94L8.5 2.5l-.94 2.06-2.06.94zm10 10l.94 2.06.94-2.06 2.06-.94-2.06-.94-.94-2.06-.94 2.06-2.06.94z\"/><path d=\"M17.41 7.96l-1.37-1.37c-.4-.4-.92-.59-1.43-.59-.52 0-1.04.2-1.43.59L10.3 9.45l-7.72 7.72c-.78.78-.78 2.05 0 2.83L4 21.41c.39.39.9.59 1.41.59.51 0 1.02-.2 1.41-.59l7.78-7.78 2.81-2.81c.8-.78.8-2.07 0-2.86zM5.41 20L4 18.59l7.72-7.72 1.47 1.35L5.41 20z\"/>\n",
              "  </svg>\n",
              "      </button>\n",
              "      \n",
              "  <style>\n",
              "    .colab-df-container {\n",
              "      display:flex;\n",
              "      flex-wrap:wrap;\n",
              "      gap: 12px;\n",
              "    }\n",
              "\n",
              "    .colab-df-convert {\n",
              "      background-color: #E8F0FE;\n",
              "      border: none;\n",
              "      border-radius: 50%;\n",
              "      cursor: pointer;\n",
              "      display: none;\n",
              "      fill: #1967D2;\n",
              "      height: 32px;\n",
              "      padding: 0 0 0 0;\n",
              "      width: 32px;\n",
              "    }\n",
              "\n",
              "    .colab-df-convert:hover {\n",
              "      background-color: #E2EBFA;\n",
              "      box-shadow: 0px 1px 2px rgba(60, 64, 67, 0.3), 0px 1px 3px 1px rgba(60, 64, 67, 0.15);\n",
              "      fill: #174EA6;\n",
              "    }\n",
              "\n",
              "    [theme=dark] .colab-df-convert {\n",
              "      background-color: #3B4455;\n",
              "      fill: #D2E3FC;\n",
              "    }\n",
              "\n",
              "    [theme=dark] .colab-df-convert:hover {\n",
              "      background-color: #434B5C;\n",
              "      box-shadow: 0px 1px 3px 1px rgba(0, 0, 0, 0.15);\n",
              "      filter: drop-shadow(0px 1px 2px rgba(0, 0, 0, 0.3));\n",
              "      fill: #FFFFFF;\n",
              "    }\n",
              "  </style>\n",
              "\n",
              "      <script>\n",
              "        const buttonEl =\n",
              "          document.querySelector('#df-daa8c1fb-031c-42ea-a0ca-9a7a65cee1ce button.colab-df-convert');\n",
              "        buttonEl.style.display =\n",
              "          google.colab.kernel.accessAllowed ? 'block' : 'none';\n",
              "\n",
              "        async function convertToInteractive(key) {\n",
              "          const element = document.querySelector('#df-daa8c1fb-031c-42ea-a0ca-9a7a65cee1ce');\n",
              "          const dataTable =\n",
              "            await google.colab.kernel.invokeFunction('convertToInteractive',\n",
              "                                                     [key], {});\n",
              "          if (!dataTable) return;\n",
              "\n",
              "          const docLinkHtml = 'Like what you see? Visit the ' +\n",
              "            '<a target=\"_blank\" href=https://colab.research.google.com/notebooks/data_table.ipynb>data table notebook</a>'\n",
              "            + ' to learn more about interactive tables.';\n",
              "          element.innerHTML = '';\n",
              "          dataTable['output_type'] = 'display_data';\n",
              "          await google.colab.output.renderOutput(dataTable, element);\n",
              "          const docLink = document.createElement('div');\n",
              "          docLink.innerHTML = docLinkHtml;\n",
              "          element.appendChild(docLink);\n",
              "        }\n",
              "      </script>\n",
              "    </div>\n",
              "  </div>\n",
              "  "
            ]
          },
          "metadata": {},
          "execution_count": 23
        }
      ]
    },
    {
      "cell_type": "code",
      "source": [
        "BestuniversitiesUK.isna().sum(axis=0) #across row axis 0"
      ],
      "metadata": {
        "colab": {
          "base_uri": "https://localhost:8080/"
        },
        "id": "8dFxdcZeUSUs",
        "outputId": "8dcb9a49-88b1-410d-f90d-f052f4d0035d"
      },
      "execution_count": null,
      "outputs": [
        {
          "output_type": "execute_result",
          "data": {
            "text/plain": [
              "University_name                                   0\n",
              "Region                                            0\n",
              "Founded_year                                      0\n",
              "Motto                                            17\n",
              "UK_rank                                           0\n",
              "World_rank                                        0\n",
              "CWUR_score                                       47\n",
              "Minimum_IELTS_score                               0\n",
              "UG_average_fees_(in_pounds)                       0\n",
              "PG_average_fees_(in_pounds)                       0\n",
              "International_students                            0\n",
              "Student_satisfaction                              0\n",
              "Student_enrollment                                0\n",
              "Academic_staff                                    0\n",
              "Control_type                                      0\n",
              "Academic_Calender                                26\n",
              "Campus_setting                                   18\n",
              "Estimated_cost_of_living_per_year_(in_pounds)     0\n",
              "Latitude                                          0\n",
              "Longitude                                         0\n",
              "Website                                           0\n",
              "dtype: int64"
            ]
          },
          "metadata": {},
          "execution_count": 24
        }
      ]
    },
    {
      "cell_type": "code",
      "source": [
        "BestuniversitiesUK.isna().sum(axis=1) #across column axis 1"
      ],
      "metadata": {
        "colab": {
          "base_uri": "https://localhost:8080/"
        },
        "id": "f0aJkM5BUpj_",
        "outputId": "3270acaf-71dd-4505-a8ee-d38548512cad"
      },
      "execution_count": null,
      "outputs": [
        {
          "output_type": "execute_result",
          "data": {
            "text/plain": [
              "0      0\n",
              "1      0\n",
              "2      0\n",
              "3      0\n",
              "4      0\n",
              "      ..\n",
              "126    1\n",
              "127    2\n",
              "128    3\n",
              "129    2\n",
              "130    1\n",
              "Length: 131, dtype: int64"
            ]
          },
          "metadata": {},
          "execution_count": 25
        }
      ]
    },
    {
      "cell_type": "code",
      "source": [
        "BestuniversitiesUK.mean()"
      ],
      "metadata": {
        "colab": {
          "base_uri": "https://localhost:8080/"
        },
        "id": "MlY3rhL6kez3",
        "outputId": "6f13d8e4-5b9c-451e-dd8e-0a43691b9b56"
      },
      "execution_count": null,
      "outputs": [
        {
          "output_type": "stream",
          "name": "stderr",
          "text": [
            "/usr/local/lib/python3.7/dist-packages/ipykernel_launcher.py:1: FutureWarning: Dropping of nuisance columns in DataFrame reductions (with 'numeric_only=None') is deprecated; in a future version this will raise TypeError.  Select only valid columns before calling the reduction.\n",
            "  \"\"\"Entry point for launching an IPython kernel.\n"
          ]
        },
        {
          "output_type": "execute_result",
          "data": {
            "text/plain": [
              "Founded_year                                      1925.221374\n",
              "UK_rank                                             65.900763\n",
              "World_rank                                        1097.595420\n",
              "CWUR_score                                          73.960714\n",
              "Minimum_IELTS_score                                  4.946565\n",
              "UG_average_fees_(in_pounds)                      12537.450382\n",
              "PG_average_fees_(in_pounds)                      13099.763359\n",
              "Estimated_cost_of_living_per_year_(in_pounds)     8644.732824\n",
              "Latitude                                            52.749708\n",
              "Longitude                                           -1.673287\n",
              "dtype: float64"
            ]
          },
          "metadata": {},
          "execution_count": 26
        }
      ]
    },
    {
      "cell_type": "code",
      "source": [
        "BestuniversitiesUK.mean(skipna = True)"
      ],
      "metadata": {
        "id": "H6lpV090UyzO",
        "colab": {
          "base_uri": "https://localhost:8080/"
        },
        "outputId": "beabdf74-5677-4441-c92f-67b0960b1f9c"
      },
      "execution_count": null,
      "outputs": [
        {
          "output_type": "stream",
          "name": "stderr",
          "text": [
            "/usr/local/lib/python3.7/dist-packages/ipykernel_launcher.py:1: FutureWarning: Dropping of nuisance columns in DataFrame reductions (with 'numeric_only=None') is deprecated; in a future version this will raise TypeError.  Select only valid columns before calling the reduction.\n",
            "  \"\"\"Entry point for launching an IPython kernel.\n"
          ]
        },
        {
          "output_type": "execute_result",
          "data": {
            "text/plain": [
              "Founded_year                                      1925.221374\n",
              "UK_rank                                             65.900763\n",
              "World_rank                                        1097.595420\n",
              "CWUR_score                                          73.960714\n",
              "Minimum_IELTS_score                                  4.946565\n",
              "UG_average_fees_(in_pounds)                      12537.450382\n",
              "PG_average_fees_(in_pounds)                      13099.763359\n",
              "Estimated_cost_of_living_per_year_(in_pounds)     8644.732824\n",
              "Latitude                                            52.749708\n",
              "Longitude                                           -1.673287\n",
              "dtype: float64"
            ]
          },
          "metadata": {},
          "execution_count": 27
        }
      ]
    },
    {
      "cell_type": "code",
      "source": [
        "BestuniversitiesUK[['Latitude' ,'Longitude'  ]].head"
      ],
      "metadata": {
        "colab": {
          "base_uri": "https://localhost:8080/"
        },
        "id": "ZQvYXtgCRa0H",
        "outputId": "effec293-ee4f-4de2-f1e7-d58acec1bb65"
      },
      "execution_count": null,
      "outputs": [
        {
          "output_type": "execute_result",
          "data": {
            "text/plain": [
              "<bound method NDFrame.head of      Latitude  Longitude\n",
              "0     52.2054     0.1132\n",
              "1     51.7548    -1.2544\n",
              "2     56.3417    -2.7943\n",
              "3     51.4988    -0.1749\n",
              "4     52.7650    -1.2321\n",
              "..        ...        ...\n",
              "126   51.5076     0.0651\n",
              "127   51.8779    -0.4093\n",
              "128   52.0523     1.1629\n",
              "129   53.0526    -3.0062\n",
              "130   51.5017     0.0055\n",
              "\n",
              "[131 rows x 2 columns]>"
            ]
          },
          "metadata": {},
          "execution_count": 28
        }
      ]
    },
    {
      "cell_type": "code",
      "source": [
        "BestuniversitiesUK[[\"CWUR_score\"]].head"
      ],
      "metadata": {
        "colab": {
          "base_uri": "https://localhost:8080/"
        },
        "id": "HQ2oun8hmcnK",
        "outputId": "bd8617ee-86a3-40af-d400-9ee34722864d"
      },
      "execution_count": null,
      "outputs": [
        {
          "output_type": "execute_result",
          "data": {
            "text/plain": [
              "<bound method NDFrame.head of      CWUR_score\n",
              "0          94.1\n",
              "1          93.3\n",
              "2          75.8\n",
              "3          86.6\n",
              "4          72.8\n",
              "..          ...\n",
              "126         NaN\n",
              "127         NaN\n",
              "128         NaN\n",
              "129         NaN\n",
              "130         NaN\n",
              "\n",
              "[131 rows x 1 columns]>"
            ]
          },
          "metadata": {},
          "execution_count": 29
        }
      ]
    },
    {
      "cell_type": "code",
      "source": [
        "BestuniversitiesUK[\"CWUR_score\"]"
      ],
      "metadata": {
        "colab": {
          "base_uri": "https://localhost:8080/"
        },
        "id": "zcGScO6XxUeO",
        "outputId": "85a86791-65a4-43cf-fecf-df21bbd7edde"
      },
      "execution_count": null,
      "outputs": [
        {
          "output_type": "execute_result",
          "data": {
            "text/plain": [
              "0      94.1\n",
              "1      93.3\n",
              "2      75.8\n",
              "3      86.6\n",
              "4      72.8\n",
              "       ... \n",
              "126     NaN\n",
              "127     NaN\n",
              "128     NaN\n",
              "129     NaN\n",
              "130     NaN\n",
              "Name: CWUR_score, Length: 131, dtype: float64"
            ]
          },
          "metadata": {},
          "execution_count": 30
        }
      ]
    },
    {
      "cell_type": "code",
      "source": [
        "type(BestuniversitiesUK[[\"CWUR_score\"]])"
      ],
      "metadata": {
        "colab": {
          "base_uri": "https://localhost:8080/"
        },
        "id": "uN8Epix6tGMZ",
        "outputId": "7e811911-617c-4743-d52c-3ceb1d87b84a"
      },
      "execution_count": null,
      "outputs": [
        {
          "output_type": "execute_result",
          "data": {
            "text/plain": [
              "pandas.core.frame.DataFrame"
            ]
          },
          "metadata": {},
          "execution_count": 31
        }
      ]
    },
    {
      "cell_type": "code",
      "source": [
        "type(BestuniversitiesUK[\"CWUR_score\"])"
      ],
      "metadata": {
        "colab": {
          "base_uri": "https://localhost:8080/"
        },
        "id": "MVSjNu1HxmUf",
        "outputId": "338e1c16-defa-4626-c6cf-af3c2ca7fcee"
      },
      "execution_count": null,
      "outputs": [
        {
          "output_type": "execute_result",
          "data": {
            "text/plain": [
              "pandas.core.series.Series"
            ]
          },
          "metadata": {},
          "execution_count": 32
        }
      ]
    },
    {
      "cell_type": "code",
      "source": [
        "BestuniversitiesUK[[\"CWUR_score\"]].head()"
      ],
      "metadata": {
        "colab": {
          "base_uri": "https://localhost:8080/",
          "height": 206
        },
        "id": "WsR4wRDbwBTN",
        "outputId": "4ad3ec9d-fd9c-45e3-e0c7-54a5163eb053"
      },
      "execution_count": null,
      "outputs": [
        {
          "output_type": "execute_result",
          "data": {
            "text/plain": [
              "   CWUR_score\n",
              "0        94.1\n",
              "1        93.3\n",
              "2        75.8\n",
              "3        86.6\n",
              "4        72.8"
            ],
            "text/html": [
              "\n",
              "  <div id=\"df-75433590-f151-45a3-9482-c3ba5edef0c0\">\n",
              "    <div class=\"colab-df-container\">\n",
              "      <div>\n",
              "<style scoped>\n",
              "    .dataframe tbody tr th:only-of-type {\n",
              "        vertical-align: middle;\n",
              "    }\n",
              "\n",
              "    .dataframe tbody tr th {\n",
              "        vertical-align: top;\n",
              "    }\n",
              "\n",
              "    .dataframe thead th {\n",
              "        text-align: right;\n",
              "    }\n",
              "</style>\n",
              "<table border=\"1\" class=\"dataframe\">\n",
              "  <thead>\n",
              "    <tr style=\"text-align: right;\">\n",
              "      <th></th>\n",
              "      <th>CWUR_score</th>\n",
              "    </tr>\n",
              "  </thead>\n",
              "  <tbody>\n",
              "    <tr>\n",
              "      <th>0</th>\n",
              "      <td>94.1</td>\n",
              "    </tr>\n",
              "    <tr>\n",
              "      <th>1</th>\n",
              "      <td>93.3</td>\n",
              "    </tr>\n",
              "    <tr>\n",
              "      <th>2</th>\n",
              "      <td>75.8</td>\n",
              "    </tr>\n",
              "    <tr>\n",
              "      <th>3</th>\n",
              "      <td>86.6</td>\n",
              "    </tr>\n",
              "    <tr>\n",
              "      <th>4</th>\n",
              "      <td>72.8</td>\n",
              "    </tr>\n",
              "  </tbody>\n",
              "</table>\n",
              "</div>\n",
              "      <button class=\"colab-df-convert\" onclick=\"convertToInteractive('df-75433590-f151-45a3-9482-c3ba5edef0c0')\"\n",
              "              title=\"Convert this dataframe to an interactive table.\"\n",
              "              style=\"display:none;\">\n",
              "        \n",
              "  <svg xmlns=\"http://www.w3.org/2000/svg\" height=\"24px\"viewBox=\"0 0 24 24\"\n",
              "       width=\"24px\">\n",
              "    <path d=\"M0 0h24v24H0V0z\" fill=\"none\"/>\n",
              "    <path d=\"M18.56 5.44l.94 2.06.94-2.06 2.06-.94-2.06-.94-.94-2.06-.94 2.06-2.06.94zm-11 1L8.5 8.5l.94-2.06 2.06-.94-2.06-.94L8.5 2.5l-.94 2.06-2.06.94zm10 10l.94 2.06.94-2.06 2.06-.94-2.06-.94-.94-2.06-.94 2.06-2.06.94z\"/><path d=\"M17.41 7.96l-1.37-1.37c-.4-.4-.92-.59-1.43-.59-.52 0-1.04.2-1.43.59L10.3 9.45l-7.72 7.72c-.78.78-.78 2.05 0 2.83L4 21.41c.39.39.9.59 1.41.59.51 0 1.02-.2 1.41-.59l7.78-7.78 2.81-2.81c.8-.78.8-2.07 0-2.86zM5.41 20L4 18.59l7.72-7.72 1.47 1.35L5.41 20z\"/>\n",
              "  </svg>\n",
              "      </button>\n",
              "      \n",
              "  <style>\n",
              "    .colab-df-container {\n",
              "      display:flex;\n",
              "      flex-wrap:wrap;\n",
              "      gap: 12px;\n",
              "    }\n",
              "\n",
              "    .colab-df-convert {\n",
              "      background-color: #E8F0FE;\n",
              "      border: none;\n",
              "      border-radius: 50%;\n",
              "      cursor: pointer;\n",
              "      display: none;\n",
              "      fill: #1967D2;\n",
              "      height: 32px;\n",
              "      padding: 0 0 0 0;\n",
              "      width: 32px;\n",
              "    }\n",
              "\n",
              "    .colab-df-convert:hover {\n",
              "      background-color: #E2EBFA;\n",
              "      box-shadow: 0px 1px 2px rgba(60, 64, 67, 0.3), 0px 1px 3px 1px rgba(60, 64, 67, 0.15);\n",
              "      fill: #174EA6;\n",
              "    }\n",
              "\n",
              "    [theme=dark] .colab-df-convert {\n",
              "      background-color: #3B4455;\n",
              "      fill: #D2E3FC;\n",
              "    }\n",
              "\n",
              "    [theme=dark] .colab-df-convert:hover {\n",
              "      background-color: #434B5C;\n",
              "      box-shadow: 0px 1px 3px 1px rgba(0, 0, 0, 0.15);\n",
              "      filter: drop-shadow(0px 1px 2px rgba(0, 0, 0, 0.3));\n",
              "      fill: #FFFFFF;\n",
              "    }\n",
              "  </style>\n",
              "\n",
              "      <script>\n",
              "        const buttonEl =\n",
              "          document.querySelector('#df-75433590-f151-45a3-9482-c3ba5edef0c0 button.colab-df-convert');\n",
              "        buttonEl.style.display =\n",
              "          google.colab.kernel.accessAllowed ? 'block' : 'none';\n",
              "\n",
              "        async function convertToInteractive(key) {\n",
              "          const element = document.querySelector('#df-75433590-f151-45a3-9482-c3ba5edef0c0');\n",
              "          const dataTable =\n",
              "            await google.colab.kernel.invokeFunction('convertToInteractive',\n",
              "                                                     [key], {});\n",
              "          if (!dataTable) return;\n",
              "\n",
              "          const docLinkHtml = 'Like what you see? Visit the ' +\n",
              "            '<a target=\"_blank\" href=https://colab.research.google.com/notebooks/data_table.ipynb>data table notebook</a>'\n",
              "            + ' to learn more about interactive tables.';\n",
              "          element.innerHTML = '';\n",
              "          dataTable['output_type'] = 'display_data';\n",
              "          await google.colab.output.renderOutput(dataTable, element);\n",
              "          const docLink = document.createElement('div');\n",
              "          docLink.innerHTML = docLinkHtml;\n",
              "          element.appendChild(docLink);\n",
              "        }\n",
              "      </script>\n",
              "    </div>\n",
              "  </div>\n",
              "  "
            ]
          },
          "metadata": {},
          "execution_count": 33
        }
      ]
    },
    {
      "cell_type": "code",
      "source": [
        "BestuniversitiesUK[\"CWUR_score\"].describe()"
      ],
      "metadata": {
        "colab": {
          "base_uri": "https://localhost:8080/"
        },
        "id": "LDrFutGIywni",
        "outputId": "b09e450a-74d9-4ea6-de6e-9cda31342f81"
      },
      "execution_count": null,
      "outputs": [
        {
          "output_type": "execute_result",
          "data": {
            "text/plain": [
              "count    84.000000\n",
              "mean     73.960714\n",
              "std       6.351473\n",
              "min      65.900000\n",
              "25%      68.675000\n",
              "50%      72.600000\n",
              "75%      77.700000\n",
              "max      94.100000\n",
              "Name: CWUR_score, dtype: float64"
            ]
          },
          "metadata": {},
          "execution_count": 34
        }
      ]
    },
    {
      "cell_type": "code",
      "source": [
        "BestuniversitiesUK[\"World_rank\"]"
      ],
      "metadata": {
        "colab": {
          "base_uri": "https://localhost:8080/"
        },
        "id": "Hvxe2AKDz47u",
        "outputId": "0021b20e-bb26-4d54-d260-4bf7a009ee3a"
      },
      "execution_count": null,
      "outputs": [
        {
          "output_type": "execute_result",
          "data": {
            "text/plain": [
              "0         4\n",
              "1         2\n",
              "2        86\n",
              "3         8\n",
              "4       404\n",
              "       ... \n",
              "126     971\n",
              "127    1281\n",
              "128    4030\n",
              "129    2397\n",
              "130    2759\n",
              "Name: World_rank, Length: 131, dtype: int64"
            ]
          },
          "metadata": {},
          "execution_count": 36
        }
      ]
    },
    {
      "cell_type": "code",
      "source": [
        "BestuniversitiesUK[\"World_rank\"].head"
      ],
      "metadata": {
        "colab": {
          "base_uri": "https://localhost:8080/"
        },
        "id": "CmGb9nmM0Tem",
        "outputId": "8f01fcd5-9926-4094-a2b6-6fa4113fc1bd"
      },
      "execution_count": null,
      "outputs": [
        {
          "output_type": "execute_result",
          "data": {
            "text/plain": [
              "<bound method NDFrame.head of 0         4\n",
              "1         2\n",
              "2        86\n",
              "3         8\n",
              "4       404\n",
              "       ... \n",
              "126     971\n",
              "127    1281\n",
              "128    4030\n",
              "129    2397\n",
              "130    2759\n",
              "Name: World_rank, Length: 131, dtype: int64>"
            ]
          },
          "metadata": {},
          "execution_count": 37
        }
      ]
    },
    {
      "cell_type": "code",
      "source": [
        "BestuniversitiesUK[[\"World_rank\"]]"
      ],
      "metadata": {
        "colab": {
          "base_uri": "https://localhost:8080/",
          "height": 424
        },
        "id": "ZmzW-f5K0W1h",
        "outputId": "6e47c88d-11cb-45b1-d678-64d3dfe2c84c"
      },
      "execution_count": null,
      "outputs": [
        {
          "output_type": "execute_result",
          "data": {
            "text/plain": [
              "     World_rank\n",
              "0             4\n",
              "1             2\n",
              "2            86\n",
              "3             8\n",
              "4           404\n",
              "..          ...\n",
              "126         971\n",
              "127        1281\n",
              "128        4030\n",
              "129        2397\n",
              "130        2759\n",
              "\n",
              "[131 rows x 1 columns]"
            ],
            "text/html": [
              "\n",
              "  <div id=\"df-1bc7c876-b87a-492a-a14e-8fe30bea6353\">\n",
              "    <div class=\"colab-df-container\">\n",
              "      <div>\n",
              "<style scoped>\n",
              "    .dataframe tbody tr th:only-of-type {\n",
              "        vertical-align: middle;\n",
              "    }\n",
              "\n",
              "    .dataframe tbody tr th {\n",
              "        vertical-align: top;\n",
              "    }\n",
              "\n",
              "    .dataframe thead th {\n",
              "        text-align: right;\n",
              "    }\n",
              "</style>\n",
              "<table border=\"1\" class=\"dataframe\">\n",
              "  <thead>\n",
              "    <tr style=\"text-align: right;\">\n",
              "      <th></th>\n",
              "      <th>World_rank</th>\n",
              "    </tr>\n",
              "  </thead>\n",
              "  <tbody>\n",
              "    <tr>\n",
              "      <th>0</th>\n",
              "      <td>4</td>\n",
              "    </tr>\n",
              "    <tr>\n",
              "      <th>1</th>\n",
              "      <td>2</td>\n",
              "    </tr>\n",
              "    <tr>\n",
              "      <th>2</th>\n",
              "      <td>86</td>\n",
              "    </tr>\n",
              "    <tr>\n",
              "      <th>3</th>\n",
              "      <td>8</td>\n",
              "    </tr>\n",
              "    <tr>\n",
              "      <th>4</th>\n",
              "      <td>404</td>\n",
              "    </tr>\n",
              "    <tr>\n",
              "      <th>...</th>\n",
              "      <td>...</td>\n",
              "    </tr>\n",
              "    <tr>\n",
              "      <th>126</th>\n",
              "      <td>971</td>\n",
              "    </tr>\n",
              "    <tr>\n",
              "      <th>127</th>\n",
              "      <td>1281</td>\n",
              "    </tr>\n",
              "    <tr>\n",
              "      <th>128</th>\n",
              "      <td>4030</td>\n",
              "    </tr>\n",
              "    <tr>\n",
              "      <th>129</th>\n",
              "      <td>2397</td>\n",
              "    </tr>\n",
              "    <tr>\n",
              "      <th>130</th>\n",
              "      <td>2759</td>\n",
              "    </tr>\n",
              "  </tbody>\n",
              "</table>\n",
              "<p>131 rows × 1 columns</p>\n",
              "</div>\n",
              "      <button class=\"colab-df-convert\" onclick=\"convertToInteractive('df-1bc7c876-b87a-492a-a14e-8fe30bea6353')\"\n",
              "              title=\"Convert this dataframe to an interactive table.\"\n",
              "              style=\"display:none;\">\n",
              "        \n",
              "  <svg xmlns=\"http://www.w3.org/2000/svg\" height=\"24px\"viewBox=\"0 0 24 24\"\n",
              "       width=\"24px\">\n",
              "    <path d=\"M0 0h24v24H0V0z\" fill=\"none\"/>\n",
              "    <path d=\"M18.56 5.44l.94 2.06.94-2.06 2.06-.94-2.06-.94-.94-2.06-.94 2.06-2.06.94zm-11 1L8.5 8.5l.94-2.06 2.06-.94-2.06-.94L8.5 2.5l-.94 2.06-2.06.94zm10 10l.94 2.06.94-2.06 2.06-.94-2.06-.94-.94-2.06-.94 2.06-2.06.94z\"/><path d=\"M17.41 7.96l-1.37-1.37c-.4-.4-.92-.59-1.43-.59-.52 0-1.04.2-1.43.59L10.3 9.45l-7.72 7.72c-.78.78-.78 2.05 0 2.83L4 21.41c.39.39.9.59 1.41.59.51 0 1.02-.2 1.41-.59l7.78-7.78 2.81-2.81c.8-.78.8-2.07 0-2.86zM5.41 20L4 18.59l7.72-7.72 1.47 1.35L5.41 20z\"/>\n",
              "  </svg>\n",
              "      </button>\n",
              "      \n",
              "  <style>\n",
              "    .colab-df-container {\n",
              "      display:flex;\n",
              "      flex-wrap:wrap;\n",
              "      gap: 12px;\n",
              "    }\n",
              "\n",
              "    .colab-df-convert {\n",
              "      background-color: #E8F0FE;\n",
              "      border: none;\n",
              "      border-radius: 50%;\n",
              "      cursor: pointer;\n",
              "      display: none;\n",
              "      fill: #1967D2;\n",
              "      height: 32px;\n",
              "      padding: 0 0 0 0;\n",
              "      width: 32px;\n",
              "    }\n",
              "\n",
              "    .colab-df-convert:hover {\n",
              "      background-color: #E2EBFA;\n",
              "      box-shadow: 0px 1px 2px rgba(60, 64, 67, 0.3), 0px 1px 3px 1px rgba(60, 64, 67, 0.15);\n",
              "      fill: #174EA6;\n",
              "    }\n",
              "\n",
              "    [theme=dark] .colab-df-convert {\n",
              "      background-color: #3B4455;\n",
              "      fill: #D2E3FC;\n",
              "    }\n",
              "\n",
              "    [theme=dark] .colab-df-convert:hover {\n",
              "      background-color: #434B5C;\n",
              "      box-shadow: 0px 1px 3px 1px rgba(0, 0, 0, 0.15);\n",
              "      filter: drop-shadow(0px 1px 2px rgba(0, 0, 0, 0.3));\n",
              "      fill: #FFFFFF;\n",
              "    }\n",
              "  </style>\n",
              "\n",
              "      <script>\n",
              "        const buttonEl =\n",
              "          document.querySelector('#df-1bc7c876-b87a-492a-a14e-8fe30bea6353 button.colab-df-convert');\n",
              "        buttonEl.style.display =\n",
              "          google.colab.kernel.accessAllowed ? 'block' : 'none';\n",
              "\n",
              "        async function convertToInteractive(key) {\n",
              "          const element = document.querySelector('#df-1bc7c876-b87a-492a-a14e-8fe30bea6353');\n",
              "          const dataTable =\n",
              "            await google.colab.kernel.invokeFunction('convertToInteractive',\n",
              "                                                     [key], {});\n",
              "          if (!dataTable) return;\n",
              "\n",
              "          const docLinkHtml = 'Like what you see? Visit the ' +\n",
              "            '<a target=\"_blank\" href=https://colab.research.google.com/notebooks/data_table.ipynb>data table notebook</a>'\n",
              "            + ' to learn more about interactive tables.';\n",
              "          element.innerHTML = '';\n",
              "          dataTable['output_type'] = 'display_data';\n",
              "          await google.colab.output.renderOutput(dataTable, element);\n",
              "          const docLink = document.createElement('div');\n",
              "          docLink.innerHTML = docLinkHtml;\n",
              "          element.appendChild(docLink);\n",
              "        }\n",
              "      </script>\n",
              "    </div>\n",
              "  </div>\n",
              "  "
            ]
          },
          "metadata": {},
          "execution_count": 38
        }
      ]
    },
    {
      "cell_type": "code",
      "source": [
        "type(BestuniversitiesUK[\"World_rank\"])"
      ],
      "metadata": {
        "colab": {
          "base_uri": "https://localhost:8080/"
        },
        "id": "tlCFZLOPyvC9",
        "outputId": "19242e3e-3f6c-4a41-bcfc-7dab696a04ce"
      },
      "execution_count": null,
      "outputs": [
        {
          "output_type": "execute_result",
          "data": {
            "text/plain": [
              "pandas.core.series.Series"
            ]
          },
          "metadata": {},
          "execution_count": 39
        }
      ]
    },
    {
      "cell_type": "code",
      "source": [
        "type(BestuniversitiesUK[[\"World_rank\"]])"
      ],
      "metadata": {
        "colab": {
          "base_uri": "https://localhost:8080/"
        },
        "id": "JdIJc-Dmyuom",
        "outputId": "4e6264ff-a09a-4d5a-e923-e29fad1b4305"
      },
      "execution_count": null,
      "outputs": [
        {
          "output_type": "execute_result",
          "data": {
            "text/plain": [
              "pandas.core.frame.DataFrame"
            ]
          },
          "metadata": {},
          "execution_count": 40
        }
      ]
    },
    {
      "cell_type": "code",
      "source": [
        "BestuniversitiesUK[[\"World_rank\"]].fillna(value= BestuniversitiesUK[\"World_rank\"].mean())"
      ],
      "metadata": {
        "colab": {
          "base_uri": "https://localhost:8080/",
          "height": 424
        },
        "id": "O6FFXe1Q09EU",
        "outputId": "b6ada5aa-0e87-4eb2-9906-eed0516b0b93"
      },
      "execution_count": null,
      "outputs": [
        {
          "output_type": "execute_result",
          "data": {
            "text/plain": [
              "     World_rank\n",
              "0             4\n",
              "1             2\n",
              "2            86\n",
              "3             8\n",
              "4           404\n",
              "..          ...\n",
              "126         971\n",
              "127        1281\n",
              "128        4030\n",
              "129        2397\n",
              "130        2759\n",
              "\n",
              "[131 rows x 1 columns]"
            ],
            "text/html": [
              "\n",
              "  <div id=\"df-2bc609a7-0be2-4e80-9cd5-cb0fa5dfb8f5\">\n",
              "    <div class=\"colab-df-container\">\n",
              "      <div>\n",
              "<style scoped>\n",
              "    .dataframe tbody tr th:only-of-type {\n",
              "        vertical-align: middle;\n",
              "    }\n",
              "\n",
              "    .dataframe tbody tr th {\n",
              "        vertical-align: top;\n",
              "    }\n",
              "\n",
              "    .dataframe thead th {\n",
              "        text-align: right;\n",
              "    }\n",
              "</style>\n",
              "<table border=\"1\" class=\"dataframe\">\n",
              "  <thead>\n",
              "    <tr style=\"text-align: right;\">\n",
              "      <th></th>\n",
              "      <th>World_rank</th>\n",
              "    </tr>\n",
              "  </thead>\n",
              "  <tbody>\n",
              "    <tr>\n",
              "      <th>0</th>\n",
              "      <td>4</td>\n",
              "    </tr>\n",
              "    <tr>\n",
              "      <th>1</th>\n",
              "      <td>2</td>\n",
              "    </tr>\n",
              "    <tr>\n",
              "      <th>2</th>\n",
              "      <td>86</td>\n",
              "    </tr>\n",
              "    <tr>\n",
              "      <th>3</th>\n",
              "      <td>8</td>\n",
              "    </tr>\n",
              "    <tr>\n",
              "      <th>4</th>\n",
              "      <td>404</td>\n",
              "    </tr>\n",
              "    <tr>\n",
              "      <th>...</th>\n",
              "      <td>...</td>\n",
              "    </tr>\n",
              "    <tr>\n",
              "      <th>126</th>\n",
              "      <td>971</td>\n",
              "    </tr>\n",
              "    <tr>\n",
              "      <th>127</th>\n",
              "      <td>1281</td>\n",
              "    </tr>\n",
              "    <tr>\n",
              "      <th>128</th>\n",
              "      <td>4030</td>\n",
              "    </tr>\n",
              "    <tr>\n",
              "      <th>129</th>\n",
              "      <td>2397</td>\n",
              "    </tr>\n",
              "    <tr>\n",
              "      <th>130</th>\n",
              "      <td>2759</td>\n",
              "    </tr>\n",
              "  </tbody>\n",
              "</table>\n",
              "<p>131 rows × 1 columns</p>\n",
              "</div>\n",
              "      <button class=\"colab-df-convert\" onclick=\"convertToInteractive('df-2bc609a7-0be2-4e80-9cd5-cb0fa5dfb8f5')\"\n",
              "              title=\"Convert this dataframe to an interactive table.\"\n",
              "              style=\"display:none;\">\n",
              "        \n",
              "  <svg xmlns=\"http://www.w3.org/2000/svg\" height=\"24px\"viewBox=\"0 0 24 24\"\n",
              "       width=\"24px\">\n",
              "    <path d=\"M0 0h24v24H0V0z\" fill=\"none\"/>\n",
              "    <path d=\"M18.56 5.44l.94 2.06.94-2.06 2.06-.94-2.06-.94-.94-2.06-.94 2.06-2.06.94zm-11 1L8.5 8.5l.94-2.06 2.06-.94-2.06-.94L8.5 2.5l-.94 2.06-2.06.94zm10 10l.94 2.06.94-2.06 2.06-.94-2.06-.94-.94-2.06-.94 2.06-2.06.94z\"/><path d=\"M17.41 7.96l-1.37-1.37c-.4-.4-.92-.59-1.43-.59-.52 0-1.04.2-1.43.59L10.3 9.45l-7.72 7.72c-.78.78-.78 2.05 0 2.83L4 21.41c.39.39.9.59 1.41.59.51 0 1.02-.2 1.41-.59l7.78-7.78 2.81-2.81c.8-.78.8-2.07 0-2.86zM5.41 20L4 18.59l7.72-7.72 1.47 1.35L5.41 20z\"/>\n",
              "  </svg>\n",
              "      </button>\n",
              "      \n",
              "  <style>\n",
              "    .colab-df-container {\n",
              "      display:flex;\n",
              "      flex-wrap:wrap;\n",
              "      gap: 12px;\n",
              "    }\n",
              "\n",
              "    .colab-df-convert {\n",
              "      background-color: #E8F0FE;\n",
              "      border: none;\n",
              "      border-radius: 50%;\n",
              "      cursor: pointer;\n",
              "      display: none;\n",
              "      fill: #1967D2;\n",
              "      height: 32px;\n",
              "      padding: 0 0 0 0;\n",
              "      width: 32px;\n",
              "    }\n",
              "\n",
              "    .colab-df-convert:hover {\n",
              "      background-color: #E2EBFA;\n",
              "      box-shadow: 0px 1px 2px rgba(60, 64, 67, 0.3), 0px 1px 3px 1px rgba(60, 64, 67, 0.15);\n",
              "      fill: #174EA6;\n",
              "    }\n",
              "\n",
              "    [theme=dark] .colab-df-convert {\n",
              "      background-color: #3B4455;\n",
              "      fill: #D2E3FC;\n",
              "    }\n",
              "\n",
              "    [theme=dark] .colab-df-convert:hover {\n",
              "      background-color: #434B5C;\n",
              "      box-shadow: 0px 1px 3px 1px rgba(0, 0, 0, 0.15);\n",
              "      filter: drop-shadow(0px 1px 2px rgba(0, 0, 0, 0.3));\n",
              "      fill: #FFFFFF;\n",
              "    }\n",
              "  </style>\n",
              "\n",
              "      <script>\n",
              "        const buttonEl =\n",
              "          document.querySelector('#df-2bc609a7-0be2-4e80-9cd5-cb0fa5dfb8f5 button.colab-df-convert');\n",
              "        buttonEl.style.display =\n",
              "          google.colab.kernel.accessAllowed ? 'block' : 'none';\n",
              "\n",
              "        async function convertToInteractive(key) {\n",
              "          const element = document.querySelector('#df-2bc609a7-0be2-4e80-9cd5-cb0fa5dfb8f5');\n",
              "          const dataTable =\n",
              "            await google.colab.kernel.invokeFunction('convertToInteractive',\n",
              "                                                     [key], {});\n",
              "          if (!dataTable) return;\n",
              "\n",
              "          const docLinkHtml = 'Like what you see? Visit the ' +\n",
              "            '<a target=\"_blank\" href=https://colab.research.google.com/notebooks/data_table.ipynb>data table notebook</a>'\n",
              "            + ' to learn more about interactive tables.';\n",
              "          element.innerHTML = '';\n",
              "          dataTable['output_type'] = 'display_data';\n",
              "          await google.colab.output.renderOutput(dataTable, element);\n",
              "          const docLink = document.createElement('div');\n",
              "          docLink.innerHTML = docLinkHtml;\n",
              "          element.appendChild(docLink);\n",
              "        }\n",
              "      </script>\n",
              "    </div>\n",
              "  </div>\n",
              "  "
            ]
          },
          "metadata": {},
          "execution_count": 41
        }
      ]
    },
    {
      "cell_type": "code",
      "source": [
        "BestuniversitiesUK.World_rank"
      ],
      "metadata": {
        "colab": {
          "base_uri": "https://localhost:8080/"
        },
        "id": "0PC7OSab28B5",
        "outputId": "28d47f83-b830-4192-a2c9-fac2b75e51c2"
      },
      "execution_count": null,
      "outputs": [
        {
          "output_type": "execute_result",
          "data": {
            "text/plain": [
              "0         4\n",
              "1         2\n",
              "2        86\n",
              "3         8\n",
              "4       404\n",
              "       ... \n",
              "126     971\n",
              "127    1281\n",
              "128    4030\n",
              "129    2397\n",
              "130    2759\n",
              "Name: World_rank, Length: 131, dtype: int64"
            ]
          },
          "metadata": {},
          "execution_count": 42
        }
      ]
    },
    {
      "cell_type": "code",
      "source": [
        "BestuniversitiesUK[[\"World_rank\"]].fillna(value= np.mean(BestuniversitiesUK.World_rank))"
      ],
      "metadata": {
        "colab": {
          "base_uri": "https://localhost:8080/",
          "height": 424
        },
        "id": "gsTJ7ft02woR",
        "outputId": "9bc18556-32e7-4087-b713-e3c93588237f"
      },
      "execution_count": null,
      "outputs": [
        {
          "output_type": "execute_result",
          "data": {
            "text/plain": [
              "     World_rank\n",
              "0             4\n",
              "1             2\n",
              "2            86\n",
              "3             8\n",
              "4           404\n",
              "..          ...\n",
              "126         971\n",
              "127        1281\n",
              "128        4030\n",
              "129        2397\n",
              "130        2759\n",
              "\n",
              "[131 rows x 1 columns]"
            ],
            "text/html": [
              "\n",
              "  <div id=\"df-c3e7f23b-e5ff-4995-98ce-99974364c145\">\n",
              "    <div class=\"colab-df-container\">\n",
              "      <div>\n",
              "<style scoped>\n",
              "    .dataframe tbody tr th:only-of-type {\n",
              "        vertical-align: middle;\n",
              "    }\n",
              "\n",
              "    .dataframe tbody tr th {\n",
              "        vertical-align: top;\n",
              "    }\n",
              "\n",
              "    .dataframe thead th {\n",
              "        text-align: right;\n",
              "    }\n",
              "</style>\n",
              "<table border=\"1\" class=\"dataframe\">\n",
              "  <thead>\n",
              "    <tr style=\"text-align: right;\">\n",
              "      <th></th>\n",
              "      <th>World_rank</th>\n",
              "    </tr>\n",
              "  </thead>\n",
              "  <tbody>\n",
              "    <tr>\n",
              "      <th>0</th>\n",
              "      <td>4</td>\n",
              "    </tr>\n",
              "    <tr>\n",
              "      <th>1</th>\n",
              "      <td>2</td>\n",
              "    </tr>\n",
              "    <tr>\n",
              "      <th>2</th>\n",
              "      <td>86</td>\n",
              "    </tr>\n",
              "    <tr>\n",
              "      <th>3</th>\n",
              "      <td>8</td>\n",
              "    </tr>\n",
              "    <tr>\n",
              "      <th>4</th>\n",
              "      <td>404</td>\n",
              "    </tr>\n",
              "    <tr>\n",
              "      <th>...</th>\n",
              "      <td>...</td>\n",
              "    </tr>\n",
              "    <tr>\n",
              "      <th>126</th>\n",
              "      <td>971</td>\n",
              "    </tr>\n",
              "    <tr>\n",
              "      <th>127</th>\n",
              "      <td>1281</td>\n",
              "    </tr>\n",
              "    <tr>\n",
              "      <th>128</th>\n",
              "      <td>4030</td>\n",
              "    </tr>\n",
              "    <tr>\n",
              "      <th>129</th>\n",
              "      <td>2397</td>\n",
              "    </tr>\n",
              "    <tr>\n",
              "      <th>130</th>\n",
              "      <td>2759</td>\n",
              "    </tr>\n",
              "  </tbody>\n",
              "</table>\n",
              "<p>131 rows × 1 columns</p>\n",
              "</div>\n",
              "      <button class=\"colab-df-convert\" onclick=\"convertToInteractive('df-c3e7f23b-e5ff-4995-98ce-99974364c145')\"\n",
              "              title=\"Convert this dataframe to an interactive table.\"\n",
              "              style=\"display:none;\">\n",
              "        \n",
              "  <svg xmlns=\"http://www.w3.org/2000/svg\" height=\"24px\"viewBox=\"0 0 24 24\"\n",
              "       width=\"24px\">\n",
              "    <path d=\"M0 0h24v24H0V0z\" fill=\"none\"/>\n",
              "    <path d=\"M18.56 5.44l.94 2.06.94-2.06 2.06-.94-2.06-.94-.94-2.06-.94 2.06-2.06.94zm-11 1L8.5 8.5l.94-2.06 2.06-.94-2.06-.94L8.5 2.5l-.94 2.06-2.06.94zm10 10l.94 2.06.94-2.06 2.06-.94-2.06-.94-.94-2.06-.94 2.06-2.06.94z\"/><path d=\"M17.41 7.96l-1.37-1.37c-.4-.4-.92-.59-1.43-.59-.52 0-1.04.2-1.43.59L10.3 9.45l-7.72 7.72c-.78.78-.78 2.05 0 2.83L4 21.41c.39.39.9.59 1.41.59.51 0 1.02-.2 1.41-.59l7.78-7.78 2.81-2.81c.8-.78.8-2.07 0-2.86zM5.41 20L4 18.59l7.72-7.72 1.47 1.35L5.41 20z\"/>\n",
              "  </svg>\n",
              "      </button>\n",
              "      \n",
              "  <style>\n",
              "    .colab-df-container {\n",
              "      display:flex;\n",
              "      flex-wrap:wrap;\n",
              "      gap: 12px;\n",
              "    }\n",
              "\n",
              "    .colab-df-convert {\n",
              "      background-color: #E8F0FE;\n",
              "      border: none;\n",
              "      border-radius: 50%;\n",
              "      cursor: pointer;\n",
              "      display: none;\n",
              "      fill: #1967D2;\n",
              "      height: 32px;\n",
              "      padding: 0 0 0 0;\n",
              "      width: 32px;\n",
              "    }\n",
              "\n",
              "    .colab-df-convert:hover {\n",
              "      background-color: #E2EBFA;\n",
              "      box-shadow: 0px 1px 2px rgba(60, 64, 67, 0.3), 0px 1px 3px 1px rgba(60, 64, 67, 0.15);\n",
              "      fill: #174EA6;\n",
              "    }\n",
              "\n",
              "    [theme=dark] .colab-df-convert {\n",
              "      background-color: #3B4455;\n",
              "      fill: #D2E3FC;\n",
              "    }\n",
              "\n",
              "    [theme=dark] .colab-df-convert:hover {\n",
              "      background-color: #434B5C;\n",
              "      box-shadow: 0px 1px 3px 1px rgba(0, 0, 0, 0.15);\n",
              "      filter: drop-shadow(0px 1px 2px rgba(0, 0, 0, 0.3));\n",
              "      fill: #FFFFFF;\n",
              "    }\n",
              "  </style>\n",
              "\n",
              "      <script>\n",
              "        const buttonEl =\n",
              "          document.querySelector('#df-c3e7f23b-e5ff-4995-98ce-99974364c145 button.colab-df-convert');\n",
              "        buttonEl.style.display =\n",
              "          google.colab.kernel.accessAllowed ? 'block' : 'none';\n",
              "\n",
              "        async function convertToInteractive(key) {\n",
              "          const element = document.querySelector('#df-c3e7f23b-e5ff-4995-98ce-99974364c145');\n",
              "          const dataTable =\n",
              "            await google.colab.kernel.invokeFunction('convertToInteractive',\n",
              "                                                     [key], {});\n",
              "          if (!dataTable) return;\n",
              "\n",
              "          const docLinkHtml = 'Like what you see? Visit the ' +\n",
              "            '<a target=\"_blank\" href=https://colab.research.google.com/notebooks/data_table.ipynb>data table notebook</a>'\n",
              "            + ' to learn more about interactive tables.';\n",
              "          element.innerHTML = '';\n",
              "          dataTable['output_type'] = 'display_data';\n",
              "          await google.colab.output.renderOutput(dataTable, element);\n",
              "          const docLink = document.createElement('div');\n",
              "          docLink.innerHTML = docLinkHtml;\n",
              "          element.appendChild(docLink);\n",
              "        }\n",
              "      </script>\n",
              "    </div>\n",
              "  </div>\n",
              "  "
            ]
          },
          "metadata": {},
          "execution_count": 43
        }
      ]
    },
    {
      "cell_type": "code",
      "source": [
        "BestuniversitiesUK[\"World_rank\"].describe()"
      ],
      "metadata": {
        "colab": {
          "base_uri": "https://localhost:8080/"
        },
        "id": "jriVXlt11EDK",
        "outputId": "97302994-0dfa-479d-8067-37d525902e87"
      },
      "execution_count": null,
      "outputs": [
        {
          "output_type": "execute_result",
          "data": {
            "text/plain": [
              "count     131.00000\n",
              "mean     1097.59542\n",
              "std      1145.00106\n",
              "min         2.00000\n",
              "25%       196.00000\n",
              "50%       691.00000\n",
              "75%      1569.00000\n",
              "max      5253.00000\n",
              "Name: World_rank, dtype: float64"
            ]
          },
          "metadata": {},
          "execution_count": 44
        }
      ]
    },
    {
      "cell_type": "code",
      "source": [
        "BestuniversitiesUK.std()"
      ],
      "metadata": {
        "colab": {
          "base_uri": "https://localhost:8080/"
        },
        "id": "QEp3CZVMdkyU",
        "outputId": "bc374c78-5fa2-415c-ef72-f5fc96d455ee"
      },
      "execution_count": null,
      "outputs": [
        {
          "output_type": "stream",
          "name": "stderr",
          "text": [
            "/usr/local/lib/python3.7/dist-packages/ipykernel_launcher.py:1: FutureWarning: Dropping of nuisance columns in DataFrame reductions (with 'numeric_only=None') is deprecated; in a future version this will raise TypeError.  Select only valid columns before calling the reduction.\n",
            "  \"\"\"Entry point for launching an IPython kernel.\n"
          ]
        },
        {
          "output_type": "execute_result",
          "data": {
            "text/plain": [
              "Founded_year                                      139.040187\n",
              "UK_rank                                            37.922158\n",
              "World_rank                                       1145.001060\n",
              "CWUR_score                                          6.351473\n",
              "Minimum_IELTS_score                                 0.617850\n",
              "UG_average_fees_(in_pounds)                      2555.318861\n",
              "PG_average_fees_(in_pounds)                      3106.398149\n",
              "Estimated_cost_of_living_per_year_(in_pounds)    1579.049538\n",
              "Latitude                                            1.638257\n",
              "Longitude                                           1.503049\n",
              "dtype: float64"
            ]
          },
          "metadata": {},
          "execution_count": 45
        }
      ]
    },
    {
      "cell_type": "code",
      "source": [
        "BestuniversitiesUK.min()"
      ],
      "metadata": {
        "colab": {
          "base_uri": "https://localhost:8080/"
        },
        "id": "BS1a6eKxdy6m",
        "outputId": "08f994c1-f054-40fa-adf8-2433f7a2db1a"
      },
      "execution_count": null,
      "outputs": [
        {
          "output_type": "stream",
          "name": "stderr",
          "text": [
            "/usr/local/lib/python3.7/dist-packages/ipykernel_launcher.py:1: FutureWarning: Dropping of nuisance columns in DataFrame reductions (with 'numeric_only=None') is deprecated; in a future version this will raise TypeError.  Select only valid columns before calling the reduction.\n",
            "  \"\"\"Entry point for launching an IPython kernel.\n"
          ]
        },
        {
          "output_type": "execute_result",
          "data": {
            "text/plain": [
              "University_name                                  Abertay University\n",
              "Region                                                East Midlands\n",
              "Founded_year                                                   1096\n",
              "UK_rank                                                           1\n",
              "World_rank                                                        2\n",
              "CWUR_score                                                     65.9\n",
              "Minimum_IELTS_score                                             4.0\n",
              "UG_average_fees_(in_pounds)                                    8350\n",
              "PG_average_fees_(in_pounds)                                    6000\n",
              "International_students                                        0.70%\n",
              "Student_satisfaction                                         66.10%\n",
              "Student_enrollment                                      1,000-1,999\n",
              "Academic_staff                                          1,000-1,499\n",
              "Control_type                                                Private\n",
              "Estimated_cost_of_living_per_year_(in_pounds)                  5500\n",
              "Latitude                                                    50.1713\n",
              "Longitude                                                   -6.6752\n",
              "Website                                                   aub.ac.uk\n",
              "dtype: object"
            ]
          },
          "metadata": {},
          "execution_count": 46
        }
      ]
    },
    {
      "cell_type": "code",
      "source": [
        "BestuniversitiesUK.max()"
      ],
      "metadata": {
        "colab": {
          "base_uri": "https://localhost:8080/"
        },
        "id": "I0IixBG_WfAe",
        "outputId": "548f71af-6604-4370-c04a-b12fc97ee64a"
      },
      "execution_count": null,
      "outputs": [
        {
          "output_type": "stream",
          "name": "stderr",
          "text": [
            "/usr/local/lib/python3.7/dist-packages/ipykernel_launcher.py:1: FutureWarning: Dropping of nuisance columns in DataFrame reductions (with 'numeric_only=None') is deprecated; in a future version this will raise TypeError.  Select only valid columns before calling the reduction.\n",
            "  \"\"\"Entry point for launching an IPython kernel.\n"
          ]
        },
        {
          "output_type": "execute_result",
          "data": {
            "text/plain": [
              "University_name                                   York St John University\n",
              "Region                                           Yorkshire and the Humber\n",
              "Founded_year                                                         2013\n",
              "UK_rank                                                               131\n",
              "World_rank                                                           5253\n",
              "CWUR_score                                                           94.1\n",
              "Minimum_IELTS_score                                                   6.5\n",
              "UG_average_fees_(in_pounds)                                         23500\n",
              "PG_average_fees_(in_pounds)                                         29900\n",
              "International_students                                              9.60%\n",
              "Student_satisfaction                                               87.90%\n",
              "Student_enrollment                                            9,000-9,999\n",
              "Academic_staff                                                 over-5,000\n",
              "Control_type                                                       Public\n",
              "Estimated_cost_of_living_per_year_(in_pounds)                       15000\n",
              "Latitude                                                          57.1648\n",
              "Longitude                                                          1.2967\n",
              "Website                                                     www2.le.ac.uk\n",
              "dtype: object"
            ]
          },
          "metadata": {},
          "execution_count": 47
        }
      ]
    },
    {
      "cell_type": "code",
      "source": [
        "BestuniversitiesUK['Region'].value_counts().plot(kind=\"pie\",autopct=\"%.3f\")\n",
        "plt.show()"
      ],
      "metadata": {
        "id": "mN7nATD61xbr",
        "colab": {
          "base_uri": "https://localhost:8080/",
          "height": 248
        },
        "outputId": "ad45331a-5960-4d7e-a04c-798c8397c5b0"
      },
      "execution_count": null,
      "outputs": [
        {
          "output_type": "display_data",
          "data": {
            "text/plain": [
              "<Figure size 432x288 with 1 Axes>"
            ],
            "image/png": "[encoded data removed]"
          },
          "metadata": {}
        }
      ]
    },
    {
      "cell_type": "code",
      "source": [
        "fig, ax = plt.subplots(figsize=(20, 8))\n",
        "sns.barplot(x=BestuniversitiesUK['Region'],y=BestuniversitiesUK['Estimated_cost_of_living_per_year_(in_pounds)'])\n",
        "plt.show()"
      ],
      "metadata": {
        "colab": {
          "base_uri": "https://localhost:8080/",
          "height": 497
        },
        "id": "omEZtaFcLLIl",
        "outputId": "8e3836ee-a6e7-4979-eaf0-d8e996fdf286"
      },
      "execution_count": null,
      "outputs": [
        {
          "output_type": "display_data",
          "data": {
            "text/plain": [
              "<Figure size 1440x576 with 1 Axes>"
            ],
            "image/png": "[encoded data removed]"
          },
          "metadata": {
            "needs_background": "light"
          }
        }
      ]
    },
    {
      "cell_type": "markdown",
      "source": [
        "Observations\n",
        "\n",
        "1.Universities are all spread over the UK.. most of the universities are found near London and least near Northern Ireland.\n",
        "2.No relation between rank and location.\n",
        "3.Cost of living is more in London"
      ],
      "metadata": {
        "id": "O-dPwk4LQIL5"
      }
    },
    {
      "cell_type": "code",
      "source": [
        "BestuniversitiesUK.groupby('Founded_year')['Founded_year'].count().plot(kind=\"pie\")"
      ],
      "metadata": {
        "colab": {
          "base_uri": "https://localhost:8080/",
          "height": 265
        },
        "id": "zadSSblTQ9hH",
        "outputId": "0a008744-2e08-434c-90e6-410a544eeec7"
      },
      "execution_count": null,
      "outputs": [
        {
          "output_type": "execute_result",
          "data": {
            "text/plain": [
              "<matplotlib.axes._subplots.AxesSubplot at 0x7f4f8bc6ae50>"
            ]
          },
          "metadata": {},
          "execution_count": 51
        },
        {
          "output_type": "display_data",
          "data": {
            "text/plain": [
              "<Figure size 432x288 with 1 Axes>"
            ],
            "image/png": "[encoded data removed]"
          },
          "metadata": {}
        }
      ]
    },
    {
      "cell_type": "markdown",
      "source": [
        "Observations\n",
        "\n",
        "1.Most of the uni was founed in 1992 (due to post 92 institution)\n",
        "2.Oldest Uni was founded at 1096"
      ],
      "metadata": {
        "id": "h_v0kr6JRgSz"
      }
    },
    {
      "cell_type": "code",
      "source": [
        "fig, ax = plt.subplots(figsize=(20, 8))\n",
        "sns.scatterplot(x=BestuniversitiesUK['World_rank'],y=BestuniversitiesUK['CWUR_score'],hue=BestuniversitiesUK['Region'])\n",
        "plt.show()"
      ],
      "metadata": {
        "colab": {
          "base_uri": "https://localhost:8080/",
          "height": 498
        },
        "id": "wwc8bRmDRZvB",
        "outputId": "782c467f-9355-4ef7-fd2e-34583c9eb391"
      },
      "execution_count": null,
      "outputs": [
        {
          "output_type": "display_data",
          "data": {
            "text/plain": [
              "<Figure size 1440x576 with 1 Axes>"
            ],
            "image/png": "[encoded data removed]"
          },
          "metadata": {
            "needs_background": "light"
          }
        }
      ]
    },
    {
      "cell_type": "markdown",
      "source": [
        "Observations\n",
        "\n",
        "\n",
        "1.World rank is low when CWUR_score is high.\n",
        "2.Top world ranks uni are in Urban region\n",
        "3.Region doesn't depend on ranking."
      ],
      "metadata": {
        "id": "NjsXZ6b_R7yt"
      }
    },
    {
      "cell_type": "code",
      "source": [
        "sns.scatterplot(x=BestuniversitiesUK['UK_rank'],y=BestuniversitiesUK['Minimum_IELTS_score'])\n",
        "plt.show()"
      ],
      "metadata": {
        "colab": {
          "base_uri": "https://localhost:8080/",
          "height": 280
        },
        "id": "Tju2anvKR5rN",
        "outputId": "2964cbbb-ba8b-4bcc-d9f1-4262c54d186d"
      },
      "execution_count": null,
      "outputs": [
        {
          "output_type": "display_data",
          "data": {
            "text/plain": [
              "<Figure size 432x288 with 1 Axes>"
            ],
            "image/png": "[encoded data removed]"
          },
          "metadata": {
            "needs_background": "light"
          }
        }
      ]
    },
    {
      "cell_type": "markdown",
      "source": [
        "\n",
        "Observations\n",
        "\n",
        "\n",
        "1.Top Uni have a minimum of 6.5 although some uni have accepted score as low of 5.5."
      ],
      "metadata": {
        "id": "8AhxTDIoShoQ"
      }
    },
    {
      "cell_type": "code",
      "source": [
        "fig,ax=plt.subplots(figsize=(10,8))\n",
        "sns.scatterplot(y=BestuniversitiesUK['UG_average_fees_(in_pounds)'],x=BestuniversitiesUK['UK_rank'],hue=BestuniversitiesUK['Region'])\n",
        "plt.show()"
      ],
      "metadata": {
        "colab": {
          "base_uri": "https://localhost:8080/",
          "height": 498
        },
        "id": "QibFWJoSSbVF",
        "outputId": "05b54a6d-6dfb-4390-f63b-8538b2851ac5"
      },
      "execution_count": null,
      "outputs": [
        {
          "output_type": "display_data",
          "data": {
            "text/plain": [
              "<Figure size 720x576 with 1 Axes>"
            ],
            "image/png": "[encoded data removed]"
          },
          "metadata": {
            "needs_background": "light"
          }
        }
      ]
    },
    {
      "cell_type": "code",
      "source": [
        "fig,ax=plt.subplots(figsize=(10,8))\n",
        "sns.scatterplot(y=BestuniversitiesUK['PG_average_fees_(in_pounds)'],x=BestuniversitiesUK['UK_rank'],hue=BestuniversitiesUK['Region'])\n",
        "plt.show()\n"
      ],
      "metadata": {
        "colab": {
          "base_uri": "https://localhost:8080/",
          "height": 498
        },
        "id": "MyENfnU6TP2N",
        "outputId": "90cabdcd-abdc-4ebe-9bc8-85d357f7b4a1"
      },
      "execution_count": null,
      "outputs": [
        {
          "output_type": "display_data",
          "data": {
            "text/plain": [
              "<Figure size 720x576 with 1 Axes>"
            ],
            "image/png": "[encoded data removed]"
          },
          "metadata": {
            "needs_background": "light"
          }
        }
      ]
    },
    {
      "cell_type": "markdown",
      "source": [
        "Observations\n",
        "\n",
        "1.UG and PG Fees are very similar in behaviour\n",
        "\n",
        "2.Fees are generally high in top ranking university and also uni in London are expensive compared to other regions."
      ],
      "metadata": {
        "id": "jqmlSfbfTtrt"
      }
    }
  ]
}